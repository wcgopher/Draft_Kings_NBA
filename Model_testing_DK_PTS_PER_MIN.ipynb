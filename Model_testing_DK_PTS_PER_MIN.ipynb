{
 "cells": [
  {
   "cell_type": "code",
   "execution_count": 1,
   "metadata": {
    "collapsed": true
   },
   "outputs": [],
   "source": [
    "import pandas as pd\n",
    "import numpy as np"
   ]
  },
  {
   "cell_type": "code",
   "execution_count": 2,
   "metadata": {
    "collapsed": true
   },
   "outputs": [],
   "source": [
    "data = pd.read_pickle('player_2016_2018.pkl')"
   ]
  },
  {
   "cell_type": "code",
   "execution_count": 3,
   "metadata": {
    "collapsed": true
   },
   "outputs": [],
   "source": [
    "data['DK_SAL'] = pd.to_numeric(data['DK_SAL'])\n",
    "data['VALUE'] = pd.to_numeric(data['VALUE'])\n",
    "data['FAVORITE'] = data['FAVORITE'].astype(int)\n",
    "data['SPREAD_10+'] = data['SPREAD_10+'].astype(int)"
   ]
  },
  {
   "cell_type": "code",
   "execution_count": 4,
   "metadata": {},
   "outputs": [
    {
     "data": {
      "text/plain": [
       "Index(['POSITION', 'ROAD_HOME', 'MINUTES_roll3', 'MINUTES_roll5',\n",
       "       'MINUTES_roll10', 'MINUTES_roll25', 'DraftKings_PTS_roll3',\n",
       "       'DraftKings_PTS_roll5', 'DraftKings_PTS_roll10',\n",
       "       'DraftKings_PTS_roll25', 'USAGE_roll3', 'USAGE_roll5', 'USAGE_roll10',\n",
       "       'USAGE_roll25', 'REST DAYS', 'OPENING TOTAL', 'FAVORITE', 'SPREAD_10+',\n",
       "       'PACE_roll3', 'PACE_roll5', 'PACE_roll10', 'PACE_roll25', 'OEFF_roll3',\n",
       "       'OEFF_roll5', 'OEFF_roll10', 'OEFF_roll25', 'DEFF_roll3', 'DEFF_roll5',\n",
       "       'DEFF_roll10', 'DEFF_roll25', 'opp_C_allowed_roll3',\n",
       "       'opp_C_allowed_roll5', 'opp_C_allowed_roll10', 'opp_C_allowed_roll25',\n",
       "       'opp_PF_allowed_roll3', 'opp_PF_allowed_roll5', 'opp_PF_allowed_roll10',\n",
       "       'opp_PF_allowed_roll25', 'opp_PG_allowed_roll3', 'opp_PG_allowed_roll5',\n",
       "       'opp_PG_allowed_roll10', 'opp_PG_allowed_roll25',\n",
       "       'opp_SF_allowed_roll3', 'opp_SF_allowed_roll5', 'opp_SF_allowed_roll10',\n",
       "       'opp_SF_allowed_roll25', 'opp_SG_allowed_roll3', 'opp_SG_allowed_roll5',\n",
       "       'opp_SG_allowed_roll10', 'opp_SG_allowed_roll25', 'opp_PACE_roll3',\n",
       "       'opp_PACE_roll5', 'opp_PACE_roll10', 'opp_PACE_roll25',\n",
       "       'opp_OEFF_roll3', 'opp_OEFF_roll5', 'opp_OEFF_roll10',\n",
       "       'opp_OEFF_roll25', 'opp_DEFF_roll3', 'opp_DEFF_roll5',\n",
       "       'opp_DEFF_roll10', 'opp_DEFF_roll25', 'Start', 'DK_PTS_PER_MIN'],\n",
       "      dtype='object')"
      ]
     },
     "execution_count": 4,
     "metadata": {},
     "output_type": "execute_result"
    }
   ],
   "source": [
    "data = data.drop(['DK_SAL','DATE', 'PLAYER', 'TEAM', 'OPPONENT','C_DK_PTS', 'PF_DK_PTS', 'PG_DK_PTS',\n",
    "       'SF_DK_PTS', 'SG_DK_PTS', 'opp_C_allowed', 'opp_PF_allowed',\n",
    "       'opp_PG_allowed', 'opp_SF_allowed', 'opp_SG_allowed','DraftKings_PTS',\n",
    "                  'PACE', 'OEFF', 'DEFF','MINUTES','USAGE', 'VALUE'],axis=1)\n",
    "data.columns"
   ]
  },
  {
   "cell_type": "code",
   "execution_count": 5,
   "metadata": {
    "collapsed": true
   },
   "outputs": [],
   "source": [
    "data = pd.get_dummies(data)"
   ]
  },
  {
   "cell_type": "code",
   "execution_count": 6,
   "metadata": {
    "collapsed": true
   },
   "outputs": [],
   "source": [
    "data = data.dropna()"
   ]
  },
  {
   "cell_type": "code",
   "execution_count": 25,
   "metadata": {
    "collapsed": true
   },
   "outputs": [],
   "source": [
    "import sklearn\n",
    "from sklearn.ensemble import RandomForestRegressor\n",
    "from sklearn.ensemble import GradientBoostingRegressor\n",
    "from sklearn.linear_model import LinearRegression\n",
    "from sklearn.linear_model import LogisticRegression\n",
    "from sklearn.linear_model import Lasso\n",
    "from sklearn.linear_model import Ridge\n",
    "from sklearn.svm import SVR\n",
    "from sklearn.linear_model import BayesianRidge\n",
    "from sklearn.neighbors import KNeighborsRegressor\n",
    "from sklearn.tree import DecisionTreeRegressor\n",
    "\n",
    "from sklearn.model_selection import train_test_split\n",
    "from sklearn.preprocessing import StandardScaler\n",
    "from sklearn.preprocessing import MinMaxScaler\n",
    "from sklearn.preprocessing import scale\n",
    "%matplotlib inline"
   ]
  },
  {
   "cell_type": "code",
   "execution_count": 8,
   "metadata": {
    "collapsed": true
   },
   "outputs": [],
   "source": [
    "X_train, X_test = train_test_split(data, test_size=0.2,shuffle=False)\n",
    "\n"
   ]
  },
  {
   "cell_type": "code",
   "execution_count": 9,
   "metadata": {
    "collapsed": true
   },
   "outputs": [],
   "source": [
    "y_train = X_train.pop('DK_PTS_PER_MIN')\n",
    "y_test = X_test.pop('DK_PTS_PER_MIN')"
   ]
  },
  {
   "cell_type": "code",
   "execution_count": null,
   "metadata": {
    "collapsed": true
   },
   "outputs": [],
   "source": []
  },
  {
   "cell_type": "code",
   "execution_count": 10,
   "metadata": {
    "collapsed": true
   },
   "outputs": [],
   "source": [
    "MinMaxScaler = MinMaxScaler()\n",
    "StandardScaler = StandardScaler()"
   ]
  },
  {
   "cell_type": "code",
   "execution_count": 11,
   "metadata": {
    "collapsed": true
   },
   "outputs": [],
   "source": [
    "X_train_scaled = pd.DataFrame(scale(X_train))\n",
    "X_test_scaled = pd.DataFrame(scale(X_test))"
   ]
  },
  {
   "cell_type": "code",
   "execution_count": null,
   "metadata": {
    "collapsed": true
   },
   "outputs": [],
   "source": []
  },
  {
   "cell_type": "code",
   "execution_count": 26,
   "metadata": {
    "collapsed": true
   },
   "outputs": [],
   "source": [
    "forest = RandomForestRegressor(oob_score=True, n_jobs=-1)\n",
    "gradient = GradientBoostingRegressor()\n",
    "LinReg = LinearRegression(n_jobs=-1)\n",
    "LogReg = LogisticRegression(n_jobs=-1)\n",
    "Lasso = sklearn.linear_model.Lasso()\n",
    "Ridge = sklearn.linear_model.Ridge()\n",
    "SVR = SVR()\n",
    "BayesRidge = BayesianRidge()\n",
    "knn = KNeighborsRegressor()\n",
    "tree = DecisionTreeRegressor()"
   ]
  },
  {
   "cell_type": "code",
   "execution_count": 27,
   "metadata": {},
   "outputs": [
    {
     "data": {
      "text/plain": [
       "DecisionTreeRegressor(criterion='mse', max_depth=None, max_features=None,\n",
       "           max_leaf_nodes=None, min_impurity_decrease=0.0,\n",
       "           min_impurity_split=None, min_samples_leaf=1,\n",
       "           min_samples_split=2, min_weight_fraction_leaf=0.0,\n",
       "           presort=False, random_state=None, splitter='best')"
      ]
     },
     "execution_count": 27,
     "metadata": {},
     "output_type": "execute_result"
    }
   ],
   "source": [
    "forest.fit(X_train_scaled,y_train)\n",
    "gradient.fit(X_train_scaled,y_train)\n",
    "LinReg.fit(X_train_scaled,y_train)\n",
    "# LogReg.fit(X_train_scaled,y_train)\n",
    "Lasso.fit(X_train_scaled,y_train)\n",
    "Ridge.fit(X_train_scaled,y_train)\n",
    "SVR.fit(X_train_scaled,y_train)\n",
    "BayesRidge.fit(X_train_scaled,y_train)\n",
    "KNeighborsRegressor.fit(knn,X_train_scaled,y_train)\n",
    "DecisionTreeRegressor.fit(tree,X_train_scaled,y_train)"
   ]
  },
  {
   "cell_type": "code",
   "execution_count": 28,
   "metadata": {
    "collapsed": true
   },
   "outputs": [],
   "source": [
    "# y_oob_forest = forest.predict(X_test_scaled)\n",
    "# y_oob_gradient = gradient.predict(X_test_scaled)\n",
    "# y_oob_LinReg = LinReg.predict(X_test_scaled)\n",
    "# y_oob_Lasso = Lasso.predict(X_test_scaled)\n",
    "# y_oob_Ridge = Ridge.predict(X_test_scaled)\n",
    "# y_oob_SVR = SVR.predict(X_test_scaled)\n",
    "# y_oob_Bayes = BayesRidge.predict(X_test_scaled)\n",
    "y_oob_knn = KNeighborsRegressor.predict(knn,X_test_scaled)\n",
    "y_oob_tree = DecisionTreeRegressor.predict(tree,X_test_scaled)\n",
    "\n",
    "\n"
   ]
  },
  {
   "cell_type": "code",
   "execution_count": null,
   "metadata": {
    "collapsed": true
   },
   "outputs": [],
   "source": [
    "# y_oob"
   ]
  },
  {
   "cell_type": "code",
   "execution_count": 18,
   "metadata": {},
   "outputs": [
    {
     "name": "stdout",
     "output_type": "stream",
     "text": [
      "KNN:  0.0289181189003\n"
     ]
    }
   ],
   "source": [
    "from sklearn.metrics import explained_variance_score\n",
    "# print('Forest: ', explained_variance_score(y_test,y_oob_forest))\n",
    "# print('Gradient: ', explained_variance_score(y_test,y_oob_gradient))\n",
    "# print('LinReg: ', explained_variance_score(y_test,y_oob_LinReg))\n",
    "# print('Lasso: ', explained_variance_score(y_test,y_oob_Lasso))\n",
    "# print('Ridge: ', explained_variance_score(y_test,y_oob_Ridge))\n",
    "# print('SVR: ', explained_variance_score(y_test,y_oob_SVR))\n",
    "# print('BayesRidge: ', explained_variance_score(y_test,y_oob_Bayes))\n",
    "print('KNN: ', explained_variance_score(y_test,y_oob_knn))\n",
    "print('DTree: ', explained_variance_score(y_test,y_oob_tree))\n",
    "\n",
    "\n"
   ]
  },
  {
   "cell_type": "code",
   "execution_count": 19,
   "metadata": {},
   "outputs": [
    {
     "name": "stdout",
     "output_type": "stream",
     "text": [
      "KNN:  0.30484394268\n"
     ]
    }
   ],
   "source": [
    "from sklearn.metrics import mean_absolute_error\n",
    "# print('Forest: ', mean_absolute_error(y_test,y_oob_forest))\n",
    "# print('Gradient: ', mean_absolute_error(y_test,y_oob_gradient))\n",
    "# print('LinReg: ', mean_absolute_error(y_test,y_oob_LinReg))\n",
    "# print('Lasso: ', mean_absolute_error(y_test,y_oob_Lasso))\n",
    "# print('Ridge: ', mean_absolute_error(y_test,y_oob_Ridge))\n",
    "# print('SVR: ', mean_absolute_error(y_test,y_oob_SVR))\n",
    "# print('BayesRidge: ', mean_absolute_error(y_test,y_oob_Bayes))\n",
    "print('KNN: ', mean_absolute_error(y_test,y_oob_knn))\n",
    "print('DTree: ', mean_absolute_error(y_test,y_oob_tree))\n",
    "\n",
    "\n"
   ]
  },
  {
   "cell_type": "code",
   "execution_count": 20,
   "metadata": {},
   "outputs": [
    {
     "name": "stdout",
     "output_type": "stream",
     "text": [
      "KNN:  0.165566232356\n"
     ]
    }
   ],
   "source": [
    "from sklearn.metrics import mean_squared_error\n",
    "# print('Forest: ', mean_squared_error(y_test,y_oob_forest))\n",
    "# print('Gradient: ', mean_squared_error(y_test,y_oob_gradient))\n",
    "# print('LinReg: ', mean_squared_error(y_test,y_oob_LinReg))\n",
    "# print('Lasso: ', mean_squared_error(y_test,y_oob_Lasso))\n",
    "# print('Ridge: ', mean_squared_error(y_test,y_oob_Ridge))\n",
    "# print('SVR: ', mean_squared_error(y_test,y_oob_SVR))\n",
    "# print('BayesRidge: ', mean_squared_error(y_test,y_oob_Bayes))\n",
    "print('KNN: ', mean_squared_error(y_test,y_oob_knn))\n",
    "print('DTree: ', mean_squared_error(y_test,y_oob_tree))\n",
    "\n",
    "\n"
   ]
  },
  {
   "cell_type": "code",
   "execution_count": 21,
   "metadata": {},
   "outputs": [
    {
     "name": "stdout",
     "output_type": "stream",
     "text": [
      "KNN:  0.406898307143\n"
     ]
    }
   ],
   "source": [
    "# print('Forest: ', np.sqrt(mean_squared_error(y_test,y_oob_forest)))\n",
    "# print('Gradient: ', np.sqrt(mean_squared_error(y_test,y_oob_gradient)))\n",
    "# print('LinReg: ', np.sqrt(mean_squared_error(y_test,y_oob_LinReg)))\n",
    "# print('Lasso: ', np.sqrt(mean_squared_error(y_test,y_oob_Lasso)))\n",
    "# print('Ridge: ', np.sqrt(mean_squared_error(y_test,y_oob_Ridge)))\n",
    "# print('SVR: ', np.sqrt(mean_squared_error(y_test,y_oob_SVR)))\n",
    "print('KNN: ', np.sqrt(mean_squared_error(y_test,y_oob_knn)))\n",
    "print('DTree: ', np.sqrt(mean_squared_error(y_test,y_oob_tree)))\n",
    "\n"
   ]
  },
  {
   "cell_type": "code",
   "execution_count": null,
   "metadata": {
    "collapsed": true,
    "scrolled": false
   },
   "outputs": [],
   "source": [
    "#from ipykernel import kernelapp as app\n",
    "\n",
    "feature_importances_forest = pd.Series(forest.feature_importances_, index=X_train.columns)\n",
    "print(feature_importances_forest)\n",
    "feature_importances_forest.sort_values(inplace=True)\n",
    "feature_importances_forest.plot(kind='barh', figsize=(10,20))"
   ]
  },
  {
   "cell_type": "code",
   "execution_count": null,
   "metadata": {
    "collapsed": true,
    "scrolled": false
   },
   "outputs": [],
   "source": [
    "feature_importances_gradient = pd.Series(gradient.feature_importances_, index=X_train.columns)\n",
    "print(feature_importances_gradient)\n",
    "feature_importances_gradient.sort_values(inplace=True)\n",
    "feature_importances_gradient.plot(kind='barh', figsize=(10,20))"
   ]
  },
  {
   "cell_type": "code",
   "execution_count": null,
   "metadata": {
    "collapsed": true
   },
   "outputs": [],
   "source": [
    "predicted_X = SVR.predict(X_test)"
   ]
  },
  {
   "cell_type": "code",
   "execution_count": null,
   "metadata": {
    "collapsed": true
   },
   "outputs": [],
   "source": [
    "print('SVR: ', mean_absolute_error(y_test,predicted_X))\n",
    "\n"
   ]
  },
  {
   "cell_type": "code",
   "execution_count": null,
   "metadata": {
    "collapsed": true
   },
   "outputs": [],
   "source": []
  },
  {
   "cell_type": "code",
   "execution_count": null,
   "metadata": {
    "collapsed": true
   },
   "outputs": [],
   "source": []
  }
 ],
 "metadata": {
  "kernelspec": {
   "display_name": "Python 3",
   "language": "python",
   "name": "python3"
  },
  "language_info": {
   "codemirror_mode": {
    "name": "ipython",
    "version": 3
   },
   "file_extension": ".py",
   "mimetype": "text/x-python",
   "name": "python",
   "nbconvert_exporter": "python",
   "pygments_lexer": "ipython3",
   "version": "3.6.3"
  }
 },
 "nbformat": 4,
 "nbformat_minor": 2
}
