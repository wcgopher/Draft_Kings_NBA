{
 "cells": [
  {
   "cell_type": "code",
   "execution_count": 1,
   "metadata": {
    "collapsed": true
   },
   "outputs": [],
   "source": [
    "import pandas as pd\n",
    "import numpy as np"
   ]
  },
  {
   "cell_type": "code",
   "execution_count": 2,
   "metadata": {},
   "outputs": [
    {
     "data": {
      "text/plain": [
       "Index(['DATE', 'PLAYER', 'TEAM', 'POSITION', 'DK_SAL', 'DK_PTS_PER_MIN',\n",
       "       'MINUTES', 'DraftKings_PTS', 'y_oob_forest'],\n",
       "      dtype='object')"
      ]
     },
     "execution_count": 2,
     "metadata": {},
     "output_type": "execute_result"
    }
   ],
   "source": [
    "data = pd.read_pickle('Prediction_master_number_attempt.pkl')\n",
    "data.columns"
   ]
  },
  {
   "cell_type": "code",
   "execution_count": 3,
   "metadata": {
    "collapsed": true
   },
   "outputs": [],
   "source": [
    "dates = data.DATE.unique()"
   ]
  },
  {
   "cell_type": "code",
   "execution_count": 4,
   "metadata": {
    "collapsed": true
   },
   "outputs": [],
   "source": [
    "day = data.loc[(data.DATE == '02/16/2018')]\n",
    "\n",
    "day"
   ]
  },
  {
   "cell_type": "code",
   "execution_count": 5,
   "metadata": {},
   "outputs": [
    {
     "name": "stderr",
     "output_type": "stream",
     "text": [
      "/Users/willhall/anaconda3/lib/python3.6/site-packages/ipykernel_launcher.py:1: SettingWithCopyWarning: \n",
      "A value is trying to be set on a copy of a slice from a DataFrame\n",
      "\n",
      "See the caveats in the documentation: http://pandas.pydata.org/pandas-docs/stable/indexing.html#indexing-view-versus-copy\n",
      "  \"\"\"Entry point for launching an IPython kernel.\n"
     ]
    },
    {
     "data": {
      "text/html": [
       "<div>\n",
       "<style>\n",
       "    .dataframe thead tr:only-child th {\n",
       "        text-align: right;\n",
       "    }\n",
       "\n",
       "    .dataframe thead th {\n",
       "        text-align: left;\n",
       "    }\n",
       "\n",
       "    .dataframe tbody tr th {\n",
       "        vertical-align: top;\n",
       "    }\n",
       "</style>\n",
       "<table border=\"1\" class=\"dataframe\">\n",
       "  <thead>\n",
       "    <tr style=\"text-align: right;\">\n",
       "      <th></th>\n",
       "      <th>DATE</th>\n",
       "      <th>PLAYER</th>\n",
       "      <th>TEAM</th>\n",
       "      <th>POSITION</th>\n",
       "      <th>DK_SAL</th>\n",
       "      <th>DK_PTS_PER_MIN</th>\n",
       "      <th>MINUTES</th>\n",
       "      <th>DraftKings_PTS</th>\n",
       "      <th>y_oob_forest</th>\n",
       "    </tr>\n",
       "  </thead>\n",
       "  <tbody>\n",
       "  </tbody>\n",
       "</table>\n",
       "</div>"
      ],
      "text/plain": [
       "Empty DataFrame\n",
       "Columns: [DATE, PLAYER, TEAM, POSITION, DK_SAL, DK_PTS_PER_MIN, MINUTES, DraftKings_PTS, y_oob_forest]\n",
       "Index: []"
      ]
     },
     "execution_count": 5,
     "metadata": {},
     "output_type": "execute_result"
    }
   ],
   "source": [
    "day.sort_values('y_oob_forest', ascending = False, inplace=True)\n",
    "\n",
    "day"
   ]
  },
  {
   "cell_type": "code",
   "execution_count": null,
   "metadata": {
    "collapsed": true
   },
   "outputs": [],
   "source": []
  },
  {
   "cell_type": "code",
   "execution_count": null,
   "metadata": {
    "collapsed": true
   },
   "outputs": [],
   "source": [
    "# 0 = index\n",
    "# 1 = Date\n",
    "# 2 = Name\n",
    "# 3 = Team\n",
    "# 4 = Position\n",
    "# 5 = DK_SAL\n",
    "# 6 = DraftKings_PTS\n",
    "# 7 = DK_PTS_pred\n",
    "# 8 = VALUE\n",
    "# 9 = VALUE_pred\n",
    "# 10 = CAP_HIT\n",
    "# 11 = CAP_VALUE\n",
    "# 12 = CAP_VALUE_pred\n",
    "# 13 = magic_number\n",
    "# 14 = magic_number_pred\n",
    "# 15 = add"
   ]
  },
  {
   "cell_type": "code",
   "execution_count": null,
   "metadata": {
    "collapsed": true
   },
   "outputs": [],
   "source": []
  },
  {
   "cell_type": "code",
   "execution_count": null,
   "metadata": {
    "collapsed": true
   },
   "outputs": [],
   "source": []
  },
  {
   "cell_type": "code",
   "execution_count": null,
   "metadata": {},
   "outputs": [],
   "source": [
    "budget = 50000\n",
    "spots = 8\n",
    "roster = []\n",
    "positions = []\n",
    "needs = {'PG': 1,'SG': 1,'SF': 1,'PF': 1,'C': 1,'PG_SG': 1,'SF_PF': 1 ,'Util': 1}\n",
    "pred_output = []\n",
    "output = []\n",
    "spent = 0\n",
    "while spots >= 1:\n",
    "    for line in day.itertuples():\n",
    "        if line[5] <= (budget/spots):   #6250\n",
    "            if line[2] not in roster:\n",
    "                if line[4] == 'PG':\n",
    "                    if needs['PG'] == 1:\n",
    "                        roster.append(line[2])\n",
    "                        positions.append(line[4])\n",
    "                        needs['PG'] -= 1\n",
    "                        break\n",
    "                    if needs['PG_SG'] == 1:\n",
    "                        roster.append(line[2])\n",
    "                        positions.append(line[4])\n",
    "                        needs['PG_SG'] -= 1\n",
    "                        break\n",
    "                    if needs['Util'] == 1:\n",
    "                        roster.append(line[2])\n",
    "                        positions.append(line[4])\n",
    "                        needs['Util'] -= 1\n",
    "                        break\n",
    "                    else:\n",
    "                        continue\n",
    "                if line[4] == 'SG':\n",
    "                    if needs['SG'] == 1:\n",
    "                        roster.append(line[2])\n",
    "                        positions.append(line[4])\n",
    "                        needs['SG'] -= 1\n",
    "                        break\n",
    "                    if needs['PG_SG'] == 1:\n",
    "                        roster.append(line[2])\n",
    "                        positions.append(line[4])\n",
    "                        needs['PG_SG'] -= 1\n",
    "                        break\n",
    "                    if needs['Util'] == 1:\n",
    "                        roster.append(line[2])\n",
    "                        positions.append(line[4])\n",
    "                        needs['Util'] -= 1\n",
    "                        break\n",
    "                    else:\n",
    "                        continue\n",
    "                if line[4] == 'SF':\n",
    "                    if needs['SF'] == 1:\n",
    "                        roster.append(line[2])\n",
    "                        positions.append(line[4])\n",
    "                        needs['SF'] -= 1\n",
    "                        break\n",
    "                    if needs['SF_PF'] == 1:\n",
    "                        roster.append(line[2])\n",
    "                        positions.append(line[4])\n",
    "                        needs['SF_PF'] -= 1\n",
    "                        break\n",
    "                    if needs['Util'] == 1:\n",
    "                        roster.append(line[2])\n",
    "                        positions.append(line[4])\n",
    "                        needs['Util'] -= 1\n",
    "                        break\n",
    "                    else:\n",
    "                        continue\n",
    "                if line[4] == 'PF':\n",
    "                    if needs['PF'] == 1:\n",
    "                        roster.append(line[2])\n",
    "                        positions.append(line[4])\n",
    "                        needs['PF'] -= 1\n",
    "                        break\n",
    "                    if needs['SF_PF'] == 1:\n",
    "                        roster.append(line[2])\n",
    "                        positions.append(line[4])\n",
    "                        needs['SF_PF'] -= 1\n",
    "                        break\n",
    "                    if needs['Util'] == 1:\n",
    "                        roster.append(line[2])\n",
    "                        positions.append(line[4])\n",
    "                        needs['Util'] -= 1\n",
    "                        break\n",
    "                    else:\n",
    "                        continue\n",
    "                if line[4] == 'C':\n",
    "                    if needs['C'] == 1:\n",
    "                        roster.append(line[2])\n",
    "                        positions.append(line[4])\n",
    "                        needs['C'] -= 1\n",
    "                        break\n",
    "                    if needs['Util'] == 1:\n",
    "                        roster.append(line[2])\n",
    "                        positions.append(line[4])\n",
    "                        needs['Util'] -= 1\n",
    "                        break\n",
    "                    else:\n",
    "                        continue\n",
    "\n",
    "    budget -= line[5]\n",
    "    spots -= 1\n",
    "    spent += line[5]\n",
    "#     pred_output.append(line[7])\n",
    "    output.append(line[8])\n",
    "    \n",
    "print('Budget used: ',spent)\n",
    "print(positions)\n",
    "# print('Predicted team output: ',sum(pred_output))\n",
    "print('Actual team output: ',sum(output))\n",
    "roster"
   ]
  },
  {
   "cell_type": "code",
   "execution_count": null,
   "metadata": {
    "collapsed": true
   },
   "outputs": [],
   "source": []
  },
  {
   "cell_type": "code",
   "execution_count": null,
   "metadata": {
    "collapsed": true
   },
   "outputs": [],
   "source": []
  },
  {
   "cell_type": "code",
   "execution_count": null,
   "metadata": {
    "collapsed": true
   },
   "outputs": [],
   "source": []
  },
  {
   "cell_type": "code",
   "execution_count": null,
   "metadata": {
    "collapsed": true
   },
   "outputs": [],
   "source": []
  },
  {
   "cell_type": "code",
   "execution_count": null,
   "metadata": {
    "collapsed": true
   },
   "outputs": [],
   "source": []
  },
  {
   "cell_type": "code",
   "execution_count": null,
   "metadata": {
    "collapsed": true
   },
   "outputs": [],
   "source": []
  },
  {
   "cell_type": "code",
   "execution_count": null,
   "metadata": {
    "collapsed": true
   },
   "outputs": [],
   "source": []
  }
 ],
 "metadata": {
  "kernelspec": {
   "display_name": "Python 3",
   "language": "python",
   "name": "python3"
  },
  "language_info": {
   "codemirror_mode": {
    "name": "ipython",
    "version": 3
   },
   "file_extension": ".py",
   "mimetype": "text/x-python",
   "name": "python",
   "nbconvert_exporter": "python",
   "pygments_lexer": "ipython3",
   "version": "3.6.3"
  }
 },
 "nbformat": 4,
 "nbformat_minor": 2
}
