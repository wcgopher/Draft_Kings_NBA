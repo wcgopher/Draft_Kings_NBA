{
 "cells": [
  {
   "cell_type": "code",
   "execution_count": 1,
   "metadata": {
    "collapsed": true
   },
   "outputs": [],
   "source": [
    "import pandas as pd\n",
    "import numpy as np\n",
    "%matplotlib inline"
   ]
  },
  {
   "cell_type": "code",
   "execution_count": 2,
   "metadata": {
    "collapsed": true
   },
   "outputs": [],
   "source": [
    "data = pd.read_pickle('player_2016_2018.pkl')\n",
    "data = data.dropna()"
   ]
  },
  {
   "cell_type": "code",
   "execution_count": 3,
   "metadata": {
    "collapsed": true
   },
   "outputs": [],
   "source": [
    "data['DK_SAL'] = pd.to_numeric(data['DK_SAL'])\n",
    "data['VALUE'] = pd.to_numeric(data['VALUE'])\n",
    "data['FAVORITE'] = data['FAVORITE'].astype(int)\n",
    "data['SPREAD_10+'] = data['SPREAD_10+'].astype(int)"
   ]
  },
  {
   "cell_type": "code",
   "execution_count": 4,
   "metadata": {
    "collapsed": true
   },
   "outputs": [],
   "source": [
    "\n",
    "# data['CAP_HIT'] = data['DK_SAL'] / 50000\n",
    "\n",
    "# data['CAP_VALUE'] = data['DraftKings_PTS'] / data['CAP_HIT'] / 100\n",
    "\n",
    "data['magic_number'] = data['DraftKings_PTS'] * data['VALUE']\n",
    "\n",
    "# data['magic_number_2'] = data['DraftKings_PTS'] * data['CAP_VALUE']\n",
    "\n",
    "# data['something'] = data['magic_number_2'] / data['magic_number']"
   ]
  },
  {
   "cell_type": "code",
   "execution_count": 6,
   "metadata": {},
   "outputs": [
    {
     "data": {
      "text/plain": [
       "count    50188.000000\n",
       "mean        11.338981\n",
       "std         11.123978\n",
       "min          0.000000\n",
       "25%          2.781401\n",
       "50%          8.268750\n",
       "75%         16.640988\n",
       "max        134.960145\n",
       "Name: magic_number, dtype: float64"
      ]
     },
     "execution_count": 6,
     "metadata": {},
     "output_type": "execute_result"
    }
   ],
   "source": [
    "data.magic_number.describe()"
   ]
  },
  {
   "cell_type": "code",
   "execution_count": null,
   "metadata": {
    "collapsed": true
   },
   "outputs": [],
   "source": [
    "data = data.drop(['DK_SAL','DATE', 'PLAYER', 'TEAM', 'OPPONENT','C_DK_PTS', 'PF_DK_PTS', 'PG_DK_PTS',\n",
    "       'SF_DK_PTS', 'SG_DK_PTS', 'opp_C_allowed', 'opp_PF_allowed',\n",
    "       'opp_PG_allowed', 'opp_SF_allowed', 'opp_SG_allowed','DraftKings_PTS',\n",
    "                  'PACE', 'OEFF', 'DEFF','MINUTES','USAGE', 'VALUE','DK_PTS_PER_MIN','CAP_HIT', 'CAP_VALUE'],axis=1)\n",
    "data.head()"
   ]
  },
  {
   "cell_type": "code",
   "execution_count": null,
   "metadata": {
    "collapsed": true
   },
   "outputs": [],
   "source": [
    "data = pd.get_dummies(data)"
   ]
  },
  {
   "cell_type": "code",
   "execution_count": null,
   "metadata": {
    "collapsed": true
   },
   "outputs": [],
   "source": [
    "import sklearn\n",
    "from sklearn.ensemble import RandomForestRegressor\n",
    "from sklearn.ensemble import GradientBoostingRegressor\n",
    "from sklearn.linear_model import LinearRegression\n",
    "from sklearn.linear_model import LogisticRegression\n",
    "from sklearn.linear_model import Lasso\n",
    "from sklearn.linear_model import Ridge\n",
    "from sklearn.svm import SVR\n",
    "from sklearn.linear_model import BayesianRidge\n",
    "from sklearn.neighbors import KNeighborsRegressor\n",
    "from sklearn.tree import DecisionTreeRegressor\n",
    "\n",
    "from sklearn.model_selection import train_test_split\n",
    "from sklearn.preprocessing import StandardScaler\n",
    "from sklearn.preprocessing import MinMaxScaler\n",
    "from sklearn.preprocessing import scale\n",
    "%matplotlib inline"
   ]
  },
  {
   "cell_type": "code",
   "execution_count": null,
   "metadata": {
    "collapsed": true
   },
   "outputs": [],
   "source": [
    "X_train, X_test = train_test_split(data, test_size=0.2,shuffle=False)\n",
    "\n"
   ]
  },
  {
   "cell_type": "code",
   "execution_count": null,
   "metadata": {
    "collapsed": true
   },
   "outputs": [],
   "source": [
    "y_train = X_train.pop('magic_number')\n",
    "y_test = X_test.pop('magic_number')"
   ]
  },
  {
   "cell_type": "code",
   "execution_count": null,
   "metadata": {
    "collapsed": true
   },
   "outputs": [],
   "source": [
    "X_train_scaled = pd.DataFrame(scale(X_train))\n",
    "X_test_scaled = pd.DataFrame(scale(X_test))"
   ]
  },
  {
   "cell_type": "code",
   "execution_count": null,
   "metadata": {
    "collapsed": true
   },
   "outputs": [],
   "source": [
    "forest = RandomForestRegressor(oob_score=True, n_jobs=-1)\n",
    "# gradient = GradientBoostingRegressor()\n",
    "# LinReg = LinearRegression(n_jobs=-1)\n",
    "# LogReg = LogisticRegression(n_jobs=-1)\n",
    "# Lasso = sklearn.linear_model.Lasso()\n",
    "# Ridge = sklearn.linear_model.Ridge()\n",
    "# SVR = SVR()\n",
    "# BayesRidge = BayesianRidge()\n",
    "# knn = KNeighborsRegressor()\n",
    "# tree = DecisionTreeRegressor()"
   ]
  },
  {
   "cell_type": "code",
   "execution_count": null,
   "metadata": {
    "collapsed": true
   },
   "outputs": [],
   "source": [
    "forest.fit(X_train_scaled,y_train)\n",
    "# gradient.fit(X_train_scaled,y_train)\n",
    "# LinReg.fit(X_train_scaled,y_train)\n",
    "# # LogReg.fit(X_train_scaled,y_train)\n",
    "# Lasso.fit(X_train_scaled,y_train)\n",
    "# Ridge.fit(X_train_scaled,y_train)\n",
    "# SVR.fit(X_train_scaled,y_train)\n",
    "# BayesRidge.fit(X_train_scaled,y_train)\n",
    "# KNeighborsRegressor.fit(knn,X_train_scaled,y_train)\n",
    "# DecisionTreeRegressor.fit(tree,X_train_scaled,y_train)"
   ]
  },
  {
   "cell_type": "code",
   "execution_count": null,
   "metadata": {
    "collapsed": true
   },
   "outputs": [],
   "source": [
    "y_oob_forest = forest.predict(X_test_scaled)\n",
    "# y_oob_gradient = gradient.predict(X_test_scaled)\n",
    "# y_oob_LinReg = LinReg.predict(X_test_scaled)\n",
    "# y_oob_Lasso = Lasso.predict(X_test_scaled)\n",
    "# y_oob_Ridge = Ridge.predict(X_test_scaled)\n",
    "# y_oob_SVR = SVR.predict(X_test_scaled)\n",
    "# y_oob_Bayes = BayesRidge.predict(X_test_scaled)\n",
    "# y_oob_knn = KNeighborsRegressor.predict(knn,X_test_scaled)\n",
    "# y_oob_tree = DecisionTreeRegressor.predict(tree,X_test_scaled)"
   ]
  },
  {
   "cell_type": "code",
   "execution_count": null,
   "metadata": {
    "collapsed": true
   },
   "outputs": [],
   "source": [
    "from sklearn.metrics import mean_absolute_error\n",
    "print('Forest: ', mean_absolute_error(y_test,y_oob_forest))\n",
    "# print('Gradient: ', mean_absolute_error(y_test,y_oob_gradient))\n",
    "# print('LinReg: ', mean_absolute_error(y_test,y_oob_LinReg))\n",
    "# print('Lasso: ', mean_absolute_error(y_test,y_oob_Lasso))\n",
    "# print('Ridge: ', mean_absolute_error(y_test,y_oob_Ridge))\n",
    "# print('SVR: ', mean_absolute_error(y_test,y_oob_SVR))\n",
    "# print('BayesRidge: ', mean_absolute_error(y_test,y_oob_Bayes))\n",
    "# print('KNN: ', mean_absolute_error(y_test,y_oob_knn))\n",
    "# print('DTree: ', mean_absolute_error(y_test,y_oob_tree))"
   ]
  },
  {
   "cell_type": "code",
   "execution_count": null,
   "metadata": {
    "collapsed": true
   },
   "outputs": [],
   "source": [
    "from sklearn.metrics import mean_squared_error\n",
    "print('Forest: ', mean_squared_error(y_test,y_oob_forest))\n",
    "# print('Gradient: ', mean_squared_error(y_test,y_oob_gradient))\n",
    "# print('LinReg: ', mean_squared_error(y_test,y_oob_LinReg))\n",
    "# print('Lasso: ', mean_squared_error(y_test,y_oob_Lasso))\n",
    "# print('Ridge: ', mean_squared_error(y_test,y_oob_Ridge))\n",
    "# print('SVR: ', mean_squared_error(y_test,y_oob_SVR))\n",
    "# print('BayesRidge: ', mean_squared_error(y_test,y_oob_Bayes))\n",
    "# print('KNN: ', mean_squared_error(y_test,y_oob_knn))\n",
    "# print('DTree: ', mean_squared_error(y_test,y_oob_tree))"
   ]
  },
  {
   "cell_type": "code",
   "execution_count": null,
   "metadata": {
    "collapsed": true
   },
   "outputs": [],
   "source": [
    "print('Forest: ', np.sqrt(mean_squared_error(y_test,y_oob_forest)))\n",
    "# print('Gradient: ', np.sqrt(mean_squared_error(y_test,y_oob_gradient)))\n",
    "# print('LinReg: ', np.sqrt(mean_squared_error(y_test,y_oob_LinReg)))\n",
    "# print('Lasso: ', np.sqrt(mean_squared_error(y_test,y_oob_Lasso)))\n",
    "# print('Ridge: ', np.sqrt(mean_squared_error(y_test,y_oob_Ridge)))\n",
    "# print('SVR: ', np.sqrt(mean_squared_error(y_test,y_oob_SVR)))\n",
    "# print('KNN: ', np.sqrt(mean_squared_error(y_test,y_oob_knn)))\n",
    "# print('DTree: ', np.sqrt(mean_squared_error(y_test,y_oob_tree)))"
   ]
  },
  {
   "cell_type": "code",
   "execution_count": null,
   "metadata": {
    "collapsed": true
   },
   "outputs": [],
   "source": [
    "data = pd.read_pickle('player_2016_2018.pkl')\n",
    "data = data.dropna()"
   ]
  },
  {
   "cell_type": "code",
   "execution_count": null,
   "metadata": {
    "collapsed": true
   },
   "outputs": [],
   "source": [
    "df = data[['DATE','PLAYER', 'TEAM','POSITION','DK_SAL','DK_PTS_PER_MIN','MINUTES','DraftKings_PTS']]"
   ]
  },
  {
   "cell_type": "code",
   "execution_count": null,
   "metadata": {
    "collapsed": true
   },
   "outputs": [],
   "source": [
    "result = df.iloc[40150:,:]"
   ]
  },
  {
   "cell_type": "code",
   "execution_count": null,
   "metadata": {
    "collapsed": true
   },
   "outputs": [],
   "source": [
    "print(y_oob_forest.shape)\n",
    "print(result.shape)"
   ]
  },
  {
   "cell_type": "code",
   "execution_count": null,
   "metadata": {
    "collapsed": true
   },
   "outputs": [],
   "source": [
    "result = result.assign(y_oob_forest = y_oob_forest)\n",
    "\n"
   ]
  },
  {
   "cell_type": "code",
   "execution_count": null,
   "metadata": {
    "collapsed": true
   },
   "outputs": [],
   "source": [
    "result.head()"
   ]
  },
  {
   "cell_type": "code",
   "execution_count": null,
   "metadata": {
    "collapsed": true
   },
   "outputs": [],
   "source": []
  },
  {
   "cell_type": "code",
   "execution_count": null,
   "metadata": {
    "collapsed": true
   },
   "outputs": [],
   "source": [
    "result.to_pickle('Prediction_master_number_attempt.pkl')"
   ]
  },
  {
   "cell_type": "code",
   "execution_count": null,
   "metadata": {
    "collapsed": true
   },
   "outputs": [],
   "source": []
  }
 ],
 "metadata": {
  "kernelspec": {
   "display_name": "Python 3",
   "language": "python",
   "name": "python3"
  },
  "language_info": {
   "codemirror_mode": {
    "name": "ipython",
    "version": 3
   },
   "file_extension": ".py",
   "mimetype": "text/x-python",
   "name": "python",
   "nbconvert_exporter": "python",
   "pygments_lexer": "ipython3",
   "version": "3.6.3"
  }
 },
 "nbformat": 4,
 "nbformat_minor": 2
}
