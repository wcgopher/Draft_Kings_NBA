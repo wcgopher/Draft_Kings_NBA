{
 "cells": [
  {
   "cell_type": "code",
   "execution_count": 1,
   "metadata": {
    "collapsed": true
   },
   "outputs": [],
   "source": [
    "import pandas as pd\n",
    "import numpy as np"
   ]
  },
  {
   "cell_type": "code",
   "execution_count": 2,
   "metadata": {
    "collapsed": true
   },
   "outputs": [],
   "source": [
    "#import excel files into pandas dataframes\n",
    "team_2017_2018 = pd.read_excel('/Users/willhall/Desktop/python_projects/DraftKings/2017-2018_NBA_Box_Score_Team-Stats.xlsx')\n",
    "player_2017_2018 = pd.read_excel('/Users/willhall/Desktop/python_projects/DraftKings/NBA-2017-2018-Player-BoxScore-Dataset.xlsx')\n",
    "DFS_2017_2018 = pd.read_excel('/Users/willhall/Desktop/python_projects/DraftKings/NBA-2017-2018-DFS-Dataset.xlsx')"
   ]
  },
  {
   "cell_type": "code",
   "execution_count": 3,
   "metadata": {
    "collapsed": true
   },
   "outputs": [],
   "source": [
    "#rename colums so the column names are on continuous string\n",
    "player_2017_2018 = player_2017_2018.rename(index=str, columns={'DATA SET':'DATASET','PLAYER FULL NAME':'PLAYER','OWN TEAM':'TEAM','OPP TEAM':'OPPONENT','VENUE (R/H)':'ROAD_HOME','MIN':'MINUTES'})"
   ]
  },
  {
   "cell_type": "code",
   "execution_count": 53,
   "metadata": {
    "collapsed": true
   },
   "outputs": [],
   "source": [
    "#rename 'TEAMS' to 'TEAM' to match other DFs and remove spaces in column names\n",
    "team_2017_2018 = team_2017_2018.rename(index=str, columns={'TEAMS':'TEAM','REST DAYS':'REST_DAYS','OPENING SPREAD':'OPENING_SPREAD','OPENING TOTAL':'OPENING_TOTAL'})\n",
    "\n"
   ]
  },
  {
   "cell_type": "code",
   "execution_count": null,
   "metadata": {
    "collapsed": true
   },
   "outputs": [],
   "source": []
  },
  {
   "cell_type": "code",
   "execution_count": 54,
   "metadata": {
    "collapsed": true
   },
   "outputs": [],
   "source": [
    "#create list of all teams\n",
    "teams = team_2017_2018.TEAM.unique()"
   ]
  },
  {
   "cell_type": "code",
   "execution_count": null,
   "metadata": {
    "collapsed": true
   },
   "outputs": [],
   "source": []
  },
  {
   "cell_type": "code",
   "execution_count": 55,
   "metadata": {},
   "outputs": [
    {
     "data": {
      "text/html": [
       "<div>\n",
       "<style>\n",
       "    .dataframe thead tr:only-child th {\n",
       "        text-align: right;\n",
       "    }\n",
       "\n",
       "    .dataframe thead th {\n",
       "        text-align: left;\n",
       "    }\n",
       "\n",
       "    .dataframe tbody tr th {\n",
       "        vertical-align: top;\n",
       "    }\n",
       "</style>\n",
       "<table border=\"1\" class=\"dataframe\">\n",
       "  <thead>\n",
       "    <tr style=\"text-align: right;\">\n",
       "      <th></th>\n",
       "      <th></th>\n",
       "      <th>DATASET</th>\n",
       "      <th>VENUE</th>\n",
       "      <th>1Q</th>\n",
       "      <th>2Q</th>\n",
       "      <th>3Q</th>\n",
       "      <th>4Q</th>\n",
       "      <th>OT1</th>\n",
       "      <th>OT2</th>\n",
       "      <th>OT3</th>\n",
       "      <th>OT4</th>\n",
       "      <th>...</th>\n",
       "      <th>OPENING ODDS</th>\n",
       "      <th>OPENING_SPREAD</th>\n",
       "      <th>OPENING_TOTAL</th>\n",
       "      <th>MOVEMENTS</th>\n",
       "      <th>CLOSING ODDS</th>\n",
       "      <th>MONEYLINE</th>\n",
       "      <th>HALFTIME</th>\n",
       "      <th>BOX SCORE</th>\n",
       "      <th>ODDS</th>\n",
       "      <th>GAME#</th>\n",
       "    </tr>\n",
       "    <tr>\n",
       "      <th>DATE</th>\n",
       "      <th>TEAM</th>\n",
       "      <th></th>\n",
       "      <th></th>\n",
       "      <th></th>\n",
       "      <th></th>\n",
       "      <th></th>\n",
       "      <th></th>\n",
       "      <th></th>\n",
       "      <th></th>\n",
       "      <th></th>\n",
       "      <th></th>\n",
       "      <th></th>\n",
       "      <th></th>\n",
       "      <th></th>\n",
       "      <th></th>\n",
       "      <th></th>\n",
       "      <th></th>\n",
       "      <th></th>\n",
       "      <th></th>\n",
       "      <th></th>\n",
       "      <th></th>\n",
       "      <th></th>\n",
       "    </tr>\n",
       "  </thead>\n",
       "  <tbody>\n",
       "    <tr>\n",
       "      <th>10/17/2017</th>\n",
       "      <th>Boston</th>\n",
       "      <td>2017-2018 Regular Season</td>\n",
       "      <td>Road</td>\n",
       "      <td>19</td>\n",
       "      <td>19</td>\n",
       "      <td>33</td>\n",
       "      <td>28</td>\n",
       "      <td>NaN</td>\n",
       "      <td>NaN</td>\n",
       "      <td>NaN</td>\n",
       "      <td>NaN</td>\n",
       "      <td>...</td>\n",
       "      <td>214.5</td>\n",
       "      <td>4.0</td>\n",
       "      <td>214.5</td>\n",
       "      <td>215 / 215.5 / 215.5o15</td>\n",
       "      <td>216.0</td>\n",
       "      <td>166</td>\n",
       "      <td>110</td>\n",
       "      <td>NaN</td>\n",
       "      <td>NaN</td>\n",
       "      <td>1</td>\n",
       "    </tr>\n",
       "    <tr>\n",
       "      <th>10/18/2017</th>\n",
       "      <th>Boston</th>\n",
       "      <td>2017-2018 Regular Season</td>\n",
       "      <td>Home</td>\n",
       "      <td>26</td>\n",
       "      <td>27</td>\n",
       "      <td>27</td>\n",
       "      <td>20</td>\n",
       "      <td>NaN</td>\n",
       "      <td>NaN</td>\n",
       "      <td>NaN</td>\n",
       "      <td>NaN</td>\n",
       "      <td>...</td>\n",
       "      <td>-6.0</td>\n",
       "      <td>-6.0</td>\n",
       "      <td>208.5</td>\n",
       "      <td>-1.5  / -1.5 -05 / -1 -11</td>\n",
       "      <td>-1.0</td>\n",
       "      <td>-120</td>\n",
       "      <td>-2</td>\n",
       "      <td>NaN</td>\n",
       "      <td>NaN</td>\n",
       "      <td>2</td>\n",
       "    </tr>\n",
       "    <tr>\n",
       "      <th>10/20/2017</th>\n",
       "      <th>Boston</th>\n",
       "      <td>2017-2018 Regular Season</td>\n",
       "      <td>Road</td>\n",
       "      <td>24</td>\n",
       "      <td>22</td>\n",
       "      <td>23</td>\n",
       "      <td>33</td>\n",
       "      <td>NaN</td>\n",
       "      <td>NaN</td>\n",
       "      <td>NaN</td>\n",
       "      <td>NaN</td>\n",
       "      <td>...</td>\n",
       "      <td>-1.0</td>\n",
       "      <td>-1.0</td>\n",
       "      <td>216.5</td>\n",
       "      <td>217.5 / 216.5 / 217</td>\n",
       "      <td>216.5</td>\n",
       "      <td>125</td>\n",
       "      <td>112</td>\n",
       "      <td>NaN</td>\n",
       "      <td>NaN</td>\n",
       "      <td>3</td>\n",
       "    </tr>\n",
       "    <tr>\n",
       "      <th>10/24/2017</th>\n",
       "      <th>Boston</th>\n",
       "      <td>2017-2018 Regular Season</td>\n",
       "      <td>Home</td>\n",
       "      <td>30</td>\n",
       "      <td>24</td>\n",
       "      <td>23</td>\n",
       "      <td>33</td>\n",
       "      <td>NaN</td>\n",
       "      <td>NaN</td>\n",
       "      <td>NaN</td>\n",
       "      <td>NaN</td>\n",
       "      <td>...</td>\n",
       "      <td>-9.0</td>\n",
       "      <td>-9.0</td>\n",
       "      <td>210.0</td>\n",
       "      <td>-8  / -7.5 -05 / -7</td>\n",
       "      <td>-7.0</td>\n",
       "      <td>-280</td>\n",
       "      <td>+2 -15</td>\n",
       "      <td>NaN</td>\n",
       "      <td>NaN</td>\n",
       "      <td>4</td>\n",
       "    </tr>\n",
       "    <tr>\n",
       "      <th>10/26/2017</th>\n",
       "      <th>Boston</th>\n",
       "      <td>2017-2018 Regular Season</td>\n",
       "      <td>Road</td>\n",
       "      <td>28</td>\n",
       "      <td>15</td>\n",
       "      <td>29</td>\n",
       "      <td>24</td>\n",
       "      <td>NaN</td>\n",
       "      <td>NaN</td>\n",
       "      <td>NaN</td>\n",
       "      <td>NaN</td>\n",
       "      <td>...</td>\n",
       "      <td>207.0</td>\n",
       "      <td>3.5</td>\n",
       "      <td>207.0</td>\n",
       "      <td>207 / 206.5 / 207</td>\n",
       "      <td>206.5</td>\n",
       "      <td>163</td>\n",
       "      <td>106</td>\n",
       "      <td>NaN</td>\n",
       "      <td>NaN</td>\n",
       "      <td>5</td>\n",
       "    </tr>\n",
       "  </tbody>\n",
       "</table>\n",
       "<p>5 rows × 50 columns</p>\n",
       "</div>"
      ],
      "text/plain": [
       "                                    DATASET VENUE  1Q  2Q  3Q  4Q  OT1  OT2  \\\n",
       "DATE       TEAM                                                               \n",
       "10/17/2017 Boston  2017-2018 Regular Season  Road  19  19  33  28  NaN  NaN   \n",
       "10/18/2017 Boston  2017-2018 Regular Season  Home  26  27  27  20  NaN  NaN   \n",
       "10/20/2017 Boston  2017-2018 Regular Season  Road  24  22  23  33  NaN  NaN   \n",
       "10/24/2017 Boston  2017-2018 Regular Season  Home  30  24  23  33  NaN  NaN   \n",
       "10/26/2017 Boston  2017-2018 Regular Season  Road  28  15  29  24  NaN  NaN   \n",
       "\n",
       "                   OT3  OT4  ...    OPENING ODDS  OPENING_SPREAD  \\\n",
       "DATE       TEAM              ...                                   \n",
       "10/17/2017 Boston  NaN  NaN  ...           214.5             4.0   \n",
       "10/18/2017 Boston  NaN  NaN  ...            -6.0            -6.0   \n",
       "10/20/2017 Boston  NaN  NaN  ...            -1.0            -1.0   \n",
       "10/24/2017 Boston  NaN  NaN  ...            -9.0            -9.0   \n",
       "10/26/2017 Boston  NaN  NaN  ...           207.0             3.5   \n",
       "\n",
       "                   OPENING_TOTAL                  MOVEMENTS  CLOSING ODDS  \\\n",
       "DATE       TEAM                                                             \n",
       "10/17/2017 Boston          214.5     215 / 215.5 / 215.5o15         216.0   \n",
       "10/18/2017 Boston          208.5  -1.5  / -1.5 -05 / -1 -11          -1.0   \n",
       "10/20/2017 Boston          216.5        217.5 / 216.5 / 217         216.5   \n",
       "10/24/2017 Boston          210.0       -8  / -7.5 -05 / -7           -7.0   \n",
       "10/26/2017 Boston          207.0          207 / 206.5 / 207         206.5   \n",
       "\n",
       "                   MONEYLINE  HALFTIME  BOX SCORE  ODDS  GAME#  \n",
       "DATE       TEAM                                                 \n",
       "10/17/2017 Boston        166       110        NaN   NaN      1  \n",
       "10/18/2017 Boston       -120       -2         NaN   NaN      2  \n",
       "10/20/2017 Boston        125       112        NaN   NaN      3  \n",
       "10/24/2017 Boston       -280    +2 -15        NaN   NaN      4  \n",
       "10/26/2017 Boston        163       106        NaN   NaN      5  \n",
       "\n",
       "[5 rows x 50 columns]"
      ]
     },
     "execution_count": 55,
     "metadata": {},
     "output_type": "execute_result"
    }
   ],
   "source": [
    "#create new DataFrame for all of Boston's games\n",
    "boston = pd.DataFrame(team_2017_2018.loc[lambda df: team_2017_2018.TEAM == 'Boston'])\n",
    "#create new index\n",
    "boston = boston.reset_index(drop=True)\n",
    "#shift index up by 1 - so the index starts at 1\n",
    "boston.index += 1\n",
    "#Create Game# column to indicate the game of the season\n",
    "boston['GAME#'] = boston.index\n",
    "#reset index\n",
    "boston.reset_index(drop=True,inplace=True)\n",
    "#set higherarchical index on date and team\n",
    "boston = boston.set_index(['DATE','TEAM'])\n",
    "\n",
    "\n",
    "boston.head()"
   ]
  },
  {
   "cell_type": "code",
   "execution_count": null,
   "metadata": {
    "collapsed": true
   },
   "outputs": [],
   "source": []
  },
  {
   "cell_type": "code",
   "execution_count": null,
   "metadata": {
    "collapsed": true
   },
   "outputs": [],
   "source": []
  },
  {
   "cell_type": "code",
   "execution_count": 56,
   "metadata": {},
   "outputs": [
    {
     "name": "stdout",
     "output_type": "stream",
     "text": [
      "<class 'pandas.core.frame.DataFrame'>\n",
      "Index: 27833 entries, 0 to 27832\n",
      "Data columns (total 23 columns):\n",
      "DATASET      27833 non-null object\n",
      "DATE         27833 non-null object\n",
      "PLAYER       27833 non-null object\n",
      "POSITION     27833 non-null object\n",
      "TEAM         27833 non-null object\n",
      "OPPONENT     27833 non-null object\n",
      "ROAD_HOME    27833 non-null object\n",
      "MINUTES      27833 non-null float64\n",
      "FG           27833 non-null int64\n",
      "FGA          27833 non-null int64\n",
      "3P           27833 non-null int64\n",
      "3PA          27833 non-null int64\n",
      "FT           27833 non-null int64\n",
      "FTA          27833 non-null int64\n",
      "OR           27833 non-null int64\n",
      "DR           27833 non-null int64\n",
      "TOT          27833 non-null int64\n",
      "A            27833 non-null int64\n",
      "PF           27833 non-null int64\n",
      "ST           27833 non-null int64\n",
      "TO           27833 non-null int64\n",
      "BL           27833 non-null int64\n",
      "PTS          27833 non-null int64\n",
      "dtypes: float64(1), int64(15), object(7)\n",
      "memory usage: 5.1+ MB\n"
     ]
    }
   ],
   "source": [
    "player_2017_2018.info()"
   ]
  },
  {
   "cell_type": "code",
   "execution_count": 57,
   "metadata": {
    "collapsed": true
   },
   "outputs": [],
   "source": [
    "#create DF of all the individual game stats for all boston players\n",
    "boston_players = pd.DataFrame(player_2017_2018.loc[lambda df: player_2017_2018.TEAM == 'Boston'])\n",
    "#reset index of boston_players DF\n",
    "boston_players = boston_players.reset_index(drop=True)\n",
    "\n"
   ]
  },
  {
   "cell_type": "code",
   "execution_count": 58,
   "metadata": {
    "collapsed": true
   },
   "outputs": [],
   "source": [
    "# >>> df['newcolumn'] = df.apply(lambda x: function, axis=1)\n"
   ]
  },
  {
   "cell_type": "code",
   "execution_count": 59,
   "metadata": {},
   "outputs": [
    {
     "data": {
      "text/plain": [
       "1078"
      ]
     },
     "execution_count": 59,
     "metadata": {},
     "output_type": "execute_result"
    }
   ],
   "source": [
    "boston_players.DATASET.count()"
   ]
  },
  {
   "cell_type": "code",
   "execution_count": 60,
   "metadata": {},
   "outputs": [
    {
     "data": {
      "text/plain": [
       "Index(['DATASET', 'DATE', 'PLAYER', 'POSITION', 'TEAM', 'OPPONENT',\n",
       "       'ROAD_HOME', 'MINUTES', 'FG', 'FGA', '3P', '3PA', 'FT', 'FTA', 'OR',\n",
       "       'DR', 'TOT', 'A', 'PF', 'ST', 'TO', 'BL', 'PTS'],\n",
       "      dtype='object')"
      ]
     },
     "execution_count": 60,
     "metadata": {},
     "output_type": "execute_result"
    }
   ],
   "source": [
    "boston_players.columns"
   ]
  },
  {
   "cell_type": "code",
   "execution_count": 61,
   "metadata": {
    "collapsed": true
   },
   "outputs": [],
   "source": [
    "#create column of all zeros - this column will be the double-double bonus\n",
    "boston_players['DT_Double'] = pd.Series(np.zeros(boston_players.DATASET.count()))"
   ]
  },
  {
   "cell_type": "code",
   "execution_count": 62,
   "metadata": {},
   "outputs": [
    {
     "name": "stderr",
     "output_type": "stream",
     "text": [
      "/Users/willhall/anaconda3/lib/python3.6/site-packages/ipykernel_launcher.py:6: SettingWithCopyWarning: \n",
      "A value is trying to be set on a copy of a slice from a DataFrame\n",
      "\n",
      "See the caveats in the documentation: http://pandas.pydata.org/pandas-docs/stable/indexing.html#indexing-view-versus-copy\n",
      "  \n"
     ]
    }
   ],
   "source": [
    "#This counts the number of categories the player had more than 10\n",
    "categories = ['PTS', 'TOT', 'A', 'BL', 'ST']\n",
    "for cat in categories:\n",
    "    for i,x in enumerate(boston_players[cat]):\n",
    "        if x >=10:\n",
    "            boston_players['DT_Double'][i] += 1"
   ]
  },
  {
   "cell_type": "code",
   "execution_count": 63,
   "metadata": {},
   "outputs": [
    {
     "name": "stderr",
     "output_type": "stream",
     "text": [
      "/Users/willhall/anaconda3/lib/python3.6/site-packages/ipykernel_launcher.py:4: SettingWithCopyWarning: \n",
      "A value is trying to be set on a copy of a slice from a DataFrame\n",
      "\n",
      "See the caveats in the documentation: http://pandas.pydata.org/pandas-docs/stable/indexing.html#indexing-view-versus-copy\n",
      "  after removing the cwd from sys.path.\n"
     ]
    }
   ],
   "source": [
    "#This adjusts the 'DT_Double column to the appropriate multiplier\n",
    "for i,x in enumerate(boston_players['DT_Double']):\n",
    "    if x == 1 or x == 2:\n",
    "        boston_players['DT_Double'][i] -= 1"
   ]
  },
  {
   "cell_type": "code",
   "execution_count": null,
   "metadata": {
    "collapsed": true
   },
   "outputs": [],
   "source": []
  },
  {
   "cell_type": "code",
   "execution_count": 64,
   "metadata": {
    "collapsed": true
   },
   "outputs": [],
   "source": [
    "#create column of draftkings points\n",
    "boston_players['DraftKings_PTS'] = boston_players['PTS'] + (boston_players['3P'] * 0.5) + (boston_players['TOT'] * 1.25) + (boston_players['A'] * 1.5) + (boston_players['ST'] * 2) + (boston_players['BL'] * 2) - (boston_players['TO'] * 0.5) + (boston_players['DT_Double'] * 1.5) "
   ]
  },
  {
   "cell_type": "code",
   "execution_count": null,
   "metadata": {
    "collapsed": true
   },
   "outputs": [],
   "source": []
  },
  {
   "cell_type": "code",
   "execution_count": 65,
   "metadata": {
    "collapsed": true
   },
   "outputs": [],
   "source": [
    "# z['c'] = z.apply(lambda row: 0 if row['b'] in (0,1) else row['a'] / math.log(row['b']), axis=1)\n",
    "# df['c']=df['b'].apply(lambda x: 0 if x ==0 else math.log(x))\n",
    "# z['c'] = z.apply(lambda x: math.log(x.b) if x.b > 0 else 0, axis=1)\n",
    "# sample['PR'] = sample['PR'].mask(sample['PR'] < 90, np.nan)\n"
   ]
  },
  {
   "cell_type": "code",
   "execution_count": null,
   "metadata": {
    "collapsed": true
   },
   "outputs": [],
   "source": []
  },
  {
   "cell_type": "code",
   "execution_count": null,
   "metadata": {
    "collapsed": true
   },
   "outputs": [],
   "source": [
    "\n",
    "        "
   ]
  },
  {
   "cell_type": "code",
   "execution_count": null,
   "metadata": {
    "collapsed": true
   },
   "outputs": [],
   "source": []
  },
  {
   "cell_type": "code",
   "execution_count": null,
   "metadata": {
    "collapsed": true
   },
   "outputs": [],
   "source": []
  },
  {
   "cell_type": "code",
   "execution_count": 66,
   "metadata": {},
   "outputs": [
    {
     "data": {
      "text/html": [
       "<div>\n",
       "<style>\n",
       "    .dataframe thead tr:only-child th {\n",
       "        text-align: right;\n",
       "    }\n",
       "\n",
       "    .dataframe thead th {\n",
       "        text-align: left;\n",
       "    }\n",
       "\n",
       "    .dataframe tbody tr th {\n",
       "        vertical-align: top;\n",
       "    }\n",
       "</style>\n",
       "<table border=\"1\" class=\"dataframe\">\n",
       "  <thead>\n",
       "    <tr style=\"text-align: right;\">\n",
       "      <th></th>\n",
       "      <th>DATASET</th>\n",
       "      <th>DATE</th>\n",
       "      <th>PLAYER</th>\n",
       "      <th>POSITION</th>\n",
       "      <th>TEAM</th>\n",
       "      <th>OPPONENT</th>\n",
       "      <th>ROAD_HOME</th>\n",
       "      <th>MINUTES</th>\n",
       "      <th>FG</th>\n",
       "      <th>FGA</th>\n",
       "      <th>...</th>\n",
       "      <th>DR</th>\n",
       "      <th>TOT</th>\n",
       "      <th>A</th>\n",
       "      <th>PF</th>\n",
       "      <th>ST</th>\n",
       "      <th>TO</th>\n",
       "      <th>BL</th>\n",
       "      <th>PTS</th>\n",
       "      <th>DT_Double</th>\n",
       "      <th>DraftKings_PTS</th>\n",
       "    </tr>\n",
       "  </thead>\n",
       "  <tbody>\n",
       "    <tr>\n",
       "      <th>0</th>\n",
       "      <td>2017-2018 Regular Season</td>\n",
       "      <td>10/17/2017</td>\n",
       "      <td>Gordon Hayward</td>\n",
       "      <td>SF</td>\n",
       "      <td>Boston</td>\n",
       "      <td>Cleveland</td>\n",
       "      <td>R</td>\n",
       "      <td>5.25</td>\n",
       "      <td>1</td>\n",
       "      <td>2</td>\n",
       "      <td>...</td>\n",
       "      <td>1</td>\n",
       "      <td>1</td>\n",
       "      <td>0</td>\n",
       "      <td>1</td>\n",
       "      <td>0</td>\n",
       "      <td>0</td>\n",
       "      <td>0</td>\n",
       "      <td>2</td>\n",
       "      <td>0.0</td>\n",
       "      <td>3.25</td>\n",
       "    </tr>\n",
       "    <tr>\n",
       "      <th>1</th>\n",
       "      <td>2017-2018 Regular Season</td>\n",
       "      <td>10/17/2017</td>\n",
       "      <td>Jayson Tatum</td>\n",
       "      <td>SF</td>\n",
       "      <td>Boston</td>\n",
       "      <td>Cleveland</td>\n",
       "      <td>R</td>\n",
       "      <td>36.53</td>\n",
       "      <td>5</td>\n",
       "      <td>12</td>\n",
       "      <td>...</td>\n",
       "      <td>6</td>\n",
       "      <td>10</td>\n",
       "      <td>3</td>\n",
       "      <td>4</td>\n",
       "      <td>0</td>\n",
       "      <td>1</td>\n",
       "      <td>0</td>\n",
       "      <td>14</td>\n",
       "      <td>1.0</td>\n",
       "      <td>32.50</td>\n",
       "    </tr>\n",
       "    <tr>\n",
       "      <th>2</th>\n",
       "      <td>2017-2018 Regular Season</td>\n",
       "      <td>10/17/2017</td>\n",
       "      <td>Al Horford</td>\n",
       "      <td>C</td>\n",
       "      <td>Boston</td>\n",
       "      <td>Cleveland</td>\n",
       "      <td>R</td>\n",
       "      <td>32.12</td>\n",
       "      <td>2</td>\n",
       "      <td>7</td>\n",
       "      <td>...</td>\n",
       "      <td>7</td>\n",
       "      <td>7</td>\n",
       "      <td>5</td>\n",
       "      <td>2</td>\n",
       "      <td>0</td>\n",
       "      <td>0</td>\n",
       "      <td>1</td>\n",
       "      <td>9</td>\n",
       "      <td>0.0</td>\n",
       "      <td>27.25</td>\n",
       "    </tr>\n",
       "    <tr>\n",
       "      <th>3</th>\n",
       "      <td>2017-2018 Regular Season</td>\n",
       "      <td>10/17/2017</td>\n",
       "      <td>Jaylen Brown</td>\n",
       "      <td>SF</td>\n",
       "      <td>Boston</td>\n",
       "      <td>Cleveland</td>\n",
       "      <td>R</td>\n",
       "      <td>39.60</td>\n",
       "      <td>11</td>\n",
       "      <td>23</td>\n",
       "      <td>...</td>\n",
       "      <td>5</td>\n",
       "      <td>6</td>\n",
       "      <td>0</td>\n",
       "      <td>5</td>\n",
       "      <td>2</td>\n",
       "      <td>3</td>\n",
       "      <td>0</td>\n",
       "      <td>25</td>\n",
       "      <td>0.0</td>\n",
       "      <td>36.00</td>\n",
       "    </tr>\n",
       "    <tr>\n",
       "      <th>4</th>\n",
       "      <td>2017-2018 Regular Season</td>\n",
       "      <td>10/17/2017</td>\n",
       "      <td>Kyrie Irving</td>\n",
       "      <td>PG</td>\n",
       "      <td>Boston</td>\n",
       "      <td>Cleveland</td>\n",
       "      <td>R</td>\n",
       "      <td>39.35</td>\n",
       "      <td>8</td>\n",
       "      <td>17</td>\n",
       "      <td>...</td>\n",
       "      <td>2</td>\n",
       "      <td>4</td>\n",
       "      <td>10</td>\n",
       "      <td>4</td>\n",
       "      <td>3</td>\n",
       "      <td>2</td>\n",
       "      <td>0</td>\n",
       "      <td>22</td>\n",
       "      <td>1.0</td>\n",
       "      <td>50.50</td>\n",
       "    </tr>\n",
       "  </tbody>\n",
       "</table>\n",
       "<p>5 rows × 25 columns</p>\n",
       "</div>"
      ],
      "text/plain": [
       "                    DATASET        DATE          PLAYER POSITION    TEAM  \\\n",
       "0  2017-2018 Regular Season  10/17/2017  Gordon Hayward       SF  Boston   \n",
       "1  2017-2018 Regular Season  10/17/2017    Jayson Tatum       SF  Boston   \n",
       "2  2017-2018 Regular Season  10/17/2017      Al Horford        C  Boston   \n",
       "3  2017-2018 Regular Season  10/17/2017    Jaylen Brown       SF  Boston   \n",
       "4  2017-2018 Regular Season  10/17/2017    Kyrie Irving       PG  Boston   \n",
       "\n",
       "    OPPONENT ROAD_HOME  MINUTES  FG  FGA       ...        DR  TOT   A  PF  ST  \\\n",
       "0  Cleveland         R     5.25   1    2       ...         1    1   0   1   0   \n",
       "1  Cleveland         R    36.53   5   12       ...         6   10   3   4   0   \n",
       "2  Cleveland         R    32.12   2    7       ...         7    7   5   2   0   \n",
       "3  Cleveland         R    39.60  11   23       ...         5    6   0   5   2   \n",
       "4  Cleveland         R    39.35   8   17       ...         2    4  10   4   3   \n",
       "\n",
       "   TO  BL  PTS  DT_Double  DraftKings_PTS  \n",
       "0   0   0    2        0.0            3.25  \n",
       "1   1   0   14        1.0           32.50  \n",
       "2   0   1    9        0.0           27.25  \n",
       "3   3   0   25        0.0           36.00  \n",
       "4   2   0   22        1.0           50.50  \n",
       "\n",
       "[5 rows x 25 columns]"
      ]
     },
     "execution_count": 66,
     "metadata": {},
     "output_type": "execute_result"
    }
   ],
   "source": [
    "boston_players.head()"
   ]
  },
  {
   "cell_type": "code",
   "execution_count": null,
   "metadata": {
    "collapsed": true
   },
   "outputs": [],
   "source": []
  },
  {
   "cell_type": "code",
   "execution_count": null,
   "metadata": {
    "collapsed": true
   },
   "outputs": [],
   "source": []
  },
  {
   "cell_type": "code",
   "execution_count": 67,
   "metadata": {},
   "outputs": [
    {
     "data": {
      "text/html": [
       "<div>\n",
       "<style>\n",
       "    .dataframe thead tr:only-child th {\n",
       "        text-align: right;\n",
       "    }\n",
       "\n",
       "    .dataframe thead th {\n",
       "        text-align: left;\n",
       "    }\n",
       "\n",
       "    .dataframe tbody tr th {\n",
       "        vertical-align: top;\n",
       "    }\n",
       "</style>\n",
       "<table border=\"1\" class=\"dataframe\">\n",
       "  <thead>\n",
       "    <tr style=\"text-align: right;\">\n",
       "      <th></th>\n",
       "      <th>DATASET</th>\n",
       "      <th>DATE</th>\n",
       "      <th>PLAYER</th>\n",
       "      <th>TEAM</th>\n",
       "      <th>OPPONENT</th>\n",
       "      <th>ROAD_HOME</th>\n",
       "      <th>MINUTES</th>\n",
       "      <th>USAGE</th>\n",
       "      <th>DK_POS</th>\n",
       "      <th>DK_SAL</th>\n",
       "      <th>DK_PTS</th>\n",
       "    </tr>\n",
       "  </thead>\n",
       "  <tbody>\n",
       "    <tr>\n",
       "      <th>0</th>\n",
       "      <td>2017-2018 Regular Season</td>\n",
       "      <td>10/17/2017</td>\n",
       "      <td>Gordon Hayward</td>\n",
       "      <td>Boston</td>\n",
       "      <td>Cleveland</td>\n",
       "      <td>R</td>\n",
       "      <td>5.25</td>\n",
       "      <td>16.473616</td>\n",
       "      <td>SF</td>\n",
       "      <td>6700</td>\n",
       "      <td>3.25</td>\n",
       "    </tr>\n",
       "    <tr>\n",
       "      <th>1</th>\n",
       "      <td>2017-2018 Regular Season</td>\n",
       "      <td>10/17/2017</td>\n",
       "      <td>Jayson Tatum</td>\n",
       "      <td>Boston</td>\n",
       "      <td>Cleveland</td>\n",
       "      <td>R</td>\n",
       "      <td>36.53</td>\n",
       "      <td>16.951635</td>\n",
       "      <td>SF/PF</td>\n",
       "      <td>3900</td>\n",
       "      <td>32.5</td>\n",
       "    </tr>\n",
       "    <tr>\n",
       "      <th>2</th>\n",
       "      <td>2017-2018 Regular Season</td>\n",
       "      <td>10/17/2017</td>\n",
       "      <td>Al Horford</td>\n",
       "      <td>Boston</td>\n",
       "      <td>Cleveland</td>\n",
       "      <td>R</td>\n",
       "      <td>32.12</td>\n",
       "      <td>13.570731</td>\n",
       "      <td>C</td>\n",
       "      <td>6000</td>\n",
       "      <td>27.25</td>\n",
       "    </tr>\n",
       "    <tr>\n",
       "      <th>3</th>\n",
       "      <td>2017-2018 Regular Season</td>\n",
       "      <td>10/17/2017</td>\n",
       "      <td>Jaylen Brown</td>\n",
       "      <td>Boston</td>\n",
       "      <td>Cleveland</td>\n",
       "      <td>R</td>\n",
       "      <td>39.60</td>\n",
       "      <td>29.352989</td>\n",
       "      <td>SG/SF</td>\n",
       "      <td>3700</td>\n",
       "      <td>36</td>\n",
       "    </tr>\n",
       "    <tr>\n",
       "      <th>4</th>\n",
       "      <td>2017-2018 Regular Season</td>\n",
       "      <td>10/17/2017</td>\n",
       "      <td>Kyrie Irving</td>\n",
       "      <td>Boston</td>\n",
       "      <td>Cleveland</td>\n",
       "      <td>R</td>\n",
       "      <td>39.35</td>\n",
       "      <td>21.846904</td>\n",
       "      <td>PG</td>\n",
       "      <td>8300</td>\n",
       "      <td>50.5</td>\n",
       "    </tr>\n",
       "  </tbody>\n",
       "</table>\n",
       "</div>"
      ],
      "text/plain": [
       "                    DATASET        DATE          PLAYER    TEAM   OPPONENT  \\\n",
       "0  2017-2018 Regular Season  10/17/2017  Gordon Hayward  Boston  Cleveland   \n",
       "1  2017-2018 Regular Season  10/17/2017    Jayson Tatum  Boston  Cleveland   \n",
       "2  2017-2018 Regular Season  10/17/2017      Al Horford  Boston  Cleveland   \n",
       "3  2017-2018 Regular Season  10/17/2017    Jaylen Brown  Boston  Cleveland   \n",
       "4  2017-2018 Regular Season  10/17/2017    Kyrie Irving  Boston  Cleveland   \n",
       "\n",
       "  ROAD_HOME  MINUTES      USAGE DK_POS DK_SAL DK_PTS  \n",
       "0         R     5.25  16.473616     SF   6700   3.25  \n",
       "1         R    36.53  16.951635  SF/PF   3900   32.5  \n",
       "2         R    32.12  13.570731      C   6000  27.25  \n",
       "3         R    39.60  29.352989  SG/SF   3700     36  \n",
       "4         R    39.35  21.846904     PG   8300   50.5  "
      ]
     },
     "execution_count": 67,
     "metadata": {},
     "output_type": "execute_result"
    }
   ],
   "source": [
    "DFS_2017_2018.head()"
   ]
  },
  {
   "cell_type": "code",
   "execution_count": 68,
   "metadata": {},
   "outputs": [
    {
     "ename": "ValueError",
     "evalue": "labels ['YH_POS' 'YH_SAL' 'YH_PTS' 'FD_POS' 'FD_SAL' 'FD_PTS'] not contained in axis",
     "output_type": "error",
     "traceback": [
      "\u001b[0;31m---------------------------------------------------------------------------\u001b[0m",
      "\u001b[0;31mValueError\u001b[0m                                Traceback (most recent call last)",
      "\u001b[0;32m<ipython-input-68-d9befd5fe469>\u001b[0m in \u001b[0;36m<module>\u001b[0;34m()\u001b[0m\n\u001b[1;32m      4\u001b[0m        'Unnamed: 15':'FD_PTS', 'Unnamed: 16':'YH_PTS'})\n\u001b[1;32m      5\u001b[0m \u001b[0;31m#Drop Yahoo and FanDuels columns\u001b[0m\u001b[0;34m\u001b[0m\u001b[0;34m\u001b[0m\u001b[0m\n\u001b[0;32m----> 6\u001b[0;31m \u001b[0mDFS_2017_2018\u001b[0m\u001b[0;34m.\u001b[0m\u001b[0mdrop\u001b[0m\u001b[0;34m(\u001b[0m\u001b[0;34m[\u001b[0m\u001b[0;34m'YH_POS'\u001b[0m\u001b[0;34m,\u001b[0m \u001b[0;34m'YH_SAL'\u001b[0m\u001b[0;34m,\u001b[0m\u001b[0;34m'YH_PTS'\u001b[0m\u001b[0;34m,\u001b[0m\u001b[0;34m'FD_POS'\u001b[0m\u001b[0;34m,\u001b[0m\u001b[0;34m'FD_SAL'\u001b[0m\u001b[0;34m,\u001b[0m\u001b[0;34m'FD_PTS'\u001b[0m\u001b[0;34m]\u001b[0m\u001b[0;34m,\u001b[0m \u001b[0maxis\u001b[0m\u001b[0;34m=\u001b[0m\u001b[0;36m1\u001b[0m\u001b[0;34m,\u001b[0m\u001b[0minplace\u001b[0m\u001b[0;34m=\u001b[0m\u001b[0;32mTrue\u001b[0m\u001b[0;34m)\u001b[0m\u001b[0;34m\u001b[0m\u001b[0m\n\u001b[0m\u001b[1;32m      7\u001b[0m \u001b[0;31m#Drop empty row\u001b[0m\u001b[0;34m\u001b[0m\u001b[0;34m\u001b[0m\u001b[0m\n\u001b[1;32m      8\u001b[0m \u001b[0mDFS_2017_2018\u001b[0m\u001b[0;34m.\u001b[0m\u001b[0mdrop\u001b[0m\u001b[0;34m(\u001b[0m\u001b[0mDFS_2017_2018\u001b[0m\u001b[0;34m.\u001b[0m\u001b[0mindex\u001b[0m\u001b[0;34m[\u001b[0m\u001b[0;36m0\u001b[0m\u001b[0;34m]\u001b[0m\u001b[0;34m,\u001b[0m\u001b[0minplace\u001b[0m\u001b[0;34m=\u001b[0m\u001b[0;32mTrue\u001b[0m\u001b[0;34m)\u001b[0m\u001b[0;34m\u001b[0m\u001b[0m\n",
      "\u001b[0;32m~/anaconda3/lib/python3.6/site-packages/pandas/core/generic.py\u001b[0m in \u001b[0;36mdrop\u001b[0;34m(self, labels, axis, level, inplace, errors)\u001b[0m\n\u001b[1;32m   2159\u001b[0m                 \u001b[0mnew_axis\u001b[0m \u001b[0;34m=\u001b[0m \u001b[0maxis\u001b[0m\u001b[0;34m.\u001b[0m\u001b[0mdrop\u001b[0m\u001b[0;34m(\u001b[0m\u001b[0mlabels\u001b[0m\u001b[0;34m,\u001b[0m \u001b[0mlevel\u001b[0m\u001b[0;34m=\u001b[0m\u001b[0mlevel\u001b[0m\u001b[0;34m,\u001b[0m \u001b[0merrors\u001b[0m\u001b[0;34m=\u001b[0m\u001b[0merrors\u001b[0m\u001b[0;34m)\u001b[0m\u001b[0;34m\u001b[0m\u001b[0m\n\u001b[1;32m   2160\u001b[0m             \u001b[0;32melse\u001b[0m\u001b[0;34m:\u001b[0m\u001b[0;34m\u001b[0m\u001b[0m\n\u001b[0;32m-> 2161\u001b[0;31m                 \u001b[0mnew_axis\u001b[0m \u001b[0;34m=\u001b[0m \u001b[0maxis\u001b[0m\u001b[0;34m.\u001b[0m\u001b[0mdrop\u001b[0m\u001b[0;34m(\u001b[0m\u001b[0mlabels\u001b[0m\u001b[0;34m,\u001b[0m \u001b[0merrors\u001b[0m\u001b[0;34m=\u001b[0m\u001b[0merrors\u001b[0m\u001b[0;34m)\u001b[0m\u001b[0;34m\u001b[0m\u001b[0m\n\u001b[0m\u001b[1;32m   2162\u001b[0m             \u001b[0mdropped\u001b[0m \u001b[0;34m=\u001b[0m \u001b[0mself\u001b[0m\u001b[0;34m.\u001b[0m\u001b[0mreindex\u001b[0m\u001b[0;34m(\u001b[0m\u001b[0;34m**\u001b[0m\u001b[0;34m{\u001b[0m\u001b[0maxis_name\u001b[0m\u001b[0;34m:\u001b[0m \u001b[0mnew_axis\u001b[0m\u001b[0;34m}\u001b[0m\u001b[0;34m)\u001b[0m\u001b[0;34m\u001b[0m\u001b[0m\n\u001b[1;32m   2163\u001b[0m             \u001b[0;32mtry\u001b[0m\u001b[0;34m:\u001b[0m\u001b[0;34m\u001b[0m\u001b[0m\n",
      "\u001b[0;32m~/anaconda3/lib/python3.6/site-packages/pandas/core/indexes/base.py\u001b[0m in \u001b[0;36mdrop\u001b[0;34m(self, labels, errors)\u001b[0m\n\u001b[1;32m   3622\u001b[0m             \u001b[0;32mif\u001b[0m \u001b[0merrors\u001b[0m \u001b[0;34m!=\u001b[0m \u001b[0;34m'ignore'\u001b[0m\u001b[0;34m:\u001b[0m\u001b[0;34m\u001b[0m\u001b[0m\n\u001b[1;32m   3623\u001b[0m                 raise ValueError('labels %s not contained in axis' %\n\u001b[0;32m-> 3624\u001b[0;31m                                  labels[mask])\n\u001b[0m\u001b[1;32m   3625\u001b[0m             \u001b[0mindexer\u001b[0m \u001b[0;34m=\u001b[0m \u001b[0mindexer\u001b[0m\u001b[0;34m[\u001b[0m\u001b[0;34m~\u001b[0m\u001b[0mmask\u001b[0m\u001b[0;34m]\u001b[0m\u001b[0;34m\u001b[0m\u001b[0m\n\u001b[1;32m   3626\u001b[0m         \u001b[0;32mreturn\u001b[0m \u001b[0mself\u001b[0m\u001b[0;34m.\u001b[0m\u001b[0mdelete\u001b[0m\u001b[0;34m(\u001b[0m\u001b[0mindexer\u001b[0m\u001b[0;34m)\u001b[0m\u001b[0;34m\u001b[0m\u001b[0m\n",
      "\u001b[0;31mValueError\u001b[0m: labels ['YH_POS' 'YH_SAL' 'YH_PTS' 'FD_POS' 'FD_SAL' 'FD_PTS'] not contained in axis"
     ]
    }
   ],
   "source": [
    "#Rename columns to names with one cintinuous string\n",
    "DFS_2017_2018 = DFS_2017_2018.rename(index=str, columns={'VENUE\\nR/H':'ROAD_HOME','USAGE \\nRATE (%)':'USAGE','POSITION': 'DK_POS','Unnamed: 9':'FD_POS', 'Unnamed: 10':'YH_POS',\n",
    "       'SALARY ($)':'DK_SAL', 'Unnamed: 12':'FD_SAL', 'Unnamed: 13':'YH_SAL', 'FANTASY POINTS SCORED':'DK_PTS',\n",
    "       'Unnamed: 15':'FD_PTS', 'Unnamed: 16':'YH_PTS'})\n",
    "#Drop Yahoo and FanDuels columns\n",
    "DFS_2017_2018.drop(['YH_POS', 'YH_SAL','YH_PTS','FD_POS','FD_SAL','FD_PTS'], axis=1,inplace=True)\n",
    "#Drop empty row\n",
    "DFS_2017_2018.drop(DFS_2017_2018.index[0],inplace=True)\n",
    "#Reset index\n",
    "DFS_2017_2018 = DFS_2017_2018.reset_index(drop=True)"
   ]
  },
  {
   "cell_type": "code",
   "execution_count": null,
   "metadata": {
    "collapsed": true
   },
   "outputs": [],
   "source": []
  },
  {
   "cell_type": "code",
   "execution_count": 69,
   "metadata": {
    "collapsed": true
   },
   "outputs": [],
   "source": [
    "#create DF of all the DFS stats for all boston players\n",
    "DFS_boston_players = pd.DataFrame(DFS_2017_2018.loc[lambda df: DFS_2017_2018.TEAM == 'Boston'])\n",
    "#reset index of DFS_boston_players DF\n",
    "DFS_boston_players = DFS_boston_players.reset_index(drop=True)"
   ]
  },
  {
   "cell_type": "code",
   "execution_count": 70,
   "metadata": {},
   "outputs": [
    {
     "data": {
      "text/html": [
       "<div>\n",
       "<style>\n",
       "    .dataframe thead tr:only-child th {\n",
       "        text-align: right;\n",
       "    }\n",
       "\n",
       "    .dataframe thead th {\n",
       "        text-align: left;\n",
       "    }\n",
       "\n",
       "    .dataframe tbody tr th {\n",
       "        vertical-align: top;\n",
       "    }\n",
       "</style>\n",
       "<table border=\"1\" class=\"dataframe\">\n",
       "  <thead>\n",
       "    <tr style=\"text-align: right;\">\n",
       "      <th></th>\n",
       "      <th>DATASET</th>\n",
       "      <th>DATE</th>\n",
       "      <th>PLAYER</th>\n",
       "      <th>TEAM</th>\n",
       "      <th>OPPONENT</th>\n",
       "      <th>ROAD_HOME</th>\n",
       "      <th>MINUTES</th>\n",
       "      <th>USAGE</th>\n",
       "      <th>DK_POS</th>\n",
       "      <th>DK_SAL</th>\n",
       "      <th>DK_PTS</th>\n",
       "    </tr>\n",
       "  </thead>\n",
       "  <tbody>\n",
       "    <tr>\n",
       "      <th>0</th>\n",
       "      <td>2017-2018 Regular Season</td>\n",
       "      <td>10/17/2017</td>\n",
       "      <td>Gordon Hayward</td>\n",
       "      <td>Boston</td>\n",
       "      <td>Cleveland</td>\n",
       "      <td>R</td>\n",
       "      <td>5.25</td>\n",
       "      <td>16.473616</td>\n",
       "      <td>SF</td>\n",
       "      <td>6700</td>\n",
       "      <td>3.25</td>\n",
       "    </tr>\n",
       "    <tr>\n",
       "      <th>1</th>\n",
       "      <td>2017-2018 Regular Season</td>\n",
       "      <td>10/17/2017</td>\n",
       "      <td>Jayson Tatum</td>\n",
       "      <td>Boston</td>\n",
       "      <td>Cleveland</td>\n",
       "      <td>R</td>\n",
       "      <td>36.53</td>\n",
       "      <td>16.951635</td>\n",
       "      <td>SF/PF</td>\n",
       "      <td>3900</td>\n",
       "      <td>32.5</td>\n",
       "    </tr>\n",
       "    <tr>\n",
       "      <th>2</th>\n",
       "      <td>2017-2018 Regular Season</td>\n",
       "      <td>10/17/2017</td>\n",
       "      <td>Al Horford</td>\n",
       "      <td>Boston</td>\n",
       "      <td>Cleveland</td>\n",
       "      <td>R</td>\n",
       "      <td>32.12</td>\n",
       "      <td>13.570731</td>\n",
       "      <td>C</td>\n",
       "      <td>6000</td>\n",
       "      <td>27.25</td>\n",
       "    </tr>\n",
       "    <tr>\n",
       "      <th>3</th>\n",
       "      <td>2017-2018 Regular Season</td>\n",
       "      <td>10/17/2017</td>\n",
       "      <td>Jaylen Brown</td>\n",
       "      <td>Boston</td>\n",
       "      <td>Cleveland</td>\n",
       "      <td>R</td>\n",
       "      <td>39.60</td>\n",
       "      <td>29.352989</td>\n",
       "      <td>SG/SF</td>\n",
       "      <td>3700</td>\n",
       "      <td>36</td>\n",
       "    </tr>\n",
       "    <tr>\n",
       "      <th>4</th>\n",
       "      <td>2017-2018 Regular Season</td>\n",
       "      <td>10/17/2017</td>\n",
       "      <td>Kyrie Irving</td>\n",
       "      <td>Boston</td>\n",
       "      <td>Cleveland</td>\n",
       "      <td>R</td>\n",
       "      <td>39.35</td>\n",
       "      <td>21.846904</td>\n",
       "      <td>PG</td>\n",
       "      <td>8300</td>\n",
       "      <td>50.5</td>\n",
       "    </tr>\n",
       "  </tbody>\n",
       "</table>\n",
       "</div>"
      ],
      "text/plain": [
       "                    DATASET        DATE          PLAYER    TEAM   OPPONENT  \\\n",
       "0  2017-2018 Regular Season  10/17/2017  Gordon Hayward  Boston  Cleveland   \n",
       "1  2017-2018 Regular Season  10/17/2017    Jayson Tatum  Boston  Cleveland   \n",
       "2  2017-2018 Regular Season  10/17/2017      Al Horford  Boston  Cleveland   \n",
       "3  2017-2018 Regular Season  10/17/2017    Jaylen Brown  Boston  Cleveland   \n",
       "4  2017-2018 Regular Season  10/17/2017    Kyrie Irving  Boston  Cleveland   \n",
       "\n",
       "  ROAD_HOME  MINUTES      USAGE DK_POS DK_SAL DK_PTS  \n",
       "0         R     5.25  16.473616     SF   6700   3.25  \n",
       "1         R    36.53  16.951635  SF/PF   3900   32.5  \n",
       "2         R    32.12  13.570731      C   6000  27.25  \n",
       "3         R    39.60  29.352989  SG/SF   3700     36  \n",
       "4         R    39.35  21.846904     PG   8300   50.5  "
      ]
     },
     "execution_count": 70,
     "metadata": {},
     "output_type": "execute_result"
    }
   ],
   "source": [
    "DFS_boston_players.head()"
   ]
  },
  {
   "cell_type": "code",
   "execution_count": null,
   "metadata": {
    "collapsed": true
   },
   "outputs": [],
   "source": []
  },
  {
   "cell_type": "code",
   "execution_count": 71,
   "metadata": {},
   "outputs": [
    {
     "name": "stdout",
     "output_type": "stream",
     "text": [
      "(101, 50) (1078, 25) (1078, 11) (1078, 29) (1078, 81)\n"
     ]
    }
   ],
   "source": [
    "print(boston.shape, boston_players.shape, DFS_boston_players.shape, boston_stats_DFS.shape, BOS.shape)"
   ]
  },
  {
   "cell_type": "code",
   "execution_count": 72,
   "metadata": {},
   "outputs": [
    {
     "name": "stdout",
     "output_type": "stream",
     "text": [
      "Index(['DATASET', 'VENUE', '1Q', '2Q', '3Q', '4Q', 'OT1', 'OT2', 'OT3', 'OT4',\n",
      "       'F', 'MIN', 'FG', 'FGA', '3P', '3PA', 'FT', 'FTA', 'OR', 'DR', 'TOT',\n",
      "       'A', 'PF', 'ST', 'TO', 'TO TO', 'BL', 'PTS', 'POSS', 'PACE', 'OEFF',\n",
      "       'DEFF', 'REST_DAYS', 'STARTING LINEUPS', 'Unnamed: 36', 'Unnamed: 37',\n",
      "       'Unnamed: 38', 'Unnamed: 39', 'MAIN REF', 'CREW', 'OPENING ODDS',\n",
      "       'OPENING_SPREAD', 'OPENING_TOTAL', 'MOVEMENTS', 'CLOSING ODDS',\n",
      "       'MONEYLINE', 'HALFTIME', 'BOX SCORE', 'ODDS', 'GAME#'],\n",
      "      dtype='object') Index(['DATASET', 'DATE', 'PLAYER', 'POSITION', 'TEAM', 'OPPONENT',\n",
      "       'ROAD_HOME', 'MINUTES', 'FG', 'FGA', '3P', '3PA', 'FT', 'FTA', 'OR',\n",
      "       'DR', 'TOT', 'A', 'PF', 'ST', 'TO', 'BL', 'PTS', 'DT_Double',\n",
      "       'DraftKings_PTS'],\n",
      "      dtype='object') Index(['DATASET', 'DATE', 'PLAYER', 'TEAM', 'OPPONENT', 'ROAD_HOME', 'MINUTES',\n",
      "       'USAGE', 'DK_POS', 'DK_SAL', 'DK_PTS'],\n",
      "      dtype='object')\n"
     ]
    }
   ],
   "source": [
    "print(boston.columns, boston_players.columns, DFS_boston_players.columns)"
   ]
  },
  {
   "cell_type": "code",
   "execution_count": null,
   "metadata": {
    "collapsed": true
   },
   "outputs": [],
   "source": []
  },
  {
   "cell_type": "code",
   "execution_count": 73,
   "metadata": {
    "collapsed": true
   },
   "outputs": [],
   "source": [
    "#merge the individual player stats DF with the DFS stats DF\n",
    "boston_stats_DFS = pd.merge(boston_players,DFS_boston_players,how='left')"
   ]
  },
  {
   "cell_type": "code",
   "execution_count": 74,
   "metadata": {},
   "outputs": [
    {
     "data": {
      "text/html": [
       "<div>\n",
       "<style>\n",
       "    .dataframe thead tr:only-child th {\n",
       "        text-align: right;\n",
       "    }\n",
       "\n",
       "    .dataframe thead th {\n",
       "        text-align: left;\n",
       "    }\n",
       "\n",
       "    .dataframe tbody tr th {\n",
       "        vertical-align: top;\n",
       "    }\n",
       "</style>\n",
       "<table border=\"1\" class=\"dataframe\">\n",
       "  <thead>\n",
       "    <tr style=\"text-align: right;\">\n",
       "      <th></th>\n",
       "      <th>DATASET</th>\n",
       "      <th>DATE</th>\n",
       "      <th>PLAYER</th>\n",
       "      <th>POSITION</th>\n",
       "      <th>TEAM</th>\n",
       "      <th>OPPONENT</th>\n",
       "      <th>ROAD_HOME</th>\n",
       "      <th>MINUTES</th>\n",
       "      <th>FG</th>\n",
       "      <th>FGA</th>\n",
       "      <th>...</th>\n",
       "      <th>ST</th>\n",
       "      <th>TO</th>\n",
       "      <th>BL</th>\n",
       "      <th>PTS</th>\n",
       "      <th>DT_Double</th>\n",
       "      <th>DraftKings_PTS</th>\n",
       "      <th>USAGE</th>\n",
       "      <th>DK_POS</th>\n",
       "      <th>DK_SAL</th>\n",
       "      <th>DK_PTS</th>\n",
       "    </tr>\n",
       "  </thead>\n",
       "  <tbody>\n",
       "    <tr>\n",
       "      <th>0</th>\n",
       "      <td>2017-2018 Regular Season</td>\n",
       "      <td>10/17/2017</td>\n",
       "      <td>Gordon Hayward</td>\n",
       "      <td>SF</td>\n",
       "      <td>Boston</td>\n",
       "      <td>Cleveland</td>\n",
       "      <td>R</td>\n",
       "      <td>5.25</td>\n",
       "      <td>1</td>\n",
       "      <td>2</td>\n",
       "      <td>...</td>\n",
       "      <td>0</td>\n",
       "      <td>0</td>\n",
       "      <td>0</td>\n",
       "      <td>2</td>\n",
       "      <td>0.0</td>\n",
       "      <td>3.25</td>\n",
       "      <td>16.473616</td>\n",
       "      <td>SF</td>\n",
       "      <td>6700</td>\n",
       "      <td>3.25</td>\n",
       "    </tr>\n",
       "    <tr>\n",
       "      <th>1</th>\n",
       "      <td>2017-2018 Regular Season</td>\n",
       "      <td>10/17/2017</td>\n",
       "      <td>Jayson Tatum</td>\n",
       "      <td>SF</td>\n",
       "      <td>Boston</td>\n",
       "      <td>Cleveland</td>\n",
       "      <td>R</td>\n",
       "      <td>36.53</td>\n",
       "      <td>5</td>\n",
       "      <td>12</td>\n",
       "      <td>...</td>\n",
       "      <td>0</td>\n",
       "      <td>1</td>\n",
       "      <td>0</td>\n",
       "      <td>14</td>\n",
       "      <td>1.0</td>\n",
       "      <td>32.50</td>\n",
       "      <td>16.951635</td>\n",
       "      <td>SF/PF</td>\n",
       "      <td>3900</td>\n",
       "      <td>32.5</td>\n",
       "    </tr>\n",
       "    <tr>\n",
       "      <th>2</th>\n",
       "      <td>2017-2018 Regular Season</td>\n",
       "      <td>10/17/2017</td>\n",
       "      <td>Al Horford</td>\n",
       "      <td>C</td>\n",
       "      <td>Boston</td>\n",
       "      <td>Cleveland</td>\n",
       "      <td>R</td>\n",
       "      <td>32.12</td>\n",
       "      <td>2</td>\n",
       "      <td>7</td>\n",
       "      <td>...</td>\n",
       "      <td>0</td>\n",
       "      <td>0</td>\n",
       "      <td>1</td>\n",
       "      <td>9</td>\n",
       "      <td>0.0</td>\n",
       "      <td>27.25</td>\n",
       "      <td>13.570731</td>\n",
       "      <td>C</td>\n",
       "      <td>6000</td>\n",
       "      <td>27.25</td>\n",
       "    </tr>\n",
       "    <tr>\n",
       "      <th>3</th>\n",
       "      <td>2017-2018 Regular Season</td>\n",
       "      <td>10/17/2017</td>\n",
       "      <td>Jaylen Brown</td>\n",
       "      <td>SF</td>\n",
       "      <td>Boston</td>\n",
       "      <td>Cleveland</td>\n",
       "      <td>R</td>\n",
       "      <td>39.60</td>\n",
       "      <td>11</td>\n",
       "      <td>23</td>\n",
       "      <td>...</td>\n",
       "      <td>2</td>\n",
       "      <td>3</td>\n",
       "      <td>0</td>\n",
       "      <td>25</td>\n",
       "      <td>0.0</td>\n",
       "      <td>36.00</td>\n",
       "      <td>29.352989</td>\n",
       "      <td>SG/SF</td>\n",
       "      <td>3700</td>\n",
       "      <td>36</td>\n",
       "    </tr>\n",
       "    <tr>\n",
       "      <th>4</th>\n",
       "      <td>2017-2018 Regular Season</td>\n",
       "      <td>10/17/2017</td>\n",
       "      <td>Kyrie Irving</td>\n",
       "      <td>PG</td>\n",
       "      <td>Boston</td>\n",
       "      <td>Cleveland</td>\n",
       "      <td>R</td>\n",
       "      <td>39.35</td>\n",
       "      <td>8</td>\n",
       "      <td>17</td>\n",
       "      <td>...</td>\n",
       "      <td>3</td>\n",
       "      <td>2</td>\n",
       "      <td>0</td>\n",
       "      <td>22</td>\n",
       "      <td>1.0</td>\n",
       "      <td>50.50</td>\n",
       "      <td>21.846904</td>\n",
       "      <td>PG</td>\n",
       "      <td>8300</td>\n",
       "      <td>50.5</td>\n",
       "    </tr>\n",
       "  </tbody>\n",
       "</table>\n",
       "<p>5 rows × 29 columns</p>\n",
       "</div>"
      ],
      "text/plain": [
       "                    DATASET        DATE          PLAYER POSITION    TEAM  \\\n",
       "0  2017-2018 Regular Season  10/17/2017  Gordon Hayward       SF  Boston   \n",
       "1  2017-2018 Regular Season  10/17/2017    Jayson Tatum       SF  Boston   \n",
       "2  2017-2018 Regular Season  10/17/2017      Al Horford        C  Boston   \n",
       "3  2017-2018 Regular Season  10/17/2017    Jaylen Brown       SF  Boston   \n",
       "4  2017-2018 Regular Season  10/17/2017    Kyrie Irving       PG  Boston   \n",
       "\n",
       "    OPPONENT ROAD_HOME  MINUTES  FG  FGA   ...    ST  TO  BL  PTS  DT_Double  \\\n",
       "0  Cleveland         R     5.25   1    2   ...     0   0   0    2        0.0   \n",
       "1  Cleveland         R    36.53   5   12   ...     0   1   0   14        1.0   \n",
       "2  Cleveland         R    32.12   2    7   ...     0   0   1    9        0.0   \n",
       "3  Cleveland         R    39.60  11   23   ...     2   3   0   25        0.0   \n",
       "4  Cleveland         R    39.35   8   17   ...     3   2   0   22        1.0   \n",
       "\n",
       "   DraftKings_PTS      USAGE  DK_POS  DK_SAL  DK_PTS  \n",
       "0            3.25  16.473616      SF    6700    3.25  \n",
       "1           32.50  16.951635   SF/PF    3900    32.5  \n",
       "2           27.25  13.570731       C    6000   27.25  \n",
       "3           36.00  29.352989   SG/SF    3700      36  \n",
       "4           50.50  21.846904      PG    8300    50.5  \n",
       "\n",
       "[5 rows x 29 columns]"
      ]
     },
     "execution_count": 74,
     "metadata": {},
     "output_type": "execute_result"
    }
   ],
   "source": [
    "boston_stats_DFS.head()"
   ]
  },
  {
   "cell_type": "code",
   "execution_count": null,
   "metadata": {
    "collapsed": true
   },
   "outputs": [],
   "source": []
  },
  {
   "cell_type": "code",
   "execution_count": 75,
   "metadata": {
    "collapsed": true
   },
   "outputs": [],
   "source": [
    "#joins all of our DFs and gives the team stats to each invidual\n",
    "BOS = boston_stats_DFS.join(boston, on=['DATE', 'TEAM'],lsuffix='_player',rsuffix='_team')\n",
    "\n"
   ]
  },
  {
   "cell_type": "code",
   "execution_count": 76,
   "metadata": {},
   "outputs": [
    {
     "data": {
      "text/plain": [
       "Index(['DATASET_player', 'DATE', 'PLAYER', 'POSITION', 'TEAM', 'OPPONENT',\n",
       "       'ROAD_HOME', 'MINUTES', 'FG_player', 'FGA_player', '3P_player',\n",
       "       '3PA_player', 'FT_player', 'FTA_player', 'OR_player', 'DR_player',\n",
       "       'TOT_player', 'A_player', 'PF_player', 'ST_player', 'TO_player',\n",
       "       'BL_player', 'PTS_player', 'DT_Double', 'DraftKings_PTS', 'USAGE',\n",
       "       'DK_POS', 'DK_SAL', 'DK_PTS', 'DATASET_team', 'VENUE', '1Q', '2Q', '3Q',\n",
       "       '4Q', 'OT1', 'OT2', 'OT3', 'OT4', 'F', 'MIN', 'FG_team', 'FGA_team',\n",
       "       '3P_team', '3PA_team', 'FT_team', 'FTA_team', 'OR_team', 'DR_team',\n",
       "       'TOT_team', 'A_team', 'PF_team', 'ST_team', 'TO_team', 'TO TO',\n",
       "       'BL_team', 'PTS_team', 'POSS', 'PACE', 'OEFF', 'DEFF', 'REST_DAYS',\n",
       "       'STARTING LINEUPS', 'Unnamed: 36', 'Unnamed: 37', 'Unnamed: 38',\n",
       "       'Unnamed: 39', 'MAIN REF', 'CREW', 'OPENING ODDS', 'OPENING_SPREAD',\n",
       "       'OPENING_TOTAL', 'MOVEMENTS', 'CLOSING ODDS', 'MONEYLINE', 'HALFTIME',\n",
       "       'BOX SCORE', 'ODDS', 'GAME#'],\n",
       "      dtype='object')"
      ]
     },
     "execution_count": 76,
     "metadata": {},
     "output_type": "execute_result"
    }
   ],
   "source": [
    "BOS.columns"
   ]
  },
  {
   "cell_type": "code",
   "execution_count": 77,
   "metadata": {},
   "outputs": [
    {
     "name": "stdout",
     "output_type": "stream",
     "text": [
      "<class 'pandas.core.frame.DataFrame'>\n",
      "Int64Index: 1078 entries, 0 to 1077\n",
      "Data columns (total 79 columns):\n",
      "DATASET_player      1078 non-null object\n",
      "DATE                1078 non-null object\n",
      "PLAYER              1078 non-null object\n",
      "POSITION            1078 non-null object\n",
      "TEAM                1078 non-null object\n",
      "OPPONENT            1078 non-null object\n",
      "ROAD_HOME           1078 non-null object\n",
      "MINUTES             1078 non-null float64\n",
      "FG_player           1078 non-null int64\n",
      "FGA_player          1078 non-null int64\n",
      "3P_player           1078 non-null int64\n",
      "3PA_player          1078 non-null int64\n",
      "FT_player           1078 non-null int64\n",
      "FTA_player          1078 non-null int64\n",
      "OR_player           1078 non-null int64\n",
      "DR_player           1078 non-null int64\n",
      "TOT_player          1078 non-null int64\n",
      "A_player            1078 non-null int64\n",
      "PF_player           1078 non-null int64\n",
      "ST_player           1078 non-null int64\n",
      "TO_player           1078 non-null int64\n",
      "BL_player           1078 non-null int64\n",
      "PTS_player          1078 non-null int64\n",
      "DT_Double           1078 non-null float64\n",
      "DraftKings_PTS      1078 non-null float64\n",
      "USAGE               1078 non-null float64\n",
      "DK_POS              1047 non-null object\n",
      "DK_SAL              1047 non-null object\n",
      "DK_PTS              1078 non-null object\n",
      "DATASET_team        1078 non-null object\n",
      "VENUE               1078 non-null object\n",
      "1Q                  1078 non-null int64\n",
      "2Q                  1078 non-null int64\n",
      "3Q                  1078 non-null int64\n",
      "4Q                  1078 non-null int64\n",
      "OT1                 59 non-null float64\n",
      "OT2                 9 non-null float64\n",
      "OT3                 0 non-null float64\n",
      "OT4                 0 non-null float64\n",
      "F                   1078 non-null int64\n",
      "MIN                 1078 non-null float64\n",
      "FG_team             1078 non-null int64\n",
      "FGA_team            1078 non-null int64\n",
      "3P_team             1078 non-null int64\n",
      "3PA_team            1078 non-null int64\n",
      "FT_team             1078 non-null int64\n",
      "FTA_team            1078 non-null int64\n",
      "OR_team             1078 non-null int64\n",
      "DR_team             1078 non-null int64\n",
      "TOT_team            1078 non-null int64\n",
      "A_team              1078 non-null int64\n",
      "PF_team             1078 non-null int64\n",
      "ST_team             1078 non-null int64\n",
      "TO_team             1078 non-null int64\n",
      "TO TO               1078 non-null int64\n",
      "BL_team             1078 non-null int64\n",
      "PTS_team            1078 non-null int64\n",
      "POSS                1078 non-null float64\n",
      "PACE                1078 non-null float64\n",
      "OEFF                1078 non-null float64\n",
      "DEFF                1078 non-null float64\n",
      "REST_DAYS           1078 non-null object\n",
      "STARTING LINEUPS    1078 non-null object\n",
      "Unnamed: 36         1078 non-null object\n",
      "Unnamed: 37         1078 non-null object\n",
      "Unnamed: 38         1078 non-null object\n",
      "Unnamed: 39         1078 non-null object\n",
      "MAIN REF            530 non-null object\n",
      "CREW                1078 non-null object\n",
      "OPENING ODDS        1078 non-null float64\n",
      "OPENING_SPREAD      1078 non-null float64\n",
      "OPENING_TOTAL       1078 non-null float64\n",
      "MOVEMENTS           1068 non-null object\n",
      "CLOSING ODDS        1078 non-null float64\n",
      "MONEYLINE           1078 non-null int64\n",
      "HALFTIME            1025 non-null object\n",
      "BOX SCORE           106 non-null object\n",
      "ODDS                106 non-null object\n",
      "GAME#               1078 non-null int64\n",
      "dtypes: float64(17), int64(38), object(24)\n",
      "memory usage: 673.8+ KB\n"
     ]
    }
   ],
   "source": [
    "BOS.info()"
   ]
  },
  {
   "cell_type": "code",
   "execution_count": 78,
   "metadata": {},
   "outputs": [
    {
     "name": "stderr",
     "output_type": "stream",
     "text": [
      "/Users/willhall/anaconda3/lib/python3.6/site-packages/ipykernel_launcher.py:6: SettingWithCopyWarning: \n",
      "A value is trying to be set on a copy of a slice from a DataFrame\n",
      "\n",
      "See the caveats in the documentation: http://pandas.pydata.org/pandas-docs/stable/indexing.html#indexing-view-versus-copy\n",
      "  \n"
     ]
    }
   ],
   "source": [
    "#creates colums that is a string of all the starters names\n",
    "BOS['Starters'] = BOS[BOS.columns[62:67]].apply(lambda x: ','.join(x.dropna().astype(str)),axis=1)\n",
    "#Creates a column 0 or 1 that signifies if the player was a starter for that game\n",
    "BOS['Start'] = pd.Series()\n",
    "for i,x in enumerate(BOS['PLAYER']):\n",
    "    BOS['Start'][i] = BOS['PLAYER'][i] in BOS['Starters'][i]"
   ]
  },
  {
   "cell_type": "code",
   "execution_count": null,
   "metadata": {
    "collapsed": true
   },
   "outputs": [],
   "source": []
  },
  {
   "cell_type": "code",
   "execution_count": 86,
   "metadata": {},
   "outputs": [
    {
     "data": {
      "text/html": [
       "<div>\n",
       "<style>\n",
       "    .dataframe thead tr:only-child th {\n",
       "        text-align: right;\n",
       "    }\n",
       "\n",
       "    .dataframe thead th {\n",
       "        text-align: left;\n",
       "    }\n",
       "\n",
       "    .dataframe tbody tr th {\n",
       "        vertical-align: top;\n",
       "    }\n",
       "</style>\n",
       "<table border=\"1\" class=\"dataframe\">\n",
       "  <thead>\n",
       "    <tr style=\"text-align: right;\">\n",
       "      <th></th>\n",
       "      <th>DATASET_player</th>\n",
       "      <th>DATE</th>\n",
       "      <th>PLAYER</th>\n",
       "      <th>POSITION</th>\n",
       "      <th>TEAM</th>\n",
       "      <th>OPPONENT</th>\n",
       "      <th>ROAD_HOME</th>\n",
       "      <th>MINUTES</th>\n",
       "      <th>FG_player</th>\n",
       "      <th>FGA_player</th>\n",
       "      <th>...</th>\n",
       "      <th>HALFTIME</th>\n",
       "      <th>BOX SCORE</th>\n",
       "      <th>ODDS</th>\n",
       "      <th>GAME#</th>\n",
       "      <th>Starters</th>\n",
       "      <th>Start</th>\n",
       "      <th>SPREAD</th>\n",
       "      <th>Favorite</th>\n",
       "      <th>Spread10</th>\n",
       "      <th>DKPTS_PER_MIN</th>\n",
       "    </tr>\n",
       "  </thead>\n",
       "  <tbody>\n",
       "    <tr>\n",
       "      <th>0</th>\n",
       "      <td>2017-2018 Regular Season</td>\n",
       "      <td>10/17/2017</td>\n",
       "      <td>Gordon Hayward</td>\n",
       "      <td>SF</td>\n",
       "      <td>Boston</td>\n",
       "      <td>Cleveland</td>\n",
       "      <td>R</td>\n",
       "      <td>5.25</td>\n",
       "      <td>1</td>\n",
       "      <td>2</td>\n",
       "      <td>...</td>\n",
       "      <td>110</td>\n",
       "      <td>NaN</td>\n",
       "      <td>NaN</td>\n",
       "      <td>1</td>\n",
       "      <td>Gordon Hayward,Jayson Tatum,Al Horford,Jaylen ...</td>\n",
       "      <td>1.0</td>\n",
       "      <td>4.0</td>\n",
       "      <td>True</td>\n",
       "      <td>False</td>\n",
       "      <td>0.619048</td>\n",
       "    </tr>\n",
       "    <tr>\n",
       "      <th>1</th>\n",
       "      <td>2017-2018 Regular Season</td>\n",
       "      <td>10/17/2017</td>\n",
       "      <td>Jayson Tatum</td>\n",
       "      <td>SF</td>\n",
       "      <td>Boston</td>\n",
       "      <td>Cleveland</td>\n",
       "      <td>R</td>\n",
       "      <td>36.53</td>\n",
       "      <td>5</td>\n",
       "      <td>12</td>\n",
       "      <td>...</td>\n",
       "      <td>110</td>\n",
       "      <td>NaN</td>\n",
       "      <td>NaN</td>\n",
       "      <td>1</td>\n",
       "      <td>Gordon Hayward,Jayson Tatum,Al Horford,Jaylen ...</td>\n",
       "      <td>1.0</td>\n",
       "      <td>4.0</td>\n",
       "      <td>True</td>\n",
       "      <td>False</td>\n",
       "      <td>0.889680</td>\n",
       "    </tr>\n",
       "    <tr>\n",
       "      <th>2</th>\n",
       "      <td>2017-2018 Regular Season</td>\n",
       "      <td>10/17/2017</td>\n",
       "      <td>Al Horford</td>\n",
       "      <td>C</td>\n",
       "      <td>Boston</td>\n",
       "      <td>Cleveland</td>\n",
       "      <td>R</td>\n",
       "      <td>32.12</td>\n",
       "      <td>2</td>\n",
       "      <td>7</td>\n",
       "      <td>...</td>\n",
       "      <td>110</td>\n",
       "      <td>NaN</td>\n",
       "      <td>NaN</td>\n",
       "      <td>1</td>\n",
       "      <td>Gordon Hayward,Jayson Tatum,Al Horford,Jaylen ...</td>\n",
       "      <td>1.0</td>\n",
       "      <td>4.0</td>\n",
       "      <td>True</td>\n",
       "      <td>False</td>\n",
       "      <td>0.848381</td>\n",
       "    </tr>\n",
       "    <tr>\n",
       "      <th>3</th>\n",
       "      <td>2017-2018 Regular Season</td>\n",
       "      <td>10/17/2017</td>\n",
       "      <td>Jaylen Brown</td>\n",
       "      <td>SF</td>\n",
       "      <td>Boston</td>\n",
       "      <td>Cleveland</td>\n",
       "      <td>R</td>\n",
       "      <td>39.60</td>\n",
       "      <td>11</td>\n",
       "      <td>23</td>\n",
       "      <td>...</td>\n",
       "      <td>110</td>\n",
       "      <td>NaN</td>\n",
       "      <td>NaN</td>\n",
       "      <td>1</td>\n",
       "      <td>Gordon Hayward,Jayson Tatum,Al Horford,Jaylen ...</td>\n",
       "      <td>1.0</td>\n",
       "      <td>4.0</td>\n",
       "      <td>True</td>\n",
       "      <td>False</td>\n",
       "      <td>0.909091</td>\n",
       "    </tr>\n",
       "    <tr>\n",
       "      <th>4</th>\n",
       "      <td>2017-2018 Regular Season</td>\n",
       "      <td>10/17/2017</td>\n",
       "      <td>Kyrie Irving</td>\n",
       "      <td>PG</td>\n",
       "      <td>Boston</td>\n",
       "      <td>Cleveland</td>\n",
       "      <td>R</td>\n",
       "      <td>39.35</td>\n",
       "      <td>8</td>\n",
       "      <td>17</td>\n",
       "      <td>...</td>\n",
       "      <td>110</td>\n",
       "      <td>NaN</td>\n",
       "      <td>NaN</td>\n",
       "      <td>1</td>\n",
       "      <td>Gordon Hayward,Jayson Tatum,Al Horford,Jaylen ...</td>\n",
       "      <td>1.0</td>\n",
       "      <td>4.0</td>\n",
       "      <td>True</td>\n",
       "      <td>False</td>\n",
       "      <td>1.283355</td>\n",
       "    </tr>\n",
       "  </tbody>\n",
       "</table>\n",
       "<p>5 rows × 85 columns</p>\n",
       "</div>"
      ],
      "text/plain": [
       "             DATASET_player        DATE          PLAYER POSITION    TEAM  \\\n",
       "0  2017-2018 Regular Season  10/17/2017  Gordon Hayward       SF  Boston   \n",
       "1  2017-2018 Regular Season  10/17/2017    Jayson Tatum       SF  Boston   \n",
       "2  2017-2018 Regular Season  10/17/2017      Al Horford        C  Boston   \n",
       "3  2017-2018 Regular Season  10/17/2017    Jaylen Brown       SF  Boston   \n",
       "4  2017-2018 Regular Season  10/17/2017    Kyrie Irving       PG  Boston   \n",
       "\n",
       "    OPPONENT ROAD_HOME  MINUTES  FG_player  FGA_player      ...        \\\n",
       "0  Cleveland         R     5.25          1           2      ...         \n",
       "1  Cleveland         R    36.53          5          12      ...         \n",
       "2  Cleveland         R    32.12          2           7      ...         \n",
       "3  Cleveland         R    39.60         11          23      ...         \n",
       "4  Cleveland         R    39.35          8          17      ...         \n",
       "\n",
       "   HALFTIME  BOX SCORE  ODDS  GAME#  \\\n",
       "0       110        NaN   NaN      1   \n",
       "1       110        NaN   NaN      1   \n",
       "2       110        NaN   NaN      1   \n",
       "3       110        NaN   NaN      1   \n",
       "4       110        NaN   NaN      1   \n",
       "\n",
       "                                            Starters  Start  SPREAD  Favorite  \\\n",
       "0  Gordon Hayward,Jayson Tatum,Al Horford,Jaylen ...    1.0     4.0      True   \n",
       "1  Gordon Hayward,Jayson Tatum,Al Horford,Jaylen ...    1.0     4.0      True   \n",
       "2  Gordon Hayward,Jayson Tatum,Al Horford,Jaylen ...    1.0     4.0      True   \n",
       "3  Gordon Hayward,Jayson Tatum,Al Horford,Jaylen ...    1.0     4.0      True   \n",
       "4  Gordon Hayward,Jayson Tatum,Al Horford,Jaylen ...    1.0     4.0      True   \n",
       "\n",
       "   Spread10  DKPTS_PER_MIN  \n",
       "0     False       0.619048  \n",
       "1     False       0.889680  \n",
       "2     False       0.848381  \n",
       "3     False       0.909091  \n",
       "4     False       1.283355  \n",
       "\n",
       "[5 rows x 85 columns]"
      ]
     },
     "execution_count": 86,
     "metadata": {},
     "output_type": "execute_result"
    }
   ],
   "source": [
    "BOS.head()"
   ]
  },
  {
   "cell_type": "code",
   "execution_count": null,
   "metadata": {
    "collapsed": true
   },
   "outputs": [],
   "source": []
  },
  {
   "cell_type": "code",
   "execution_count": 87,
   "metadata": {
    "collapsed": true
   },
   "outputs": [],
   "source": [
    "#column that is absolute value of spread\n",
    "BOS['SPREAD'] = abs(BOS['OPENING_SPREAD'])\n",
    "#Column singnifying if they are favorites\n",
    "BOS['Favorite'] = BOS['OPENING_SPREAD'] >= 0\n",
    "#Column signifying a spread greater than 10\n",
    "BOS['Spread10'] = BOS['OPENING_SPREAD'] >= 10\n",
    "#Column signifying fantasy points scored per minute\n",
    "BOS['DKPTS_PER_MIN'] = BOS['DraftKings_PTS'] / BOS['MINUTES']"
   ]
  },
  {
   "cell_type": "code",
   "execution_count": null,
   "metadata": {
    "collapsed": true
   },
   "outputs": [],
   "source": []
  },
  {
   "cell_type": "code",
   "execution_count": null,
   "metadata": {
    "collapsed": true
   },
   "outputs": [],
   "source": []
  },
  {
   "cell_type": "code",
   "execution_count": null,
   "metadata": {
    "collapsed": true
   },
   "outputs": [],
   "source": []
  },
  {
   "cell_type": "code",
   "execution_count": null,
   "metadata": {
    "collapsed": true
   },
   "outputs": [],
   "source": []
  },
  {
   "cell_type": "code",
   "execution_count": null,
   "metadata": {
    "collapsed": true
   },
   "outputs": [],
   "source": []
  },
  {
   "cell_type": "code",
   "execution_count": 88,
   "metadata": {
    "collapsed": true
   },
   "outputs": [],
   "source": [
    "BOS.to_pickle('BOS.pkl')"
   ]
  },
  {
   "cell_type": "code",
   "execution_count": null,
   "metadata": {
    "collapsed": true
   },
   "outputs": [],
   "source": []
  }
 ],
 "metadata": {
  "kernelspec": {
   "display_name": "Python 3",
   "language": "python",
   "name": "python3"
  },
  "language_info": {
   "codemirror_mode": {
    "name": "ipython",
    "version": 3
   },
   "file_extension": ".py",
   "mimetype": "text/x-python",
   "name": "python",
   "nbconvert_exporter": "python",
   "pygments_lexer": "ipython3",
   "version": "3.6.3"
  }
 },
 "nbformat": 4,
 "nbformat_minor": 2
}
