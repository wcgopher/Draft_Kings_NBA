{
 "cells": [
  {
   "cell_type": "code",
   "execution_count": 1,
   "metadata": {
    "collapsed": true
   },
   "outputs": [],
   "source": [
    "import pandas as pd\n",
    "import numpy as np"
   ]
  },
  {
   "cell_type": "code",
   "execution_count": 2,
   "metadata": {},
   "outputs": [
    {
     "data": {
      "text/plain": [
       "Index(['DATASET', 'DATE', 'TEAMS', 'VENUE', '1Q', '2Q', '3Q', '4Q', 'OT1',\n",
       "       'OT2', 'OT3', 'OT4', 'F', 'MIN', 'FG', 'FGA', '3P', '3PA', 'FT', 'FTA',\n",
       "       'OR', 'DR', 'TOT', 'A', 'PF', 'ST', 'TO', 'TO TO', 'BL', 'PTS', 'POSS',\n",
       "       'PACE', 'OEFF', 'DEFF', 'REST DAYS', 'STARTING LINEUPS', 'Unnamed: 36',\n",
       "       'Unnamed: 37', 'Unnamed: 38', 'Unnamed: 39', 'MAIN REF', 'CREW',\n",
       "       'OPENING ODDS', 'OPENING SPREAD', 'OPENING TOTAL', 'MOVEMENTS',\n",
       "       'CLOSING ODDS', 'MONEYLINE', 'HALFTIME', 'BOX SCORE', 'ODDS',\n",
       "       'pace_roll2', 'pace_roll3', 'pace_roll5', 'pace_roll10', 'oeff_roll2',\n",
       "       'oeff_roll3', 'oeff_roll5', 'oeff_roll10', 'deff_roll2', 'deff_roll3',\n",
       "       'deff_roll5', 'deff_roll10'],\n",
       "      dtype='object')"
      ]
     },
     "execution_count": 2,
     "metadata": {},
     "output_type": "execute_result"
    }
   ],
   "source": [
    "team_2017_2018 = pd.read_pickle('team_w_rolled_stats_2017_18')\n",
    "\n",
    "team_2017_2018.columns"
   ]
  },
  {
   "cell_type": "code",
   "execution_count": 3,
   "metadata": {
    "collapsed": true
   },
   "outputs": [],
   "source": [
    "stats = ['TEAMS', 'pace_roll2', 'pace_roll3', 'pace_roll5', 'pace_roll10', 'oeff_roll2',\n",
    "       'oeff_roll3', 'oeff_roll5', 'oeff_roll10', 'deff_roll2', 'deff_roll3',\n",
    "       'deff_roll5', 'deff_roll10']"
   ]
  },
  {
   "cell_type": "code",
   "execution_count": 4,
   "metadata": {
    "collapsed": true
   },
   "outputs": [],
   "source": [
    "def add_opponent_stat_column(stat,frames):\n",
    "    stat_df = pd.DataFrame(team_2017_2018[[stat]])\n",
    "    stat_list = []\n",
    "    for i,row in stat_df.iterrows():\n",
    "        stat_list.append(row[0])\n",
    "    opponent_stat_list = []\n",
    "    \n",
    "    for i,team in enumerate(stat_list):\n",
    "        if i % 2 == 0:\n",
    "            opponent_stat_list.append(stat_list[i+1])\n",
    "        else:\n",
    "            opponent_stat_list.append(stat_list[i-1])\n",
    "\n",
    "    opponent_stat_list_df = pd.DataFrame(opponent_stat_list,columns=['opp_'+stat])\n",
    "\n",
    "    frames.append(opponent_stat_list_df)\n",
    "\n",
    "\n",
    "    return frames"
   ]
  },
  {
   "cell_type": "code",
   "execution_count": 5,
   "metadata": {},
   "outputs": [
    {
     "data": {
      "text/plain": [
       "14"
      ]
     },
     "execution_count": 5,
     "metadata": {},
     "output_type": "execute_result"
    }
   ],
   "source": [
    "frames = [team_2017_2018]\n",
    "for stat in stats:\n",
    "    frames = add_opponent_stat_column(stat,frames)\n",
    "len(frames)"
   ]
  },
  {
   "cell_type": "code",
   "execution_count": 6,
   "metadata": {
    "collapsed": true
   },
   "outputs": [],
   "source": [
    "team_2017_2018 = pd.concat(frames,axis=1)\n"
   ]
  },
  {
   "cell_type": "code",
   "execution_count": 7,
   "metadata": {},
   "outputs": [
    {
     "name": "stdout",
     "output_type": "stream",
     "text": [
      "<class 'pandas.core.frame.DataFrame'>\n",
      "RangeIndex: 2624 entries, 0 to 2623\n",
      "Data columns (total 76 columns):\n",
      "DATASET             2624 non-null object\n",
      "DATE                2624 non-null object\n",
      "TEAMS               2624 non-null object\n",
      "VENUE               2624 non-null object\n",
      "1Q                  2624 non-null int64\n",
      "2Q                  2624 non-null int64\n",
      "3Q                  2624 non-null int64\n",
      "4Q                  2624 non-null int64\n",
      "OT1                 130 non-null float64\n",
      "OT2                 14 non-null float64\n",
      "OT3                 2 non-null float64\n",
      "OT4                 0 non-null float64\n",
      "F                   2624 non-null int64\n",
      "MIN                 2624 non-null float64\n",
      "FG                  2624 non-null int64\n",
      "FGA                 2624 non-null int64\n",
      "3P                  2624 non-null int64\n",
      "3PA                 2624 non-null int64\n",
      "FT                  2624 non-null int64\n",
      "FTA                 2624 non-null int64\n",
      "OR                  2624 non-null int64\n",
      "DR                  2624 non-null int64\n",
      "TOT                 2624 non-null int64\n",
      "A                   2624 non-null int64\n",
      "PF                  2624 non-null int64\n",
      "ST                  2624 non-null int64\n",
      "TO                  2624 non-null int64\n",
      "TO TO               2624 non-null int64\n",
      "BL                  2624 non-null int64\n",
      "PTS                 2624 non-null int64\n",
      "POSS                2624 non-null float64\n",
      "PACE                2624 non-null float64\n",
      "OEFF                2624 non-null float64\n",
      "DEFF                2624 non-null float64\n",
      "REST DAYS           2624 non-null object\n",
      "STARTING LINEUPS    2624 non-null object\n",
      "Unnamed: 36         2624 non-null object\n",
      "Unnamed: 37         2624 non-null object\n",
      "Unnamed: 38         2624 non-null object\n",
      "Unnamed: 39         2624 non-null object\n",
      "MAIN REF            1312 non-null object\n",
      "CREW                2624 non-null object\n",
      "OPENING ODDS        2624 non-null float64\n",
      "OPENING SPREAD      2624 non-null float64\n",
      "OPENING TOTAL       2624 non-null float64\n",
      "MOVEMENTS           2619 non-null object\n",
      "CLOSING ODDS        2624 non-null float64\n",
      "MONEYLINE           2624 non-null int64\n",
      "HALFTIME            2559 non-null object\n",
      "BOX SCORE           82 non-null object\n",
      "ODDS                82 non-null object\n",
      "pace_roll2          2594 non-null float64\n",
      "pace_roll3          2594 non-null float64\n",
      "pace_roll5          2594 non-null float64\n",
      "pace_roll10         2594 non-null float64\n",
      "oeff_roll2          2594 non-null float64\n",
      "oeff_roll3          2594 non-null float64\n",
      "oeff_roll5          2594 non-null float64\n",
      "oeff_roll10         2594 non-null float64\n",
      "deff_roll2          2594 non-null float64\n",
      "deff_roll3          2594 non-null float64\n",
      "deff_roll5          2594 non-null float64\n",
      "deff_roll10         2594 non-null float64\n",
      "opp_TEAMS           2624 non-null object\n",
      "opp_pace_roll2      2594 non-null float64\n",
      "opp_pace_roll3      2594 non-null float64\n",
      "opp_pace_roll5      2594 non-null float64\n",
      "opp_pace_roll10     2594 non-null float64\n",
      "opp_oeff_roll2      2594 non-null float64\n",
      "opp_oeff_roll3      2594 non-null float64\n",
      "opp_oeff_roll5      2594 non-null float64\n",
      "opp_oeff_roll10     2594 non-null float64\n",
      "opp_deff_roll2      2594 non-null float64\n",
      "opp_deff_roll3      2594 non-null float64\n",
      "opp_deff_roll5      2594 non-null float64\n",
      "opp_deff_roll10     2594 non-null float64\n",
      "dtypes: float64(37), int64(22), object(17)\n",
      "memory usage: 1.5+ MB\n"
     ]
    }
   ],
   "source": [
    "team_2017_2018.info()"
   ]
  },
  {
   "cell_type": "code",
   "execution_count": null,
   "metadata": {
    "collapsed": true
   },
   "outputs": [],
   "source": []
  },
  {
   "cell_type": "code",
   "execution_count": null,
   "metadata": {},
   "outputs": [],
   "source": []
  },
  {
   "cell_type": "code",
   "execution_count": null,
   "metadata": {},
   "outputs": [],
   "source": []
  },
  {
   "cell_type": "code",
   "execution_count": null,
   "metadata": {},
   "outputs": [],
   "source": []
  },
  {
   "cell_type": "code",
   "execution_count": null,
   "metadata": {
    "collapsed": true
   },
   "outputs": [],
   "source": []
  },
  {
   "cell_type": "code",
   "execution_count": null,
   "metadata": {
    "collapsed": true
   },
   "outputs": [],
   "source": []
  },
  {
   "cell_type": "code",
   "execution_count": null,
   "metadata": {
    "collapsed": true
   },
   "outputs": [],
   "source": []
  },
  {
   "cell_type": "code",
   "execution_count": null,
   "metadata": {
    "collapsed": true
   },
   "outputs": [],
   "source": []
  },
  {
   "cell_type": "code",
   "execution_count": null,
   "metadata": {
    "collapsed": true
   },
   "outputs": [],
   "source": []
  },
  {
   "cell_type": "code",
   "execution_count": null,
   "metadata": {
    "collapsed": true
   },
   "outputs": [],
   "source": []
  }
 ],
 "metadata": {
  "kernelspec": {
   "display_name": "Python 3",
   "language": "python",
   "name": "python3"
  },
  "language_info": {
   "codemirror_mode": {
    "name": "ipython",
    "version": 3
   },
   "file_extension": ".py",
   "mimetype": "text/x-python",
   "name": "python",
   "nbconvert_exporter": "python",
   "pygments_lexer": "ipython3",
   "version": "3.6.3"
  }
 },
 "nbformat": 4,
 "nbformat_minor": 2
}
