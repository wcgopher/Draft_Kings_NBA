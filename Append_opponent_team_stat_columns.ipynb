{
 "cells": [
  {
   "cell_type": "code",
   "execution_count": 1,
   "metadata": {
    "collapsed": true
   },
   "outputs": [],
   "source": [
    "import pandas as pd\n",
    "import numpy as np"
   ]
  },
  {
   "cell_type": "code",
   "execution_count": 2,
   "metadata": {},
   "outputs": [
    {
     "data": {
      "text/plain": [
       "Index(['DATASET', 'DATE', 'TEAMS', 'VENUE', '1Q', '2Q', '3Q', '4Q', 'OT1',\n",
       "       'OT2', 'OT3', 'OT4', 'F', 'MIN', 'FG', 'FGA', '3P', '3PA', 'FT', 'FTA',\n",
       "       'OR', 'DR', 'TOT', 'A', 'PF', 'ST', 'TO', 'TO TO', 'BL', 'PTS', 'POSS',\n",
       "       'PACE', 'OEFF', 'DEFF', 'REST DAYS', 'STARTING LINEUPS', 'Unnamed: 36',\n",
       "       'Unnamed: 37', 'Unnamed: 38', 'Unnamed: 39', 'MAIN REF', 'CREW',\n",
       "       'OPENING ODDS', 'OPENING SPREAD', 'OPENING TOTAL', 'MOVEMENTS',\n",
       "       'CLOSING ODDS', 'MONEYLINE', 'HALFTIME', 'BOX SCORE', 'ODDS',\n",
       "       'pace_roll2', 'pace_roll3', 'pace_roll5', 'pace_roll10', 'oeff_roll2',\n",
       "       'oeff_roll3', 'oeff_roll5', 'oeff_roll10', 'deff_roll2', 'deff_roll3',\n",
       "       'deff_roll5', 'deff_roll10'],\n",
       "      dtype='object')"
      ]
     },
     "execution_count": 2,
     "metadata": {},
     "output_type": "execute_result"
    }
   ],
   "source": [
    "#import DF from pickle\n",
    "team_2017_2018 = pd.read_pickle('team_w_rolled_stats_2017_18')\n",
    "\n",
    "team_2017_2018.columns"
   ]
  },
  {
   "cell_type": "code",
   "execution_count": 3,
   "metadata": {
    "collapsed": true
   },
   "outputs": [],
   "source": [
    "#create list of the statistics you want to get the opponent's value for\n",
    "stats = ['TEAMS', 'pace_roll2', 'pace_roll3', 'pace_roll5', 'pace_roll10', 'oeff_roll2',\n",
    "       'oeff_roll3', 'oeff_roll5', 'oeff_roll10', 'deff_roll2', 'deff_roll3',\n",
    "       'deff_roll5', 'deff_roll10']"
   ]
  },
  {
   "cell_type": "code",
   "execution_count": 4,
   "metadata": {
    "collapsed": true
   },
   "outputs": [],
   "source": [
    "#function that appends a DF of the stat to a list\n",
    "def add_opponent_stat_column(stat,frames):\n",
    "    stat_df = pd.DataFrame(team_2017_2018[[stat]])\n",
    "    stat_list = []\n",
    "    for i,row in stat_df.iterrows():\n",
    "        stat_list.append(row[0])\n",
    "    opponent_stat_list = []\n",
    "    \n",
    "    for i,team in enumerate(stat_list):\n",
    "        if i % 2 == 0:\n",
    "            opponent_stat_list.append(stat_list[i+1])\n",
    "        else:\n",
    "            opponent_stat_list.append(stat_list[i-1])\n",
    "\n",
    "    opponent_stat_list_df = pd.DataFrame(opponent_stat_list,columns=['opp_'+stat])\n",
    "\n",
    "    frames.append(opponent_stat_list_df)\n",
    "\n",
    "\n",
    "    return frames"
   ]
  },
  {
   "cell_type": "code",
   "execution_count": 5,
   "metadata": {},
   "outputs": [
    {
     "data": {
      "text/plain": [
       "14"
      ]
     },
     "execution_count": 5,
     "metadata": {},
     "output_type": "execute_result"
    }
   ],
   "source": [
    "#initialize frames list with origional DF\n",
    "frames = [team_2017_2018]\n",
    "#Loop through that stats you want the opponents value of and that stat DF will be appended to frames list\n",
    "for stat in stats:\n",
    "    frames = add_opponent_stat_column(stat,frames)\n",
    "len(frames)"
   ]
  },
  {
   "cell_type": "code",
   "execution_count": 6,
   "metadata": {
    "collapsed": true
   },
   "outputs": [],
   "source": [
    "#Concat all frames in frames list\n",
    "team_2017_2018 = pd.concat(frames,axis=1)\n"
   ]
  },
  {
   "cell_type": "code",
   "execution_count": null,
   "metadata": {
    "collapsed": true
   },
   "outputs": [],
   "source": [
    "team_2017_2018.info()"
   ]
  },
  {
   "cell_type": "code",
   "execution_count": null,
   "metadata": {
    "collapsed": true
   },
   "outputs": [],
   "source": []
  },
  {
   "cell_type": "code",
   "execution_count": 7,
   "metadata": {
    "collapsed": true
   },
   "outputs": [],
   "source": [
    "#Save new DF to pickle\n",
    "team_2017_2018.to_pickle('team_2017_18_w_opponent_stats.pkl')"
   ]
  },
  {
   "cell_type": "code",
   "execution_count": null,
   "metadata": {
    "collapsed": true
   },
   "outputs": [],
   "source": []
  },
  {
   "cell_type": "code",
   "execution_count": null,
   "metadata": {
    "collapsed": true
   },
   "outputs": [],
   "source": []
  },
  {
   "cell_type": "code",
   "execution_count": null,
   "metadata": {
    "collapsed": true
   },
   "outputs": [],
   "source": []
  },
  {
   "cell_type": "code",
   "execution_count": null,
   "metadata": {
    "collapsed": true
   },
   "outputs": [],
   "source": []
  },
  {
   "cell_type": "code",
   "execution_count": null,
   "metadata": {
    "collapsed": true
   },
   "outputs": [],
   "source": []
  },
  {
   "cell_type": "code",
   "execution_count": null,
   "metadata": {
    "collapsed": true
   },
   "outputs": [],
   "source": []
  },
  {
   "cell_type": "code",
   "execution_count": null,
   "metadata": {
    "collapsed": true
   },
   "outputs": [],
   "source": []
  },
  {
   "cell_type": "code",
   "execution_count": null,
   "metadata": {
    "collapsed": true
   },
   "outputs": [],
   "source": []
  }
 ],
 "metadata": {
  "kernelspec": {
   "display_name": "Python 3",
   "language": "python",
   "name": "python3"
  },
  "language_info": {
   "codemirror_mode": {
    "name": "ipython",
    "version": 3
   },
   "file_extension": ".py",
   "mimetype": "text/x-python",
   "name": "python",
   "nbconvert_exporter": "python",
   "pygments_lexer": "ipython3",
   "version": "3.6.3"
  }
 },
 "nbformat": 4,
 "nbformat_minor": 2
}
