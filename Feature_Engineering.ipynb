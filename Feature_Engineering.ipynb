{
 "cells": [
  {
   "cell_type": "code",
   "execution_count": 99,
   "metadata": {
    "collapsed": true
   },
   "outputs": [],
   "source": [
    "import pandas as pd\n",
    "import numpy as np\n",
    "%matplotlib inline"
   ]
  },
  {
   "cell_type": "code",
   "execution_count": null,
   "metadata": {
    "collapsed": true
   },
   "outputs": [],
   "source": []
  },
  {
   "cell_type": "code",
   "execution_count": null,
   "metadata": {},
   "outputs": [],
   "source": []
  },
  {
   "cell_type": "code",
   "execution_count": 101,
   "metadata": {},
   "outputs": [
    {
     "data": {
      "text/plain": [
       "Index(['DATASET_player', 'DATE', 'PLAYER', 'POSITION', 'TEAM', 'OPPONENT',\n",
       "       'MINUTES', 'FG_player', 'FGA_player', '3P_player', '3PA_player',\n",
       "       'FT_player', 'FTA_player', 'OR_player', 'DR_player', 'TOT_player',\n",
       "       'A_player', 'PF_player', 'ST_player', 'TO_player', 'BL_player',\n",
       "       'PTS_player', 'DT_Double', 'DraftKings_PTS', 'USAGE', 'DK_POS',\n",
       "       'DK_SAL', 'VENUE', 'F', 'MIN', 'FG_team', 'FGA_team', '3P_team',\n",
       "       '3PA_team', 'FT_team', 'FTA_team', 'OR_team', 'DR_team', 'TOT_team',\n",
       "       'A_team', 'PF_team', 'ST_team', 'TO_team', 'TO TO', 'BL_team',\n",
       "       'PTS_team', 'PACE', 'OEFF', 'DEFF', 'REST_DAYS', 'OPENING_TOTAL',\n",
       "       'GAME#', 'Start', 'SPREAD', 'Favorite', 'Spread10', 'DKPTS_PER_MIN'],\n",
       "      dtype='object')"
      ]
     },
     "execution_count": 101,
     "metadata": {},
     "output_type": "execute_result"
    }
   ],
   "source": [
    "boston.columns"
   ]
  },
  {
   "cell_type": "code",
   "execution_count": 100,
   "metadata": {},
   "outputs": [
    {
     "data": {
      "text/html": [
       "<div>\n",
       "<style>\n",
       "    .dataframe thead tr:only-child th {\n",
       "        text-align: right;\n",
       "    }\n",
       "\n",
       "    .dataframe thead th {\n",
       "        text-align: left;\n",
       "    }\n",
       "\n",
       "    .dataframe tbody tr th {\n",
       "        vertical-align: top;\n",
       "    }\n",
       "</style>\n",
       "<table border=\"1\" class=\"dataframe\">\n",
       "  <thead>\n",
       "    <tr style=\"text-align: right;\">\n",
       "      <th></th>\n",
       "      <th>DATASET_player</th>\n",
       "      <th>DATE</th>\n",
       "      <th>PLAYER</th>\n",
       "      <th>POSITION</th>\n",
       "      <th>TEAM</th>\n",
       "      <th>OPPONENT</th>\n",
       "      <th>MINUTES</th>\n",
       "      <th>FG_player</th>\n",
       "      <th>FGA_player</th>\n",
       "      <th>3P_player</th>\n",
       "      <th>...</th>\n",
       "      <th>OEFF</th>\n",
       "      <th>DEFF</th>\n",
       "      <th>REST_DAYS</th>\n",
       "      <th>OPENING_TOTAL</th>\n",
       "      <th>GAME#</th>\n",
       "      <th>Start</th>\n",
       "      <th>SPREAD</th>\n",
       "      <th>Favorite</th>\n",
       "      <th>Spread10</th>\n",
       "      <th>DKPTS_PER_MIN</th>\n",
       "    </tr>\n",
       "  </thead>\n",
       "  <tbody>\n",
       "    <tr>\n",
       "      <th>0</th>\n",
       "      <td>2017-2018 Regular Season</td>\n",
       "      <td>10/17/2017</td>\n",
       "      <td>Gordon Hayward</td>\n",
       "      <td>SF</td>\n",
       "      <td>Boston</td>\n",
       "      <td>Cleveland</td>\n",
       "      <td>5.25</td>\n",
       "      <td>1</td>\n",
       "      <td>2</td>\n",
       "      <td>0</td>\n",
       "      <td>...</td>\n",
       "      <td>98.721532</td>\n",
       "      <td>101.713094</td>\n",
       "      <td>3+</td>\n",
       "      <td>214.5</td>\n",
       "      <td>1</td>\n",
       "      <td>1.0</td>\n",
       "      <td>4.0</td>\n",
       "      <td>True</td>\n",
       "      <td>False</td>\n",
       "      <td>0.619048</td>\n",
       "    </tr>\n",
       "    <tr>\n",
       "      <th>1</th>\n",
       "      <td>2017-2018 Regular Season</td>\n",
       "      <td>10/17/2017</td>\n",
       "      <td>Jayson Tatum</td>\n",
       "      <td>SF</td>\n",
       "      <td>Boston</td>\n",
       "      <td>Cleveland</td>\n",
       "      <td>36.53</td>\n",
       "      <td>5</td>\n",
       "      <td>12</td>\n",
       "      <td>1</td>\n",
       "      <td>...</td>\n",
       "      <td>98.721532</td>\n",
       "      <td>101.713094</td>\n",
       "      <td>3+</td>\n",
       "      <td>214.5</td>\n",
       "      <td>1</td>\n",
       "      <td>1.0</td>\n",
       "      <td>4.0</td>\n",
       "      <td>True</td>\n",
       "      <td>False</td>\n",
       "      <td>0.889680</td>\n",
       "    </tr>\n",
       "    <tr>\n",
       "      <th>2</th>\n",
       "      <td>2017-2018 Regular Season</td>\n",
       "      <td>10/17/2017</td>\n",
       "      <td>Al Horford</td>\n",
       "      <td>C</td>\n",
       "      <td>Boston</td>\n",
       "      <td>Cleveland</td>\n",
       "      <td>32.12</td>\n",
       "      <td>2</td>\n",
       "      <td>7</td>\n",
       "      <td>0</td>\n",
       "      <td>...</td>\n",
       "      <td>98.721532</td>\n",
       "      <td>101.713094</td>\n",
       "      <td>3+</td>\n",
       "      <td>214.5</td>\n",
       "      <td>1</td>\n",
       "      <td>1.0</td>\n",
       "      <td>4.0</td>\n",
       "      <td>True</td>\n",
       "      <td>False</td>\n",
       "      <td>0.848381</td>\n",
       "    </tr>\n",
       "    <tr>\n",
       "      <th>3</th>\n",
       "      <td>2017-2018 Regular Season</td>\n",
       "      <td>10/17/2017</td>\n",
       "      <td>Jaylen Brown</td>\n",
       "      <td>SF</td>\n",
       "      <td>Boston</td>\n",
       "      <td>Cleveland</td>\n",
       "      <td>39.60</td>\n",
       "      <td>11</td>\n",
       "      <td>23</td>\n",
       "      <td>2</td>\n",
       "      <td>...</td>\n",
       "      <td>98.721532</td>\n",
       "      <td>101.713094</td>\n",
       "      <td>3+</td>\n",
       "      <td>214.5</td>\n",
       "      <td>1</td>\n",
       "      <td>1.0</td>\n",
       "      <td>4.0</td>\n",
       "      <td>True</td>\n",
       "      <td>False</td>\n",
       "      <td>0.909091</td>\n",
       "    </tr>\n",
       "    <tr>\n",
       "      <th>4</th>\n",
       "      <td>2017-2018 Regular Season</td>\n",
       "      <td>10/17/2017</td>\n",
       "      <td>Kyrie Irving</td>\n",
       "      <td>PG</td>\n",
       "      <td>Boston</td>\n",
       "      <td>Cleveland</td>\n",
       "      <td>39.35</td>\n",
       "      <td>8</td>\n",
       "      <td>17</td>\n",
       "      <td>4</td>\n",
       "      <td>...</td>\n",
       "      <td>98.721532</td>\n",
       "      <td>101.713094</td>\n",
       "      <td>3+</td>\n",
       "      <td>214.5</td>\n",
       "      <td>1</td>\n",
       "      <td>1.0</td>\n",
       "      <td>4.0</td>\n",
       "      <td>True</td>\n",
       "      <td>False</td>\n",
       "      <td>1.283355</td>\n",
       "    </tr>\n",
       "  </tbody>\n",
       "</table>\n",
       "<p>5 rows × 57 columns</p>\n",
       "</div>"
      ],
      "text/plain": [
       "             DATASET_player        DATE          PLAYER POSITION    TEAM  \\\n",
       "0  2017-2018 Regular Season  10/17/2017  Gordon Hayward       SF  Boston   \n",
       "1  2017-2018 Regular Season  10/17/2017    Jayson Tatum       SF  Boston   \n",
       "2  2017-2018 Regular Season  10/17/2017      Al Horford        C  Boston   \n",
       "3  2017-2018 Regular Season  10/17/2017    Jaylen Brown       SF  Boston   \n",
       "4  2017-2018 Regular Season  10/17/2017    Kyrie Irving       PG  Boston   \n",
       "\n",
       "    OPPONENT  MINUTES  FG_player  FGA_player  3P_player      ...        \\\n",
       "0  Cleveland     5.25          1           2          0      ...         \n",
       "1  Cleveland    36.53          5          12          1      ...         \n",
       "2  Cleveland    32.12          2           7          0      ...         \n",
       "3  Cleveland    39.60         11          23          2      ...         \n",
       "4  Cleveland    39.35          8          17          4      ...         \n",
       "\n",
       "        OEFF        DEFF  REST_DAYS  OPENING_TOTAL  GAME#  Start  SPREAD  \\\n",
       "0  98.721532  101.713094         3+          214.5      1    1.0     4.0   \n",
       "1  98.721532  101.713094         3+          214.5      1    1.0     4.0   \n",
       "2  98.721532  101.713094         3+          214.5      1    1.0     4.0   \n",
       "3  98.721532  101.713094         3+          214.5      1    1.0     4.0   \n",
       "4  98.721532  101.713094         3+          214.5      1    1.0     4.0   \n",
       "\n",
       "   Favorite  Spread10  DKPTS_PER_MIN  \n",
       "0      True     False       0.619048  \n",
       "1      True     False       0.889680  \n",
       "2      True     False       0.848381  \n",
       "3      True     False       0.909091  \n",
       "4      True     False       1.283355  \n",
       "\n",
       "[5 rows x 57 columns]"
      ]
     },
     "execution_count": 100,
     "metadata": {},
     "output_type": "execute_result"
    }
   ],
   "source": [
    "boston = pd.read_pickle('BOS.pkl')\n",
    "boston = boston.drop(['ROAD_HOME','1Q', '2Q', '3Q', '4Q', 'OT1', 'OT2',\n",
    "       'OT3', 'OT4','DATASET_team','DK_PTS','Starters','OPENING_SPREAD','POSS','STARTING LINEUPS', 'Unnamed: 36', 'Unnamed: 37', 'Unnamed: 38',\n",
    "       'Unnamed: 39','MAIN REF', 'CREW','MOVEMENTS','ODDS','BOX SCORE','OPENING ODDS','CLOSING ODDS',\n",
    "       'MONEYLINE', 'HALFTIME'], axis=1)\n",
    "\n",
    "boston.head()"
   ]
  },
  {
   "cell_type": "code",
   "execution_count": 113,
   "metadata": {},
   "outputs": [
    {
     "data": {
      "text/html": [
       "<div>\n",
       "<style>\n",
       "    .dataframe thead tr:only-child th {\n",
       "        text-align: right;\n",
       "    }\n",
       "\n",
       "    .dataframe thead th {\n",
       "        text-align: left;\n",
       "    }\n",
       "\n",
       "    .dataframe tbody tr th {\n",
       "        vertical-align: top;\n",
       "    }\n",
       "</style>\n",
       "<table border=\"1\" class=\"dataframe\">\n",
       "  <thead>\n",
       "    <tr style=\"text-align: right;\">\n",
       "      <th></th>\n",
       "      <th>DraftKings_PTS</th>\n",
       "      <th>MINUTES</th>\n",
       "      <th>DKPTS_PER_MIN</th>\n",
       "    </tr>\n",
       "  </thead>\n",
       "  <tbody>\n",
       "    <tr>\n",
       "      <th>count</th>\n",
       "      <td>99.000000</td>\n",
       "      <td>99.000000</td>\n",
       "      <td>99.000000</td>\n",
       "    </tr>\n",
       "    <tr>\n",
       "      <th>mean</th>\n",
       "      <td>27.098485</td>\n",
       "      <td>31.573434</td>\n",
       "      <td>0.860053</td>\n",
       "    </tr>\n",
       "    <tr>\n",
       "      <th>std</th>\n",
       "      <td>9.191196</td>\n",
       "      <td>5.662962</td>\n",
       "      <td>0.254467</td>\n",
       "    </tr>\n",
       "    <tr>\n",
       "      <th>min</th>\n",
       "      <td>4.750000</td>\n",
       "      <td>9.350000</td>\n",
       "      <td>0.228146</td>\n",
       "    </tr>\n",
       "    <tr>\n",
       "      <th>25%</th>\n",
       "      <td>20.625000</td>\n",
       "      <td>27.895000</td>\n",
       "      <td>0.677685</td>\n",
       "    </tr>\n",
       "    <tr>\n",
       "      <th>50%</th>\n",
       "      <td>26.500000</td>\n",
       "      <td>31.570000</td>\n",
       "      <td>0.886610</td>\n",
       "    </tr>\n",
       "    <tr>\n",
       "      <th>75%</th>\n",
       "      <td>33.625000</td>\n",
       "      <td>35.260000</td>\n",
       "      <td>1.025385</td>\n",
       "    </tr>\n",
       "    <tr>\n",
       "      <th>max</th>\n",
       "      <td>51.250000</td>\n",
       "      <td>46.500000</td>\n",
       "      <td>1.409566</td>\n",
       "    </tr>\n",
       "  </tbody>\n",
       "</table>\n",
       "</div>"
      ],
      "text/plain": [
       "       DraftKings_PTS    MINUTES  DKPTS_PER_MIN\n",
       "count       99.000000  99.000000      99.000000\n",
       "mean        27.098485  31.573434       0.860053\n",
       "std          9.191196   5.662962       0.254467\n",
       "min          4.750000   9.350000       0.228146\n",
       "25%         20.625000  27.895000       0.677685\n",
       "50%         26.500000  31.570000       0.886610\n",
       "75%         33.625000  35.260000       1.025385\n",
       "max         51.250000  46.500000       1.409566"
      ]
     },
     "execution_count": 113,
     "metadata": {},
     "output_type": "execute_result"
    },
    {
     "data": {
      "image/png": "[encoded data removed]",
      "text/plain": [
       "<matplotlib.figure.Figure at 0x116ccb828>"
      ]
     },
     "metadata": {},
     "output_type": "display_data"
    }
   ],
   "source": [
    "DK_PPM = boston[['DATASET_player', 'DATE', 'PLAYER',\n",
    "                 'DraftKings_PTS','MINUTES',\n",
    "                 'DKPTS_PER_MIN']]\n",
    "DK_PPM = DK_PPM.loc[(DK_PPM['PLAYER'] == 'Jayson Tatum')]\n",
    "DK_PPM.plot()\n",
    "DK_PPM.describe()\n"
   ]
  },
  {
   "cell_type": "code",
   "execution_count": null,
   "metadata": {
    "collapsed": true
   },
   "outputs": [],
   "source": []
  },
  {
   "cell_type": "code",
   "execution_count": null,
   "metadata": {
    "collapsed": true
   },
   "outputs": [],
   "source": []
  },
  {
   "cell_type": "code",
   "execution_count": null,
   "metadata": {
    "collapsed": true
   },
   "outputs": [],
   "source": []
  },
  {
   "cell_type": "code",
   "execution_count": null,
   "metadata": {
    "collapsed": true
   },
   "outputs": [],
   "source": []
  },
  {
   "cell_type": "code",
   "execution_count": null,
   "metadata": {
    "collapsed": true
   },
   "outputs": [],
   "source": []
  },
  {
   "cell_type": "code",
   "execution_count": null,
   "metadata": {
    "collapsed": true
   },
   "outputs": [],
   "source": []
  },
  {
   "cell_type": "code",
   "execution_count": null,
   "metadata": {
    "collapsed": true
   },
   "outputs": [],
   "source": []
  },
  {
   "cell_type": "code",
   "execution_count": null,
   "metadata": {
    "collapsed": true
   },
   "outputs": [],
   "source": []
  },
  {
   "cell_type": "code",
   "execution_count": null,
   "metadata": {
    "collapsed": true
   },
   "outputs": [],
   "source": []
  },
  {
   "cell_type": "code",
   "execution_count": 98,
   "metadata": {},
   "outputs": [
    {
     "data": {
      "text/html": [
       "<div>\n",
       "<style>\n",
       "    .dataframe thead tr:only-child th {\n",
       "        text-align: right;\n",
       "    }\n",
       "\n",
       "    .dataframe thead th {\n",
       "        text-align: left;\n",
       "    }\n",
       "\n",
       "    .dataframe tbody tr th {\n",
       "        vertical-align: top;\n",
       "    }\n",
       "</style>\n",
       "<table border=\"1\" class=\"dataframe\">\n",
       "  <thead>\n",
       "    <tr style=\"text-align: right;\">\n",
       "      <th></th>\n",
       "      <th>GAME#</th>\n",
       "      <th>MINUTES</th>\n",
       "      <th>Roll2</th>\n",
       "      <th>Roll3</th>\n",
       "      <th>Roll5</th>\n",
       "      <th>Diff2</th>\n",
       "      <th>Diff3</th>\n",
       "      <th>Diff5</th>\n",
       "    </tr>\n",
       "  </thead>\n",
       "  <tbody>\n",
       "    <tr>\n",
       "      <th>count</th>\n",
       "      <td>88.000000</td>\n",
       "      <td>88.00000</td>\n",
       "      <td>86.000000</td>\n",
       "      <td>85.000000</td>\n",
       "      <td>83.000000</td>\n",
       "      <td>86.00000</td>\n",
       "      <td>85.000000</td>\n",
       "      <td>83.000000</td>\n",
       "    </tr>\n",
       "    <tr>\n",
       "      <th>mean</th>\n",
       "      <td>50.034091</td>\n",
       "      <td>31.07625</td>\n",
       "      <td>30.918547</td>\n",
       "      <td>30.892078</td>\n",
       "      <td>30.819976</td>\n",
       "      <td>4.19064</td>\n",
       "      <td>3.957529</td>\n",
       "      <td>3.937735</td>\n",
       "    </tr>\n",
       "    <tr>\n",
       "      <th>std</th>\n",
       "      <td>30.156850</td>\n",
       "      <td>4.96963</td>\n",
       "      <td>3.575668</td>\n",
       "      <td>3.108649</td>\n",
       "      <td>2.577965</td>\n",
       "      <td>3.58151</td>\n",
       "      <td>3.487457</td>\n",
       "      <td>3.382811</td>\n",
       "    </tr>\n",
       "    <tr>\n",
       "      <th>min</th>\n",
       "      <td>1.000000</td>\n",
       "      <td>16.02000</td>\n",
       "      <td>20.350000</td>\n",
       "      <td>23.310000</td>\n",
       "      <td>24.812000</td>\n",
       "      <td>0.24500</td>\n",
       "      <td>0.243333</td>\n",
       "      <td>0.024000</td>\n",
       "    </tr>\n",
       "    <tr>\n",
       "      <th>25%</th>\n",
       "      <td>23.750000</td>\n",
       "      <td>28.14250</td>\n",
       "      <td>28.357500</td>\n",
       "      <td>28.650000</td>\n",
       "      <td>29.314000</td>\n",
       "      <td>2.10625</td>\n",
       "      <td>1.880000</td>\n",
       "      <td>1.820000</td>\n",
       "    </tr>\n",
       "    <tr>\n",
       "      <th>50%</th>\n",
       "      <td>49.500000</td>\n",
       "      <td>31.47500</td>\n",
       "      <td>30.805000</td>\n",
       "      <td>31.443333</td>\n",
       "      <td>31.132000</td>\n",
       "      <td>3.30500</td>\n",
       "      <td>3.123333</td>\n",
       "      <td>3.186000</td>\n",
       "    </tr>\n",
       "    <tr>\n",
       "      <th>75%</th>\n",
       "      <td>77.250000</td>\n",
       "      <td>34.14250</td>\n",
       "      <td>33.141250</td>\n",
       "      <td>32.710000</td>\n",
       "      <td>32.675000</td>\n",
       "      <td>5.22000</td>\n",
       "      <td>4.766667</td>\n",
       "      <td>4.587000</td>\n",
       "    </tr>\n",
       "    <tr>\n",
       "      <th>max</th>\n",
       "      <td>101.000000</td>\n",
       "      <td>45.60000</td>\n",
       "      <td>39.715000</td>\n",
       "      <td>39.926667</td>\n",
       "      <td>37.466000</td>\n",
       "      <td>23.15500</td>\n",
       "      <td>23.906667</td>\n",
       "      <td>20.396000</td>\n",
       "    </tr>\n",
       "  </tbody>\n",
       "</table>\n",
       "</div>"
      ],
      "text/plain": [
       "            GAME#   MINUTES      Roll2      Roll3      Roll5     Diff2  \\\n",
       "count   88.000000  88.00000  86.000000  85.000000  83.000000  86.00000   \n",
       "mean    50.034091  31.07625  30.918547  30.892078  30.819976   4.19064   \n",
       "std     30.156850   4.96963   3.575668   3.108649   2.577965   3.58151   \n",
       "min      1.000000  16.02000  20.350000  23.310000  24.812000   0.24500   \n",
       "25%     23.750000  28.14250  28.357500  28.650000  29.314000   2.10625   \n",
       "50%     49.500000  31.47500  30.805000  31.443333  31.132000   3.30500   \n",
       "75%     77.250000  34.14250  33.141250  32.710000  32.675000   5.22000   \n",
       "max    101.000000  45.60000  39.715000  39.926667  37.466000  23.15500   \n",
       "\n",
       "           Diff3      Diff5  \n",
       "count  85.000000  83.000000  \n",
       "mean    3.957529   3.937735  \n",
       "std     3.487457   3.382811  \n",
       "min     0.243333   0.024000  \n",
       "25%     1.880000   1.820000  \n",
       "50%     3.123333   3.186000  \n",
       "75%     4.766667   4.587000  \n",
       "max    23.906667  20.396000  "
      ]
     },
     "execution_count": 98,
     "metadata": {},
     "output_type": "execute_result"
    }
   ],
   "source": [
    "#Looking at the rolling average of a player's minutes played at lags of 2,3,5 and 10 games\n",
    "\n",
    "minutes = boston[['DATE','DATASET_player', 'DATE', 'GAME#', 'PLAYER', 'MINUTES']]\n",
    "minutes = minutes.loc[(minutes['PLAYER'] == 'Jaylen Brown')]\n",
    "minutes['Roll2'] = minutes['MINUTES'].rolling(2).mean().shift()\n",
    "minutes['Roll3'] = minutes['MINUTES'].rolling(3).mean().shift()\n",
    "minutes['Roll5'] = minutes['MINUTES'].rolling(5).mean().shift()\n",
    "# minutes['Roll10'] = minutes['MINUTES'].rolling(10).mean().shift()\n",
    "minutes['Diff2'] = abs(minutes['MINUTES'] - minutes['Roll2'])\n",
    "minutes['Diff3'] = abs(minutes['MINUTES'] - minutes['Roll3'])\n",
    "minutes['Diff5'] = abs(minutes['MINUTES'] - minutes['Roll5'])\n",
    "# minutes['Diff10'] = abs(minutes['MINUTES'] - minutes['Roll10'])\n",
    "# minutes.plot()\n",
    "minutes.describe()\n",
    "# minutes"
   ]
  },
  {
   "cell_type": "code",
   "execution_count": null,
   "metadata": {
    "collapsed": true
   },
   "outputs": [],
   "source": []
  },
  {
   "cell_type": "code",
   "execution_count": null,
   "metadata": {
    "collapsed": true
   },
   "outputs": [],
   "source": []
  },
  {
   "cell_type": "code",
   "execution_count": null,
   "metadata": {
    "collapsed": true
   },
   "outputs": [],
   "source": []
  },
  {
   "cell_type": "code",
   "execution_count": null,
   "metadata": {},
   "outputs": [],
   "source": []
  },
  {
   "cell_type": "code",
   "execution_count": null,
   "metadata": {
    "collapsed": true
   },
   "outputs": [],
   "source": []
  },
  {
   "cell_type": "code",
   "execution_count": null,
   "metadata": {
    "collapsed": true
   },
   "outputs": [],
   "source": []
  },
  {
   "cell_type": "code",
   "execution_count": null,
   "metadata": {
    "collapsed": true
   },
   "outputs": [],
   "source": []
  },
  {
   "cell_type": "code",
   "execution_count": null,
   "metadata": {
    "collapsed": true
   },
   "outputs": [],
   "source": []
  },
  {
   "cell_type": "code",
   "execution_count": null,
   "metadata": {
    "collapsed": true
   },
   "outputs": [],
   "source": []
  },
  {
   "cell_type": "code",
   "execution_count": null,
   "metadata": {
    "collapsed": true
   },
   "outputs": [],
   "source": []
  },
  {
   "cell_type": "code",
   "execution_count": null,
   "metadata": {
    "collapsed": true
   },
   "outputs": [],
   "source": []
  },
  {
   "cell_type": "code",
   "execution_count": null,
   "metadata": {
    "collapsed": true
   },
   "outputs": [],
   "source": []
  },
  {
   "cell_type": "code",
   "execution_count": null,
   "metadata": {
    "collapsed": true
   },
   "outputs": [],
   "source": []
  },
  {
   "cell_type": "code",
   "execution_count": null,
   "metadata": {
    "collapsed": true
   },
   "outputs": [],
   "source": []
  },
  {
   "cell_type": "code",
   "execution_count": null,
   "metadata": {
    "collapsed": true
   },
   "outputs": [],
   "source": []
  },
  {
   "cell_type": "code",
   "execution_count": null,
   "metadata": {
    "collapsed": true
   },
   "outputs": [],
   "source": []
  },
  {
   "cell_type": "code",
   "execution_count": null,
   "metadata": {
    "collapsed": true
   },
   "outputs": [],
   "source": []
  },
  {
   "cell_type": "code",
   "execution_count": null,
   "metadata": {
    "collapsed": true
   },
   "outputs": [],
   "source": []
  },
  {
   "cell_type": "code",
   "execution_count": null,
   "metadata": {
    "collapsed": true
   },
   "outputs": [],
   "source": []
  },
  {
   "cell_type": "code",
   "execution_count": null,
   "metadata": {
    "collapsed": true
   },
   "outputs": [],
   "source": []
  },
  {
   "cell_type": "code",
   "execution_count": null,
   "metadata": {
    "collapsed": true
   },
   "outputs": [],
   "source": []
  },
  {
   "cell_type": "code",
   "execution_count": 21,
   "metadata": {},
   "outputs": [
    {
     "data": {
      "text/plain": [
       "H    548\n",
       "R    530\n",
       "Name: ROAD_HOME, dtype: int64"
      ]
     },
     "execution_count": 21,
     "metadata": {},
     "output_type": "execute_result"
    }
   ],
   "source": [
    "boston.ROAD_HOME.value_counts()"
   ]
  },
  {
   "cell_type": "code",
   "execution_count": 18,
   "metadata": {},
   "outputs": [],
   "source": [
    "check = boston.ROAD_HOME == boston.VENUE"
   ]
  },
  {
   "cell_type": "code",
   "execution_count": 19,
   "metadata": {},
   "outputs": [
    {
     "data": {
      "text/plain": [
       "False    1078\n",
       "dtype: int64"
      ]
     },
     "execution_count": 19,
     "metadata": {},
     "output_type": "execute_result"
    }
   ],
   "source": [
    "check.value_counts()"
   ]
  },
  {
   "cell_type": "code",
   "execution_count": null,
   "metadata": {
    "collapsed": true
   },
   "outputs": [],
   "source": [
    "boston['DK_check'] = check"
   ]
  },
  {
   "cell_type": "code",
   "execution_count": null,
   "metadata": {},
   "outputs": [],
   "source": []
  },
  {
   "cell_type": "code",
   "execution_count": null,
   "metadata": {},
   "outputs": [],
   "source": [
    "DK = boston.loc[boston['DK_check'] == False]\n"
   ]
  },
  {
   "cell_type": "code",
   "execution_count": null,
   "metadata": {},
   "outputs": [],
   "source": [
    "DK[['PLAYER','DK_PTS','DraftKings_PTS','MINUTES','3P_player','TOT_player', 'A_player','ST_player', 'TO_player',\n",
    "       'BL_player', 'PTS_player', 'DT_Double']]"
   ]
  },
  {
   "cell_type": "code",
   "execution_count": null,
   "metadata": {
    "collapsed": true
   },
   "outputs": [],
   "source": []
  },
  {
   "cell_type": "code",
   "execution_count": null,
   "metadata": {},
   "outputs": [],
   "source": [
    "boston.OPENING_SPREAD.value_counts()"
   ]
  },
  {
   "cell_type": "code",
   "execution_count": null,
   "metadata": {
    "collapsed": true
   },
   "outputs": [],
   "source": []
  }
 ],
 "metadata": {
  "kernelspec": {
   "display_name": "Python 3",
   "language": "python",
   "name": "python3"
  },
  "language_info": {
   "codemirror_mode": {
    "name": "ipython",
    "version": 3
   },
   "file_extension": ".py",
   "mimetype": "text/x-python",
   "name": "python",
   "nbconvert_exporter": "python",
   "pygments_lexer": "ipython3",
   "version": "3.6.3"
  }
 },
 "nbformat": 4,
 "nbformat_minor": 2
}
