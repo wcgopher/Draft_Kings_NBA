{
 "cells": [
  {
   "cell_type": "code",
   "execution_count": 1,
   "metadata": {
    "collapsed": true
   },
   "outputs": [],
   "source": [
    "import pandas as pd\n",
    "import numpy as np"
   ]
  },
  {
   "cell_type": "code",
   "execution_count": 2,
   "metadata": {
    "collapsed": true
   },
   "outputs": [],
   "source": [
    "player_2017_2018 = pd.read_excel('/Users/willhall/Desktop/python_projects/DraftKings/NBA-2017-2018-Player-BoxScore-Dataset.xlsx')\n"
   ]
  },
  {
   "cell_type": "code",
   "execution_count": 3,
   "metadata": {},
   "outputs": [
    {
     "data": {
      "text/plain": [
       "(27833, 23)"
      ]
     },
     "execution_count": 3,
     "metadata": {},
     "output_type": "execute_result"
    }
   ],
   "source": [
    "#rename colums so the column names are on continuous string\n",
    "player_2017_2018 = player_2017_2018.rename(index=str, columns={'DATA SET':'DATASET','PLAYER FULL NAME':'PLAYER','OWN TEAM':'TEAM','OPP TEAM':'OPPONENT','VENUE (R/H)':'ROAD_HOME','MIN':'MINUTES'})\n",
    "player_2017_2018.shape"
   ]
  },
  {
   "cell_type": "code",
   "execution_count": null,
   "metadata": {},
   "outputs": [],
   "source": [
    "#create DF of all the individual game stats for all boston players\n",
    "boston_players = pd.DataFrame(player_2017_2018.loc[lambda df: player_2017_2018.TEAM == 'Boston'])\n",
    "boston_players.shape"
   ]
  },
  {
   "cell_type": "code",
   "execution_count": null,
   "metadata": {},
   "outputs": [],
   "source": [
    "boston_players.head()"
   ]
  },
  {
   "cell_type": "code",
   "execution_count": null,
   "metadata": {
    "collapsed": true
   },
   "outputs": [],
   "source": []
  },
  {
   "cell_type": "code",
   "execution_count": null,
   "metadata": {},
   "outputs": [],
   "source": [
    "#create column of all zeros - this column will be the double-double bonus\n",
    "boston_players['DT_Double'] = pd.Series(np.zeros(boston_players.shape[0]))\n",
    "boston_players.DT_Double.fillna(value=0.0,inplace=True)"
   ]
  },
  {
   "cell_type": "code",
   "execution_count": null,
   "metadata": {},
   "outputs": [],
   "source": [
    "#This counts the number of categories the player had more than 10\n",
    "#This takes a long time, consider rewriting\n",
    "categories = ['PTS', 'TOT', 'A', 'BL', 'ST']\n",
    "for cat in categories:\n",
    "    for i,x in enumerate(boston_players[cat]):\n",
    "        if x >=10:\n",
    "            boston_players['DT_Double'][i] += 1"
   ]
  },
  {
   "cell_type": "code",
   "execution_count": null,
   "metadata": {},
   "outputs": [],
   "source": [
    "#This adjusts the 'DT_Double column to the appropriate multiplier\n",
    "#This takes a long time, consider rewriting\n",
    "for i,x in enumerate(boston_players['DT_Double']):\n",
    "    if x == 1 or x == 2:\n",
    "        boston_players['DT_Double'][i] -= 1"
   ]
  },
  {
   "cell_type": "code",
   "execution_count": null,
   "metadata": {
    "collapsed": true
   },
   "outputs": [],
   "source": [
    "#create column of draftkings points\n",
    "boston_players['DraftKings_PTS'] = boston_players['PTS'] + (boston_players['3P'] * 0.5) + (boston_players['TOT'] * 1.25) + (boston_players['A'] * 1.5) + (boston_players['ST'] * 2) + (boston_players['BL'] * 2) - (boston_players['TO'] * 0.5) + (boston_players['DT_Double'] * 1.5) "
   ]
  },
  {
   "cell_type": "code",
   "execution_count": null,
   "metadata": {},
   "outputs": [],
   "source": [
    "boston_players.head(20)"
   ]
  },
  {
   "cell_type": "code",
   "execution_count": null,
   "metadata": {
    "collapsed": true
   },
   "outputs": [],
   "source": []
  },
  {
   "cell_type": "code",
   "execution_count": 12,
   "metadata": {},
   "outputs": [
    {
     "data": {
      "text/html": [
       "<div>\n",
       "<style>\n",
       "    .dataframe thead tr:only-child th {\n",
       "        text-align: right;\n",
       "    }\n",
       "\n",
       "    .dataframe thead th {\n",
       "        text-align: left;\n",
       "    }\n",
       "\n",
       "    .dataframe tbody tr th {\n",
       "        vertical-align: top;\n",
       "    }\n",
       "</style>\n",
       "<table border=\"1\" class=\"dataframe\">\n",
       "  <thead>\n",
       "    <tr style=\"text-align: right;\">\n",
       "      <th></th>\n",
       "      <th>DATASET</th>\n",
       "      <th>DATE</th>\n",
       "      <th>PLAYER</th>\n",
       "      <th>POSITION</th>\n",
       "      <th>TEAM</th>\n",
       "      <th>OPPONENT</th>\n",
       "      <th>ROAD_HOME</th>\n",
       "      <th>MINUTES</th>\n",
       "      <th>FG</th>\n",
       "      <th>FGA</th>\n",
       "      <th>...</th>\n",
       "      <th>DR</th>\n",
       "      <th>TOT</th>\n",
       "      <th>A</th>\n",
       "      <th>PF</th>\n",
       "      <th>ST</th>\n",
       "      <th>TO</th>\n",
       "      <th>BL</th>\n",
       "      <th>PTS</th>\n",
       "      <th>DT_Double</th>\n",
       "      <th>DraftKings_PTS</th>\n",
       "    </tr>\n",
       "  </thead>\n",
       "  <tbody>\n",
       "    <tr>\n",
       "      <th>0</th>\n",
       "      <td>2017-2018 Regular Season</td>\n",
       "      <td>10/17/2017</td>\n",
       "      <td>Gordon Hayward</td>\n",
       "      <td>SF</td>\n",
       "      <td>Boston</td>\n",
       "      <td>Cleveland</td>\n",
       "      <td>R</td>\n",
       "      <td>5.25</td>\n",
       "      <td>1</td>\n",
       "      <td>2</td>\n",
       "      <td>...</td>\n",
       "      <td>1</td>\n",
       "      <td>1</td>\n",
       "      <td>0</td>\n",
       "      <td>1</td>\n",
       "      <td>0</td>\n",
       "      <td>0</td>\n",
       "      <td>0</td>\n",
       "      <td>2</td>\n",
       "      <td>0.0</td>\n",
       "      <td>3.25</td>\n",
       "    </tr>\n",
       "    <tr>\n",
       "      <th>1</th>\n",
       "      <td>2017-2018 Regular Season</td>\n",
       "      <td>10/17/2017</td>\n",
       "      <td>Jayson Tatum</td>\n",
       "      <td>SF</td>\n",
       "      <td>Boston</td>\n",
       "      <td>Cleveland</td>\n",
       "      <td>R</td>\n",
       "      <td>36.53</td>\n",
       "      <td>5</td>\n",
       "      <td>12</td>\n",
       "      <td>...</td>\n",
       "      <td>6</td>\n",
       "      <td>10</td>\n",
       "      <td>3</td>\n",
       "      <td>4</td>\n",
       "      <td>0</td>\n",
       "      <td>1</td>\n",
       "      <td>0</td>\n",
       "      <td>14</td>\n",
       "      <td>1.0</td>\n",
       "      <td>32.50</td>\n",
       "    </tr>\n",
       "    <tr>\n",
       "      <th>2</th>\n",
       "      <td>2017-2018 Regular Season</td>\n",
       "      <td>10/17/2017</td>\n",
       "      <td>Al Horford</td>\n",
       "      <td>C</td>\n",
       "      <td>Boston</td>\n",
       "      <td>Cleveland</td>\n",
       "      <td>R</td>\n",
       "      <td>32.12</td>\n",
       "      <td>2</td>\n",
       "      <td>7</td>\n",
       "      <td>...</td>\n",
       "      <td>7</td>\n",
       "      <td>7</td>\n",
       "      <td>5</td>\n",
       "      <td>2</td>\n",
       "      <td>0</td>\n",
       "      <td>0</td>\n",
       "      <td>1</td>\n",
       "      <td>9</td>\n",
       "      <td>0.0</td>\n",
       "      <td>27.25</td>\n",
       "    </tr>\n",
       "    <tr>\n",
       "      <th>3</th>\n",
       "      <td>2017-2018 Regular Season</td>\n",
       "      <td>10/17/2017</td>\n",
       "      <td>Jaylen Brown</td>\n",
       "      <td>SF</td>\n",
       "      <td>Boston</td>\n",
       "      <td>Cleveland</td>\n",
       "      <td>R</td>\n",
       "      <td>39.60</td>\n",
       "      <td>11</td>\n",
       "      <td>23</td>\n",
       "      <td>...</td>\n",
       "      <td>5</td>\n",
       "      <td>6</td>\n",
       "      <td>0</td>\n",
       "      <td>5</td>\n",
       "      <td>2</td>\n",
       "      <td>3</td>\n",
       "      <td>0</td>\n",
       "      <td>25</td>\n",
       "      <td>0.0</td>\n",
       "      <td>36.00</td>\n",
       "    </tr>\n",
       "    <tr>\n",
       "      <th>4</th>\n",
       "      <td>2017-2018 Regular Season</td>\n",
       "      <td>10/17/2017</td>\n",
       "      <td>Kyrie Irving</td>\n",
       "      <td>PG</td>\n",
       "      <td>Boston</td>\n",
       "      <td>Cleveland</td>\n",
       "      <td>R</td>\n",
       "      <td>39.35</td>\n",
       "      <td>8</td>\n",
       "      <td>17</td>\n",
       "      <td>...</td>\n",
       "      <td>2</td>\n",
       "      <td>4</td>\n",
       "      <td>10</td>\n",
       "      <td>4</td>\n",
       "      <td>3</td>\n",
       "      <td>2</td>\n",
       "      <td>0</td>\n",
       "      <td>22</td>\n",
       "      <td>1.0</td>\n",
       "      <td>50.50</td>\n",
       "    </tr>\n",
       "  </tbody>\n",
       "</table>\n",
       "<p>5 rows × 25 columns</p>\n",
       "</div>"
      ],
      "text/plain": [
       "                    DATASET        DATE          PLAYER POSITION    TEAM  \\\n",
       "0  2017-2018 Regular Season  10/17/2017  Gordon Hayward       SF  Boston   \n",
       "1  2017-2018 Regular Season  10/17/2017    Jayson Tatum       SF  Boston   \n",
       "2  2017-2018 Regular Season  10/17/2017      Al Horford        C  Boston   \n",
       "3  2017-2018 Regular Season  10/17/2017    Jaylen Brown       SF  Boston   \n",
       "4  2017-2018 Regular Season  10/17/2017    Kyrie Irving       PG  Boston   \n",
       "\n",
       "    OPPONENT ROAD_HOME  MINUTES  FG  FGA       ...        DR  TOT   A  PF  ST  \\\n",
       "0  Cleveland         R     5.25   1    2       ...         1    1   0   1   0   \n",
       "1  Cleveland         R    36.53   5   12       ...         6   10   3   4   0   \n",
       "2  Cleveland         R    32.12   2    7       ...         7    7   5   2   0   \n",
       "3  Cleveland         R    39.60  11   23       ...         5    6   0   5   2   \n",
       "4  Cleveland         R    39.35   8   17       ...         2    4  10   4   3   \n",
       "\n",
       "   TO  BL  PTS  DT_Double  DraftKings_PTS  \n",
       "0   0   0    2        0.0            3.25  \n",
       "1   1   0   14        1.0           32.50  \n",
       "2   0   1    9        0.0           27.25  \n",
       "3   3   0   25        0.0           36.00  \n",
       "4   2   0   22        1.0           50.50  \n",
       "\n",
       "[5 rows x 25 columns]"
      ]
     },
     "execution_count": 12,
     "metadata": {},
     "output_type": "execute_result"
    }
   ],
   "source": [
    "player_2017_2018.head()"
   ]
  },
  {
   "cell_type": "code",
   "execution_count": 5,
   "metadata": {
    "collapsed": true
   },
   "outputs": [],
   "source": [
    "#create column of all zeros - this column will be the double-double bonus\n",
    "player_2017_2018['DT_Double'] = pd.Series(np.zeros(player_2017_2018.shape[0]))\n",
    "player_2017_2018.DT_Double.fillna(value=0.0,inplace=True)"
   ]
  },
  {
   "cell_type": "code",
   "execution_count": 7,
   "metadata": {},
   "outputs": [
    {
     "name": "stderr",
     "output_type": "stream",
     "text": [
      "/Users/willhall/anaconda3/lib/python3.6/site-packages/ipykernel_launcher.py:7: SettingWithCopyWarning: \n",
      "A value is trying to be set on a copy of a slice from a DataFrame\n",
      "\n",
      "See the caveats in the documentation: http://pandas.pydata.org/pandas-docs/stable/indexing.html#indexing-view-versus-copy\n",
      "  import sys\n"
     ]
    }
   ],
   "source": [
    "#This counts the number of categories the player had more than 10\n",
    "#This takes a long time, consider rewriting\n",
    "categories = ['PTS', 'TOT', 'A', 'BL', 'ST']\n",
    "for cat in categories:\n",
    "    for i,x in enumerate(player_2017_2018[cat]):\n",
    "        if x >=10:\n",
    "            player_2017_2018['DT_Double'][i] += 1"
   ]
  },
  {
   "cell_type": "code",
   "execution_count": 9,
   "metadata": {},
   "outputs": [
    {
     "name": "stderr",
     "output_type": "stream",
     "text": [
      "/Users/willhall/anaconda3/lib/python3.6/site-packages/ipykernel_launcher.py:5: SettingWithCopyWarning: \n",
      "A value is trying to be set on a copy of a slice from a DataFrame\n",
      "\n",
      "See the caveats in the documentation: http://pandas.pydata.org/pandas-docs/stable/indexing.html#indexing-view-versus-copy\n",
      "  \"\"\"\n"
     ]
    }
   ],
   "source": [
    "#This adjusts the 'DT_Double column to the appropriate multiplier\n",
    "#This takes a long time, consider rewriting\n",
    "for i,x in enumerate(player_2017_2018['DT_Double']):\n",
    "    if x == 1 or x == 2:\n",
    "        player_2017_2018['DT_Double'][i] -= 1"
   ]
  },
  {
   "cell_type": "code",
   "execution_count": 11,
   "metadata": {
    "collapsed": true
   },
   "outputs": [],
   "source": [
    "#create column of draftkings points\n",
    "player_2017_2018['DraftKings_PTS'] = player_2017_2018['PTS'] + (player_2017_2018['3P'] * 0.5) + (player_2017_2018['TOT'] * 1.25) + (player_2017_2018['A'] * 1.5) + (player_2017_2018['ST'] * 2) + (player_2017_2018['BL'] * 2) - (player_2017_2018['TO'] * 0.5) + (player_2017_2018['DT_Double'] * 1.5) "
   ]
  },
  {
   "cell_type": "code",
   "execution_count": 13,
   "metadata": {
    "collapsed": true
   },
   "outputs": [],
   "source": [
    "player_2017_2018.to_pickle('player_2017_2018_w_hand_calc_DKPTS.pkl')"
   ]
  },
  {
   "cell_type": "code",
   "execution_count": null,
   "metadata": {
    "collapsed": true
   },
   "outputs": [],
   "source": []
  }
 ],
 "metadata": {
  "kernelspec": {
   "display_name": "Python 3",
   "language": "python",
   "name": "python3"
  },
  "language_info": {
   "codemirror_mode": {
    "name": "ipython",
    "version": 3
   },
   "file_extension": ".py",
   "mimetype": "text/x-python",
   "name": "python",
   "nbconvert_exporter": "python",
   "pygments_lexer": "ipython3",
   "version": "3.6.3"
  }
 },
 "nbformat": 4,
 "nbformat_minor": 2
}
