{
 "cells": [
  {
   "cell_type": "code",
   "execution_count": 88,
   "metadata": {
    "collapsed": true
   },
   "outputs": [],
   "source": [
    "import pandas as pd\n",
    "import numpy as np\n",
    "\n",
    "#With the goal above, I will import only what I need\n",
    "import sklearn\n",
    "from sklearn.ensemble import RandomForestRegressor\n",
    "\n",
    "#The error metric. In this case we will use c-stat\n",
    "from sklearn.metrics import roc_auc_score\n",
    "\n",
    "from sklearn.model_selection import train_test_split\n",
    "\n",
    "%matplotlib inline"
   ]
  },
  {
   "cell_type": "code",
   "execution_count": 89,
   "metadata": {
    "collapsed": true
   },
   "outputs": [],
   "source": [
    "X = pd.read_pickle('player_2016_2018.pkl')"
   ]
  },
  {
   "cell_type": "code",
   "execution_count": 90,
   "metadata": {},
   "outputs": [],
   "source": [
    "X = X.dropna()"
   ]
  },
  {
   "cell_type": "code",
   "execution_count": 106,
   "metadata": {},
   "outputs": [
    {
     "data": {
      "text/plain": [
       "Index(['DATE', 'PLAYER', 'POSITION', 'TEAM', 'OPPONENT', 'ROAD_HOME',\n",
       "       'DraftKings_PTS', 'DK_SAL', 'MINUTES_roll2', 'MINUTES_roll3',\n",
       "       'MINUTES_roll5', 'MINUTES_roll10', 'DraftKings_PTS_roll2',\n",
       "       'DraftKings_PTS_roll3', 'DraftKings_PTS_roll5', 'DraftKings_PTS_roll10',\n",
       "       'USAGE_roll2', 'USAGE_roll3', 'USAGE_roll5', 'USAGE_roll10',\n",
       "       'REST DAYS', 'OPENING TOTAL', 'FAVORITE', 'SPREAD_10+', 'PACE_roll2',\n",
       "       'PACE_roll3', 'PACE_roll5', 'PACE_roll10', 'OEFF_roll2', 'OEFF_roll3',\n",
       "       'OEFF_roll5', 'OEFF_roll10', 'DEFF_roll2', 'DEFF_roll3', 'DEFF_roll5',\n",
       "       'DEFF_roll10', 'opp_C_allowed_roll3', 'opp_C_allowed_roll5',\n",
       "       'opp_C_allowed_roll10', 'opp_C_allowed_roll25', 'opp_PF_allowed_roll3',\n",
       "       'opp_PF_allowed_roll5', 'opp_PF_allowed_roll10',\n",
       "       'opp_PF_allowed_roll25', 'opp_PG_allowed_roll3', 'opp_PG_allowed_roll5',\n",
       "       'opp_PG_allowed_roll10', 'opp_PG_allowed_roll25',\n",
       "       'opp_SF_allowed_roll3', 'opp_SF_allowed_roll5', 'opp_SF_allowed_roll10',\n",
       "       'opp_SF_allowed_roll25', 'opp_SG_allowed_roll3', 'opp_SG_allowed_roll5',\n",
       "       'opp_SG_allowed_roll10', 'opp_SG_allowed_roll25', 'opp_PACE_roll2',\n",
       "       'opp_PACE_roll3', 'opp_PACE_roll5', 'opp_PACE_roll10', 'opp_OEFF_roll2',\n",
       "       'opp_OEFF_roll3', 'opp_OEFF_roll5', 'opp_OEFF_roll10', 'opp_DEFF_roll2',\n",
       "       'opp_DEFF_roll3', 'opp_DEFF_roll5', 'opp_DEFF_roll10', 'Start',\n",
       "       'VALUE'],\n",
       "      dtype='object')"
      ]
     },
     "execution_count": 106,
     "metadata": {},
     "output_type": "execute_result"
    }
   ],
   "source": [
    "X.columns"
   ]
  },
  {
   "cell_type": "code",
   "execution_count": 92,
   "metadata": {},
   "outputs": [],
   "source": [
    "X = X.drop(['C_DK_PTS', 'PF_DK_PTS', 'PG_DK_PTS',\n",
    "       'SF_DK_PTS', 'SG_DK_PTS', 'opp_C_allowed', 'opp_PF_allowed',\n",
    "       'opp_PG_allowed', 'opp_SF_allowed', 'opp_SG_allowed','DK_PTS_PER_MIN','PACE', 'OEFF', 'DEFF','MINUTES','USAGE'], axis = 1)"
   ]
  },
  {
   "cell_type": "code",
   "execution_count": 94,
   "metadata": {
    "collapsed": true
   },
   "outputs": [],
   "source": [
    "X_train, X_test = train_test_split(X, test_size=0.2)\n"
   ]
  },
  {
   "cell_type": "code",
   "execution_count": 95,
   "metadata": {},
   "outputs": [],
   "source": [
    "y_train = X_train.pop('DraftKings_PTS')\n",
    "y_test = X_test.pop('DraftKings_PTS')\n",
    "\n"
   ]
  },
  {
   "cell_type": "code",
   "execution_count": 96,
   "metadata": {},
   "outputs": [
    {
     "data": {
      "text/html": [
       "<div>\n",
       "<style>\n",
       "    .dataframe thead tr:only-child th {\n",
       "        text-align: right;\n",
       "    }\n",
       "\n",
       "    .dataframe thead th {\n",
       "        text-align: left;\n",
       "    }\n",
       "\n",
       "    .dataframe tbody tr th {\n",
       "        vertical-align: top;\n",
       "    }\n",
       "</style>\n",
       "<table border=\"1\" class=\"dataframe\">\n",
       "  <thead>\n",
       "    <tr style=\"text-align: right;\">\n",
       "      <th></th>\n",
       "      <th>MINUTES_roll2</th>\n",
       "      <th>MINUTES_roll3</th>\n",
       "      <th>MINUTES_roll5</th>\n",
       "      <th>MINUTES_roll10</th>\n",
       "      <th>DraftKings_PTS_roll2</th>\n",
       "      <th>DraftKings_PTS_roll3</th>\n",
       "      <th>DraftKings_PTS_roll5</th>\n",
       "      <th>DraftKings_PTS_roll10</th>\n",
       "      <th>USAGE_roll2</th>\n",
       "      <th>USAGE_roll3</th>\n",
       "      <th>...</th>\n",
       "      <th>opp_PACE_roll10</th>\n",
       "      <th>opp_OEFF_roll2</th>\n",
       "      <th>opp_OEFF_roll3</th>\n",
       "      <th>opp_OEFF_roll5</th>\n",
       "      <th>opp_OEFF_roll10</th>\n",
       "      <th>opp_DEFF_roll2</th>\n",
       "      <th>opp_DEFF_roll3</th>\n",
       "      <th>opp_DEFF_roll5</th>\n",
       "      <th>opp_DEFF_roll10</th>\n",
       "      <th>Start</th>\n",
       "    </tr>\n",
       "  </thead>\n",
       "  <tbody>\n",
       "    <tr>\n",
       "      <th>47669</th>\n",
       "      <td>20.560</td>\n",
       "      <td>15.830000</td>\n",
       "      <td>12.270</td>\n",
       "      <td>12.887</td>\n",
       "      <td>14.125</td>\n",
       "      <td>12.750000</td>\n",
       "      <td>11.100</td>\n",
       "      <td>10.600</td>\n",
       "      <td>7.414502</td>\n",
       "      <td>9.323493</td>\n",
       "      <td>...</td>\n",
       "      <td>98.036941</td>\n",
       "      <td>122.279360</td>\n",
       "      <td>117.231798</td>\n",
       "      <td>114.575252</td>\n",
       "      <td>112.453816</td>\n",
       "      <td>119.988034</td>\n",
       "      <td>120.605926</td>\n",
       "      <td>118.558213</td>\n",
       "      <td>115.408845</td>\n",
       "      <td>0.0</td>\n",
       "    </tr>\n",
       "    <tr>\n",
       "      <th>3539</th>\n",
       "      <td>3.265</td>\n",
       "      <td>3.836667</td>\n",
       "      <td>4.660</td>\n",
       "      <td>4.660</td>\n",
       "      <td>0.750</td>\n",
       "      <td>0.833333</td>\n",
       "      <td>2.375</td>\n",
       "      <td>2.375</td>\n",
       "      <td>4.462061</td>\n",
       "      <td>9.016173</td>\n",
       "      <td>...</td>\n",
       "      <td>96.751554</td>\n",
       "      <td>112.175914</td>\n",
       "      <td>109.907544</td>\n",
       "      <td>108.341963</td>\n",
       "      <td>111.473815</td>\n",
       "      <td>101.565476</td>\n",
       "      <td>102.138402</td>\n",
       "      <td>104.984849</td>\n",
       "      <td>108.410592</td>\n",
       "      <td>0.0</td>\n",
       "    </tr>\n",
       "    <tr>\n",
       "      <th>31942</th>\n",
       "      <td>28.815</td>\n",
       "      <td>29.586667</td>\n",
       "      <td>30.908</td>\n",
       "      <td>26.019</td>\n",
       "      <td>34.375</td>\n",
       "      <td>36.083333</td>\n",
       "      <td>38.850</td>\n",
       "      <td>28.850</td>\n",
       "      <td>22.152599</td>\n",
       "      <td>23.277135</td>\n",
       "      <td>...</td>\n",
       "      <td>95.377857</td>\n",
       "      <td>96.770327</td>\n",
       "      <td>96.375740</td>\n",
       "      <td>99.150349</td>\n",
       "      <td>103.455588</td>\n",
       "      <td>103.700149</td>\n",
       "      <td>103.766247</td>\n",
       "      <td>109.036668</td>\n",
       "      <td>110.107092</td>\n",
       "      <td>1.0</td>\n",
       "    </tr>\n",
       "    <tr>\n",
       "      <th>23806</th>\n",
       "      <td>29.535</td>\n",
       "      <td>31.123333</td>\n",
       "      <td>32.424</td>\n",
       "      <td>31.453</td>\n",
       "      <td>21.375</td>\n",
       "      <td>30.583333</td>\n",
       "      <td>31.450</td>\n",
       "      <td>33.075</td>\n",
       "      <td>15.279608</td>\n",
       "      <td>19.021931</td>\n",
       "      <td>...</td>\n",
       "      <td>93.730421</td>\n",
       "      <td>116.910196</td>\n",
       "      <td>115.517000</td>\n",
       "      <td>111.711201</td>\n",
       "      <td>112.021920</td>\n",
       "      <td>123.112826</td>\n",
       "      <td>123.125579</td>\n",
       "      <td>120.634550</td>\n",
       "      <td>119.054023</td>\n",
       "      <td>1.0</td>\n",
       "    </tr>\n",
       "    <tr>\n",
       "      <th>39083</th>\n",
       "      <td>21.215</td>\n",
       "      <td>25.460000</td>\n",
       "      <td>24.800</td>\n",
       "      <td>23.035</td>\n",
       "      <td>11.750</td>\n",
       "      <td>15.083333</td>\n",
       "      <td>14.150</td>\n",
       "      <td>16.050</td>\n",
       "      <td>14.714739</td>\n",
       "      <td>14.676158</td>\n",
       "      <td>...</td>\n",
       "      <td>98.260364</td>\n",
       "      <td>116.961026</td>\n",
       "      <td>112.984271</td>\n",
       "      <td>113.086927</td>\n",
       "      <td>114.961469</td>\n",
       "      <td>115.422386</td>\n",
       "      <td>114.337849</td>\n",
       "      <td>109.831598</td>\n",
       "      <td>109.024133</td>\n",
       "      <td>1.0</td>\n",
       "    </tr>\n",
       "  </tbody>\n",
       "</table>\n",
       "<p>5 rows × 60 columns</p>\n",
       "</div>"
      ],
      "text/plain": [
       "       MINUTES_roll2  MINUTES_roll3  MINUTES_roll5  MINUTES_roll10  \\\n",
       "47669         20.560      15.830000         12.270          12.887   \n",
       "3539           3.265       3.836667          4.660           4.660   \n",
       "31942         28.815      29.586667         30.908          26.019   \n",
       "23806         29.535      31.123333         32.424          31.453   \n",
       "39083         21.215      25.460000         24.800          23.035   \n",
       "\n",
       "       DraftKings_PTS_roll2  DraftKings_PTS_roll3  DraftKings_PTS_roll5  \\\n",
       "47669                14.125             12.750000                11.100   \n",
       "3539                  0.750              0.833333                 2.375   \n",
       "31942                34.375             36.083333                38.850   \n",
       "23806                21.375             30.583333                31.450   \n",
       "39083                11.750             15.083333                14.150   \n",
       "\n",
       "       DraftKings_PTS_roll10  USAGE_roll2  USAGE_roll3  ...    \\\n",
       "47669                 10.600     7.414502     9.323493  ...     \n",
       "3539                   2.375     4.462061     9.016173  ...     \n",
       "31942                 28.850    22.152599    23.277135  ...     \n",
       "23806                 33.075    15.279608    19.021931  ...     \n",
       "39083                 16.050    14.714739    14.676158  ...     \n",
       "\n",
       "       opp_PACE_roll10  opp_OEFF_roll2  opp_OEFF_roll3  opp_OEFF_roll5  \\\n",
       "47669        98.036941      122.279360      117.231798      114.575252   \n",
       "3539         96.751554      112.175914      109.907544      108.341963   \n",
       "31942        95.377857       96.770327       96.375740       99.150349   \n",
       "23806        93.730421      116.910196      115.517000      111.711201   \n",
       "39083        98.260364      116.961026      112.984271      113.086927   \n",
       "\n",
       "       opp_OEFF_roll10  opp_DEFF_roll2  opp_DEFF_roll3  opp_DEFF_roll5  \\\n",
       "47669       112.453816      119.988034      120.605926      118.558213   \n",
       "3539        111.473815      101.565476      102.138402      104.984849   \n",
       "31942       103.455588      103.700149      103.766247      109.036668   \n",
       "23806       112.021920      123.112826      123.125579      120.634550   \n",
       "39083       114.961469      115.422386      114.337849      109.831598   \n",
       "\n",
       "       opp_DEFF_roll10  Start  \n",
       "47669       115.408845    0.0  \n",
       "3539        108.410592    0.0  \n",
       "31942       110.107092    1.0  \n",
       "23806       119.054023    1.0  \n",
       "39083       109.024133    1.0  \n",
       "\n",
       "[5 rows x 60 columns]"
      ]
     },
     "execution_count": 96,
     "metadata": {},
     "output_type": "execute_result"
    }
   ],
   "source": [
    "# Get the numeric variables by only selecting the variables that are not 'object' datatypes\n",
    "numeric_variables = list(X_train.dtypes[X_train.dtypes != \"object\"].index)\n",
    "X_train[numeric_variables].head()\n",
    "#A good way to get a FAST model, as FAST as possible, is to ignore all the categorical variables."
   ]
  },
  {
   "cell_type": "code",
   "execution_count": 97,
   "metadata": {},
   "outputs": [
    {
     "data": {
      "text/plain": [
       "RandomForestRegressor(bootstrap=True, criterion='mse', max_depth=None,\n",
       "           max_features='auto', max_leaf_nodes=None,\n",
       "           min_impurity_decrease=0.0, min_impurity_split=None,\n",
       "           min_samples_leaf=1, min_samples_split=2,\n",
       "           min_weight_fraction_leaf=0.0, n_estimators=100, n_jobs=1,\n",
       "           oob_score=True, random_state=42, verbose=0, warm_start=False)"
      ]
     },
     "execution_count": 97,
     "metadata": {},
     "output_type": "execute_result"
    }
   ],
   "source": [
    "#Lets build our first model. I always have oob=True. It is a good idea to increase n_estimators to a number higher\n",
    "#than the default. In this case, the oob_predictions will be based on a forest of 33 trees. I set random state=42 so\n",
    "#you all replicate the model exactly.\n",
    "model = RandomForestRegressor(n_estimators = 100, oob_score = True, random_state = 42)\n",
    "\n",
    "#I only use numeric variables because I have yet to dummy out the categorical variables\n",
    "model.fit(X_train[numeric_variables],y_train)"
   ]
  },
  {
   "cell_type": "code",
   "execution_count": 98,
   "metadata": {},
   "outputs": [
    {
     "data": {
      "text/plain": [
       "0.55887367553873202"
      ]
     },
     "execution_count": 98,
     "metadata": {},
     "output_type": "execute_result"
    }
   ],
   "source": [
    "model.oob_score_"
   ]
  },
  {
   "cell_type": "code",
   "execution_count": 99,
   "metadata": {
    "collapsed": true
   },
   "outputs": [],
   "source": [
    "y_oob = model.oob_prediction_"
   ]
  },
  {
   "cell_type": "code",
   "execution_count": 100,
   "metadata": {},
   "outputs": [
    {
     "data": {
      "text/plain": [
       "40150"
      ]
     },
     "execution_count": 100,
     "metadata": {},
     "output_type": "execute_result"
    }
   ],
   "source": [
    "len(y_oob)"
   ]
  },
  {
   "cell_type": "code",
   "execution_count": 101,
   "metadata": {},
   "outputs": [
    {
     "name": "stdout",
     "output_type": "stream",
     "text": [
      "7.2922624757\n"
     ]
    }
   ],
   "source": [
    "from sklearn.metrics import mean_absolute_error\n",
    "print(mean_absolute_error(y_train,y_oob))"
   ]
  },
  {
   "cell_type": "code",
   "execution_count": 102,
   "metadata": {},
   "outputs": [
    {
     "name": "stdout",
     "output_type": "stream",
     "text": [
      "87.7378157787\n"
     ]
    }
   ],
   "source": [
    "from sklearn.metrics import mean_squared_error\n",
    "print(mean_squared_error(y_train,y_oob))"
   ]
  },
  {
   "cell_type": "code",
   "execution_count": 103,
   "metadata": {},
   "outputs": [
    {
     "data": {
      "text/plain": [
       "83.87018150960007"
      ]
     },
     "execution_count": 103,
     "metadata": {},
     "output_type": "execute_result"
    }
   ],
   "source": [
    "9.15806647222 ** 2"
   ]
  },
  {
   "cell_type": "code",
   "execution_count": 104,
   "metadata": {},
   "outputs": [
    {
     "name": "stdout",
     "output_type": "stream",
     "text": [
      "9.3668466294\n"
     ]
    }
   ],
   "source": [
    "print(np.sqrt(mean_squared_error(y_train,y_oob)))\n"
   ]
  },
  {
   "cell_type": "code",
   "execution_count": 105,
   "metadata": {},
   "outputs": [
    {
     "name": "stdout",
     "output_type": "stream",
     "text": [
      "MINUTES_roll2            0.011002\n",
      "MINUTES_roll3            0.009347\n",
      "MINUTES_roll5            0.008555\n",
      "MINUTES_roll10           0.009512\n",
      "DraftKings_PTS_roll2     0.010054\n",
      "DraftKings_PTS_roll3     0.012789\n",
      "DraftKings_PTS_roll5     0.017061\n",
      "DraftKings_PTS_roll10    0.553240\n",
      "USAGE_roll2              0.009892\n",
      "USAGE_roll3              0.008597\n",
      "USAGE_roll5              0.009060\n",
      "USAGE_roll10             0.011534\n",
      "OPENING TOTAL            0.006943\n",
      "FAVORITE                 0.001270\n",
      "SPREAD_10+               0.000684\n",
      "PACE_roll2               0.006763\n",
      "PACE_roll3               0.006157\n",
      "PACE_roll5               0.005733\n",
      "PACE_roll10              0.006378\n",
      "OEFF_roll2               0.007286\n",
      "OEFF_roll3               0.006458\n",
      "OEFF_roll5               0.006433\n",
      "OEFF_roll10              0.006922\n",
      "DEFF_roll2               0.007621\n",
      "DEFF_roll3               0.006482\n",
      "DEFF_roll5               0.006296\n",
      "DEFF_roll10              0.006743\n",
      "opp_C_allowed_roll3      0.006864\n",
      "opp_C_allowed_roll5      0.006771\n",
      "opp_C_allowed_roll10     0.006687\n",
      "opp_C_allowed_roll25     0.007911\n",
      "opp_PF_allowed_roll3     0.007257\n",
      "opp_PF_allowed_roll5     0.006613\n",
      "opp_PF_allowed_roll10    0.006715\n",
      "opp_PF_allowed_roll25    0.007332\n",
      "opp_PG_allowed_roll3     0.007458\n",
      "opp_PG_allowed_roll5     0.007061\n",
      "opp_PG_allowed_roll10    0.006717\n",
      "opp_PG_allowed_roll25    0.007464\n",
      "opp_SF_allowed_roll3     0.008009\n",
      "opp_SF_allowed_roll5     0.006811\n",
      "opp_SF_allowed_roll10    0.006966\n",
      "opp_SF_allowed_roll25    0.007203\n",
      "opp_SG_allowed_roll3     0.006975\n",
      "opp_SG_allowed_roll5     0.006872\n",
      "opp_SG_allowed_roll10    0.006512\n",
      "opp_SG_allowed_roll25    0.007674\n",
      "opp_PACE_roll2           0.007081\n",
      "opp_PACE_roll3           0.006467\n",
      "opp_PACE_roll5           0.006349\n",
      "opp_PACE_roll10          0.007418\n",
      "opp_OEFF_roll2           0.007411\n",
      "opp_OEFF_roll3           0.006617\n",
      "opp_OEFF_roll5           0.006702\n",
      "opp_OEFF_roll10          0.007465\n",
      "opp_DEFF_roll2           0.007737\n",
      "opp_DEFF_roll3           0.007110\n",
      "opp_DEFF_roll5           0.007438\n",
      "opp_DEFF_roll10          0.008096\n",
      "Start                    0.013423\n",
      "dtype: float64\n"
     ]
    },
    {
     "data": {
      "text/plain": [
       "<matplotlib.axes._subplots.AxesSubplot at 0x1a16748cf8>"
      ]
     },
     "execution_count": 105,
     "metadata": {},
     "output_type": "execute_result"
    },
    {
     "data": {
      "image/png": "[encoded data removed]",
      "text/plain": [
       "<matplotlib.figure.Figure at 0x11415a978>"
      ]
     },
     "metadata": {},
     "output_type": "display_data"
    }
   ],
   "source": [
    "#from ipykernel import kernelapp as app\n",
    "\n",
    "feature_importances = pd.Series(model.feature_importances_, index=X[numeric_variables].columns)\n",
    "print(feature_importances)\n",
    "feature_importances.sort_values(inplace=True)\n",
    "feature_importances.plot(kind='barh', figsize=(7,6))"
   ]
  },
  {
   "cell_type": "code",
   "execution_count": null,
   "metadata": {
    "collapsed": true
   },
   "outputs": [],
   "source": []
  },
  {
   "cell_type": "code",
   "execution_count": 2,
   "metadata": {
    "collapsed": true
   },
   "outputs": [],
   "source": []
  },
  {
   "cell_type": "code",
   "execution_count": 4,
   "metadata": {},
   "outputs": [],
   "source": []
  },
  {
   "cell_type": "code",
   "execution_count": null,
   "metadata": {},
   "outputs": [],
   "source": []
  },
  {
   "cell_type": "code",
   "execution_count": null,
   "metadata": {
    "collapsed": true
   },
   "outputs": [],
   "source": []
  }
 ],
 "metadata": {
  "kernelspec": {
   "display_name": "Python 3",
   "language": "python",
   "name": "python3"
  },
  "language_info": {
   "codemirror_mode": {
    "name": "ipython",
    "version": 3
   },
   "file_extension": ".py",
   "mimetype": "text/x-python",
   "name": "python",
   "nbconvert_exporter": "python",
   "pygments_lexer": "ipython3",
   "version": "3.6.3"
  }
 },
 "nbformat": 4,
 "nbformat_minor": 2
}
