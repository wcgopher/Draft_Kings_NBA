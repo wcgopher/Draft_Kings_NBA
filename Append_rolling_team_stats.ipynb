{
 "cells": [
  {
   "cell_type": "code",
   "execution_count": 1,
   "metadata": {
    "collapsed": true
   },
   "outputs": [],
   "source": [
    "import pandas as pd\n",
    "import numpy as np\n",
    "%matplotlib inline"
   ]
  },
  {
   "cell_type": "code",
   "execution_count": 2,
   "metadata": {},
   "outputs": [],
   "source": [
    "team_2017_2018 = pd.read_excel('/Users/willhall/Desktop/python_projects/DraftKings/2017-2018_NBA_Box_Score_Team-Stats.xlsx')\n",
    "pace = team_2017_2018[['TEAMS','PACE']]\n",
    "oeff = team_2017_2018[['TEAMS','OEFF']]\n",
    "deff = team_2017_2018[['TEAMS','DEFF']]\n",
    "teams = pace.TEAMS.unique()"
   ]
  },
  {
   "cell_type": "code",
   "execution_count": null,
   "metadata": {},
   "outputs": [],
   "source": [
    "\n"
   ]
  },
  {
   "cell_type": "code",
   "execution_count": null,
   "metadata": {},
   "outputs": [],
   "source": []
  },
  {
   "cell_type": "code",
   "execution_count": 3,
   "metadata": {
    "collapsed": true
   },
   "outputs": [],
   "source": [
    "def join_rolling_pace(teams,stat_df):\n",
    "    result = []\n",
    "    for team in teams:\n",
    "        df = pd.DataFrame(pace.loc[lambda df: stat_df.TEAMS == team])\n",
    "        df['pace_roll2'] = df['PACE'].rolling(2, min_periods=1).mean().shift()\n",
    "        df['pace_roll3'] = df['PACE'].rolling(3, min_periods=1).mean().shift()\n",
    "        df['pace_roll5'] = df['PACE'].rolling(5, min_periods=1).mean().shift()\n",
    "        df['pace_roll10'] = df['PACE'].rolling(10, min_periods=1).mean().shift()\n",
    "        result.append(df)\n",
    "    return result\n",
    "\n",
    "def join_rolling_oeff(teams,stat_df):\n",
    "    result = []\n",
    "    for team in teams:\n",
    "        df = pd.DataFrame(oeff.loc[lambda df: stat_df.TEAMS == team])\n",
    "        df['oeff_roll2'] = df['OEFF'].rolling(2, min_periods=1).mean().shift()\n",
    "        df['oeff_roll3'] = df['OEFF'].rolling(3, min_periods=1).mean().shift()\n",
    "        df['oeff_roll5'] = df['OEFF'].rolling(5, min_periods=1).mean().shift()\n",
    "        df['oeff_roll10'] = df['OEFF'].rolling(10, min_periods=1).mean().shift()\n",
    "        result.append(df)\n",
    "    return result\n",
    "\n",
    "def join_rolling_deff(teams,stat_df):\n",
    "    result = []\n",
    "    for team in teams:\n",
    "        df = pd.DataFrame(deff.loc[lambda df: stat_df.TEAMS == team])\n",
    "        df['deff_roll2'] = df['DEFF'].rolling(2, min_periods=1).mean().shift()\n",
    "        df['deff_roll3'] = df['DEFF'].rolling(3, min_periods=1).mean().shift()\n",
    "        df['deff_roll5'] = df['DEFF'].rolling(5, min_periods=1).mean().shift()\n",
    "        df['deff_roll10'] = df['DEFF'].rolling(10, min_periods=1).mean().shift()\n",
    "        result.append(df)\n",
    "    return result"
   ]
  },
  {
   "cell_type": "code",
   "execution_count": 4,
   "metadata": {},
   "outputs": [],
   "source": [
    "rolling_pace = join_rolling_pace(teams,pace)\n",
    "rolling_oeff = join_rolling_oeff(teams,oeff)\n",
    "rolling_deff = join_rolling_deff(teams,deff)"
   ]
  },
  {
   "cell_type": "code",
   "execution_count": 5,
   "metadata": {},
   "outputs": [],
   "source": [
    "rolling_pace = pd.concat(rolling_pace)\n",
    "rolling_pace = rolling_pace.sort_index()\n",
    "rolling_pace = rolling_pace.drop(['TEAMS','PACE'],axis=1)\n",
    "rolling_oeff = pd.concat(rolling_oeff)\n",
    "rolling_oeff = rolling_oeff.sort_index()\n",
    "rolling_oeff = rolling_oeff.drop(['TEAMS','OEFF'],axis=1)\n",
    "rolling_deff = pd.concat(rolling_deff)\n",
    "rolling_deff = rolling_deff.sort_index()\n",
    "rolling_deff = rolling_deff.drop(['TEAMS','DEFF'],axis=1)"
   ]
  },
  {
   "cell_type": "code",
   "execution_count": null,
   "metadata": {},
   "outputs": [],
   "source": []
  },
  {
   "cell_type": "code",
   "execution_count": 6,
   "metadata": {},
   "outputs": [],
   "source": [
    "team_2017_2018 = team_2017_2018.join(rolling_pace)\n",
    "team_2017_2018 = team_2017_2018.join(rolling_oeff)\n",
    "team_2017_2018 = team_2017_2018.join(rolling_deff)"
   ]
  },
  {
   "cell_type": "code",
   "execution_count": null,
   "metadata": {},
   "outputs": [],
   "source": []
  },
  {
   "cell_type": "code",
   "execution_count": null,
   "metadata": {
    "collapsed": true
   },
   "outputs": [],
   "source": []
  },
  {
   "cell_type": "code",
   "execution_count": null,
   "metadata": {
    "collapsed": true
   },
   "outputs": [],
   "source": []
  }
 ],
 "metadata": {
  "kernelspec": {
   "display_name": "Python 3",
   "language": "python",
   "name": "python3"
  },
  "language_info": {
   "codemirror_mode": {
    "name": "ipython",
    "version": 3
   },
   "file_extension": ".py",
   "mimetype": "text/x-python",
   "name": "python",
   "nbconvert_exporter": "python",
   "pygments_lexer": "ipython3",
   "version": "3.6.3"
  }
 },
 "nbformat": 4,
 "nbformat_minor": 2
}
