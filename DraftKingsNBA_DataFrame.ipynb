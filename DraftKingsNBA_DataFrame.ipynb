{
 "cells": [
  {
   "cell_type": "code",
   "execution_count": 2,
   "metadata": {
    "collapsed": true
   },
   "outputs": [],
   "source": [
    "import pandas as pd\n",
    "import numpy as np\n",
    "import matplotlib.pyplot as plt\n",
    "%matplotlib inline"
   ]
  },
  {
   "cell_type": "code",
   "execution_count": 3,
   "metadata": {
    "collapsed": true
   },
   "outputs": [],
   "source": [
    "team_2015_2016 = pd.read_excel('/Users/willhall/Desktop/python_projects/DraftKings/2015-2016_NBA_Box_Score_Team-Stats.xlsx')\n",
    "team_2016_2017 = pd.read_excel('/Users/willhall/Desktop/python_projects/DraftKings/2016-2017_NBA_Box_Score_Team-Stats.xlsx')\n",
    "team_2017_2018 = pd.read_excel('/Users/willhall/Desktop/python_projects/DraftKings/2017-2018_NBA_Box_Score_Team-Stats.xlsx')\n",
    "player_2015_2016 = pd.read_excel('/Users/willhall/Desktop/python_projects/DraftKings/NBA-2015-2016-Player-BoxScore-Dataset.xlsx')\n",
    "player_2016_2017 = pd.read_excel('/Users/willhall/Desktop/python_projects/DraftKings/NBA-2016-2017-Player-BoxScore-Dataset.xlsx')\n",
    "player_2017_2018 = pd.read_excel('/Users/willhall/Desktop/python_projects/DraftKings/NBA-2017-2018-Player-BoxScore-Dataset.xlsx')\n",
    "DFS_2016_2017 = pd.read_excel('/Users/willhall/Desktop/python_projects/DraftKings/NBA-2016-2017-DFS-Dataset.xlsx')\n",
    "DFS_2017_2018 = pd.read_excel('/Users/willhall/Desktop/python_projects/DraftKings/NBA-2017-2018-DFS-Dataset.xlsx')"
   ]
  },
  {
   "cell_type": "code",
   "execution_count": null,
   "metadata": {
    "collapsed": true
   },
   "outputs": [],
   "source": []
  },
  {
   "cell_type": "code",
   "execution_count": null,
   "metadata": {
    "collapsed": true
   },
   "outputs": [],
   "source": []
  },
  {
   "cell_type": "code",
   "execution_count": 4,
   "metadata": {
    "collapsed": true
   },
   "outputs": [],
   "source": [
    "DFS = pd.concat([DFS_2016_2017,DFS_2017_2018])\n",
    "DFS = DFS.rename(index=str, columns={'VENUE\\nR/H':'ROAD_HOME','USAGE \\nRATE (%)':'USAGE','POSITION': 'DK_POS','Unnamed: 9':'FD_POS', 'Unnamed: 10':'YH_POS',\n",
    "       'SALARY ($)':'DK_SAL', 'Unnamed: 12':'FD_SAL', 'Unnamed: 13':'YH_SAL', 'FANTASY POINTS SCORED':'DK_PTS',\n",
    "       'Unnamed: 15':'FD_PTS', 'Unnamed: 16':'YH_PTS'})\n",
    "DFS.drop(['YH_POS', 'YH_SAL','YH_PTS','FD_POS','FD_SAL','FD_PTS'], axis=1,inplace=True)\n",
    "DFS.drop(DFS.index[0],inplace=True)\n",
    "DFS = DFS.reset_index(drop=True)"
   ]
  },
  {
   "cell_type": "code",
   "execution_count": 67,
   "metadata": {},
   "outputs": [
    {
     "data": {
      "text/html": [
       "<div>\n",
       "<style>\n",
       "    .dataframe thead tr:only-child th {\n",
       "        text-align: right;\n",
       "    }\n",
       "\n",
       "    .dataframe thead th {\n",
       "        text-align: left;\n",
       "    }\n",
       "\n",
       "    .dataframe tbody tr th {\n",
       "        vertical-align: top;\n",
       "    }\n",
       "</style>\n",
       "<table border=\"1\" class=\"dataframe\">\n",
       "  <thead>\n",
       "    <tr style=\"text-align: right;\">\n",
       "      <th></th>\n",
       "      <th>DATASET</th>\n",
       "      <th>DATE</th>\n",
       "      <th>PLAYER</th>\n",
       "      <th>TEAM</th>\n",
       "      <th>OPPONENT</th>\n",
       "      <th>ROAD_HOME</th>\n",
       "      <th>MINUTES</th>\n",
       "      <th>USAGE</th>\n",
       "      <th>DK_POS</th>\n",
       "      <th>DK_SAL</th>\n",
       "      <th>DK_PTS</th>\n",
       "    </tr>\n",
       "  </thead>\n",
       "  <tbody>\n",
       "    <tr>\n",
       "      <th>0</th>\n",
       "      <td>2016-2017 Regular Season</td>\n",
       "      <td>10/25/2016</td>\n",
       "      <td>Carmelo Anthony</td>\n",
       "      <td>New York</td>\n",
       "      <td>Cleveland</td>\n",
       "      <td>R</td>\n",
       "      <td>30.08</td>\n",
       "      <td>32.083162</td>\n",
       "      <td>SF</td>\n",
       "      <td>7600</td>\n",
       "      <td>30.25</td>\n",
       "    </tr>\n",
       "    <tr>\n",
       "      <th>1</th>\n",
       "      <td>2016-2017 Regular Season</td>\n",
       "      <td>10/25/2016</td>\n",
       "      <td>Kristaps Porzingis</td>\n",
       "      <td>New York</td>\n",
       "      <td>Cleveland</td>\n",
       "      <td>R</td>\n",
       "      <td>32.80</td>\n",
       "      <td>22.684213</td>\n",
       "      <td>PF</td>\n",
       "      <td>7400</td>\n",
       "      <td>31.25</td>\n",
       "    </tr>\n",
       "    <tr>\n",
       "      <th>2</th>\n",
       "      <td>2016-2017 Regular Season</td>\n",
       "      <td>10/25/2016</td>\n",
       "      <td>Joakim Noah</td>\n",
       "      <td>New York</td>\n",
       "      <td>Cleveland</td>\n",
       "      <td>R</td>\n",
       "      <td>19.52</td>\n",
       "      <td>4.321646</td>\n",
       "      <td>C</td>\n",
       "      <td>5500</td>\n",
       "      <td>13.5</td>\n",
       "    </tr>\n",
       "    <tr>\n",
       "      <th>3</th>\n",
       "      <td>2016-2017 Regular Season</td>\n",
       "      <td>10/25/2016</td>\n",
       "      <td>Courtney Lee</td>\n",
       "      <td>New York</td>\n",
       "      <td>Cleveland</td>\n",
       "      <td>R</td>\n",
       "      <td>19.62</td>\n",
       "      <td>15.048666</td>\n",
       "      <td>SG</td>\n",
       "      <td>3700</td>\n",
       "      <td>4.75</td>\n",
       "    </tr>\n",
       "    <tr>\n",
       "      <th>4</th>\n",
       "      <td>2016-2017 Regular Season</td>\n",
       "      <td>10/25/2016</td>\n",
       "      <td>Derrick Rose</td>\n",
       "      <td>New York</td>\n",
       "      <td>Cleveland</td>\n",
       "      <td>R</td>\n",
       "      <td>29.58</td>\n",
       "      <td>31.199535</td>\n",
       "      <td>PG</td>\n",
       "      <td>5800</td>\n",
       "      <td>22.75</td>\n",
       "    </tr>\n",
       "  </tbody>\n",
       "</table>\n",
       "</div>"
      ],
      "text/plain": [
       "                    DATASET        DATE              PLAYER      TEAM  \\\n",
       "0  2016-2017 Regular Season  10/25/2016     Carmelo Anthony  New York   \n",
       "1  2016-2017 Regular Season  10/25/2016  Kristaps Porzingis  New York   \n",
       "2  2016-2017 Regular Season  10/25/2016         Joakim Noah  New York   \n",
       "3  2016-2017 Regular Season  10/25/2016        Courtney Lee  New York   \n",
       "4  2016-2017 Regular Season  10/25/2016        Derrick Rose  New York   \n",
       "\n",
       "    OPPONENT ROAD_HOME  MINUTES      USAGE DK_POS DK_SAL DK_PTS  \n",
       "0  Cleveland         R    30.08  32.083162     SF   7600  30.25  \n",
       "1  Cleveland         R    32.80  22.684213     PF   7400  31.25  \n",
       "2  Cleveland         R    19.52   4.321646      C   5500   13.5  \n",
       "3  Cleveland         R    19.62  15.048666     SG   3700   4.75  \n",
       "4  Cleveland         R    29.58  31.199535     PG   5800  22.75  "
      ]
     },
     "execution_count": 67,
     "metadata": {},
     "output_type": "execute_result"
    }
   ],
   "source": [
    "DFS.head()"
   ]
  },
  {
   "cell_type": "code",
   "execution_count": 71,
   "metadata": {
    "collapsed": true
   },
   "outputs": [],
   "source": [
    "frames = [player_2016_2017,player_2017_2018]\n",
    "ps = pd.concat(frames)\n",
    "ps = ps.rename(index=str, columns={'DATA SET':'DATASET','PLAYER FULL NAME':'PLAYER','OWN TEAM':'TEAM','OPP TEAM':'OPPONENT','VENUE (R/H)':'ROAD_HOME','MIN':'MINUTES'})\n",
    "ps.drop(['POSITION'], axis=1,inplace=True)\n",
    "ps = ps.reset_index(drop=True)"
   ]
  },
  {
   "cell_type": "code",
   "execution_count": 72,
   "metadata": {},
   "outputs": [
    {
     "data": {
      "text/html": [
       "<div>\n",
       "<style>\n",
       "    .dataframe thead tr:only-child th {\n",
       "        text-align: right;\n",
       "    }\n",
       "\n",
       "    .dataframe thead th {\n",
       "        text-align: left;\n",
       "    }\n",
       "\n",
       "    .dataframe tbody tr th {\n",
       "        vertical-align: top;\n",
       "    }\n",
       "</style>\n",
       "<table border=\"1\" class=\"dataframe\">\n",
       "  <thead>\n",
       "    <tr style=\"text-align: right;\">\n",
       "      <th></th>\n",
       "      <th>DATASET</th>\n",
       "      <th>DATE</th>\n",
       "      <th>PLAYER</th>\n",
       "      <th>TEAM</th>\n",
       "      <th>OPPONENT</th>\n",
       "      <th>ROAD_HOME</th>\n",
       "      <th>MINUTES</th>\n",
       "      <th>FG</th>\n",
       "      <th>FGA</th>\n",
       "      <th>3P</th>\n",
       "      <th>...</th>\n",
       "      <th>FTA</th>\n",
       "      <th>OR</th>\n",
       "      <th>DR</th>\n",
       "      <th>TOT</th>\n",
       "      <th>A</th>\n",
       "      <th>PF</th>\n",
       "      <th>ST</th>\n",
       "      <th>TO</th>\n",
       "      <th>BL</th>\n",
       "      <th>PTS</th>\n",
       "    </tr>\n",
       "  </thead>\n",
       "  <tbody>\n",
       "    <tr>\n",
       "      <th>0</th>\n",
       "      <td>2016-2017 Regular Season</td>\n",
       "      <td>10/25/2016</td>\n",
       "      <td>Carmelo Anthony</td>\n",
       "      <td>New York</td>\n",
       "      <td>Cleveland</td>\n",
       "      <td>R</td>\n",
       "      <td>30.08</td>\n",
       "      <td>8</td>\n",
       "      <td>18</td>\n",
       "      <td>1</td>\n",
       "      <td>...</td>\n",
       "      <td>2</td>\n",
       "      <td>1</td>\n",
       "      <td>4</td>\n",
       "      <td>5</td>\n",
       "      <td>3</td>\n",
       "      <td>5</td>\n",
       "      <td>1</td>\n",
       "      <td>4</td>\n",
       "      <td>0</td>\n",
       "      <td>19</td>\n",
       "    </tr>\n",
       "    <tr>\n",
       "      <th>1</th>\n",
       "      <td>2016-2017 Regular Season</td>\n",
       "      <td>10/25/2016</td>\n",
       "      <td>Kristaps Porzingis</td>\n",
       "      <td>New York</td>\n",
       "      <td>Cleveland</td>\n",
       "      <td>R</td>\n",
       "      <td>32.80</td>\n",
       "      <td>5</td>\n",
       "      <td>13</td>\n",
       "      <td>3</td>\n",
       "      <td>...</td>\n",
       "      <td>6</td>\n",
       "      <td>4</td>\n",
       "      <td>3</td>\n",
       "      <td>7</td>\n",
       "      <td>0</td>\n",
       "      <td>5</td>\n",
       "      <td>1</td>\n",
       "      <td>2</td>\n",
       "      <td>2</td>\n",
       "      <td>16</td>\n",
       "    </tr>\n",
       "    <tr>\n",
       "      <th>2</th>\n",
       "      <td>2016-2017 Regular Season</td>\n",
       "      <td>10/25/2016</td>\n",
       "      <td>Joakim Noah</td>\n",
       "      <td>New York</td>\n",
       "      <td>Cleveland</td>\n",
       "      <td>R</td>\n",
       "      <td>19.52</td>\n",
       "      <td>0</td>\n",
       "      <td>1</td>\n",
       "      <td>0</td>\n",
       "      <td>...</td>\n",
       "      <td>0</td>\n",
       "      <td>1</td>\n",
       "      <td>5</td>\n",
       "      <td>6</td>\n",
       "      <td>3</td>\n",
       "      <td>1</td>\n",
       "      <td>1</td>\n",
       "      <td>1</td>\n",
       "      <td>0</td>\n",
       "      <td>0</td>\n",
       "    </tr>\n",
       "    <tr>\n",
       "      <th>3</th>\n",
       "      <td>2016-2017 Regular Season</td>\n",
       "      <td>10/25/2016</td>\n",
       "      <td>Courtney Lee</td>\n",
       "      <td>New York</td>\n",
       "      <td>Cleveland</td>\n",
       "      <td>R</td>\n",
       "      <td>19.62</td>\n",
       "      <td>0</td>\n",
       "      <td>5</td>\n",
       "      <td>0</td>\n",
       "      <td>...</td>\n",
       "      <td>0</td>\n",
       "      <td>1</td>\n",
       "      <td>2</td>\n",
       "      <td>3</td>\n",
       "      <td>0</td>\n",
       "      <td>1</td>\n",
       "      <td>0</td>\n",
       "      <td>2</td>\n",
       "      <td>1</td>\n",
       "      <td>0</td>\n",
       "    </tr>\n",
       "    <tr>\n",
       "      <th>4</th>\n",
       "      <td>2016-2017 Regular Season</td>\n",
       "      <td>10/25/2016</td>\n",
       "      <td>Derrick Rose</td>\n",
       "      <td>New York</td>\n",
       "      <td>Cleveland</td>\n",
       "      <td>R</td>\n",
       "      <td>29.58</td>\n",
       "      <td>7</td>\n",
       "      <td>17</td>\n",
       "      <td>1</td>\n",
       "      <td>...</td>\n",
       "      <td>2</td>\n",
       "      <td>2</td>\n",
       "      <td>1</td>\n",
       "      <td>3</td>\n",
       "      <td>1</td>\n",
       "      <td>1</td>\n",
       "      <td>0</td>\n",
       "      <td>4</td>\n",
       "      <td>1</td>\n",
       "      <td>17</td>\n",
       "    </tr>\n",
       "  </tbody>\n",
       "</table>\n",
       "<p>5 rows × 22 columns</p>\n",
       "</div>"
      ],
      "text/plain": [
       "                    DATASET        DATE              PLAYER      TEAM  \\\n",
       "0  2016-2017 Regular Season  10/25/2016     Carmelo Anthony  New York   \n",
       "1  2016-2017 Regular Season  10/25/2016  Kristaps Porzingis  New York   \n",
       "2  2016-2017 Regular Season  10/25/2016         Joakim Noah  New York   \n",
       "3  2016-2017 Regular Season  10/25/2016        Courtney Lee  New York   \n",
       "4  2016-2017 Regular Season  10/25/2016        Derrick Rose  New York   \n",
       "\n",
       "    OPPONENT ROAD_HOME  MINUTES  FG  FGA  3P ...   FTA  OR  DR  TOT  A  PF  \\\n",
       "0  Cleveland         R    30.08   8   18   1 ...     2   1   4    5  3   5   \n",
       "1  Cleveland         R    32.80   5   13   3 ...     6   4   3    7  0   5   \n",
       "2  Cleveland         R    19.52   0    1   0 ...     0   1   5    6  3   1   \n",
       "3  Cleveland         R    19.62   0    5   0 ...     0   1   2    3  0   1   \n",
       "4  Cleveland         R    29.58   7   17   1 ...     2   2   1    3  1   1   \n",
       "\n",
       "   ST  TO  BL  PTS  \n",
       "0   1   4   0   19  \n",
       "1   1   2   2   16  \n",
       "2   1   1   0    0  \n",
       "3   0   2   1    0  \n",
       "4   0   4   1   17  \n",
       "\n",
       "[5 rows x 22 columns]"
      ]
     },
     "execution_count": 72,
     "metadata": {},
     "output_type": "execute_result"
    }
   ],
   "source": [
    "ps.head()"
   ]
  },
  {
   "cell_type": "code",
   "execution_count": 73,
   "metadata": {},
   "outputs": [
    {
     "name": "stdout",
     "output_type": "stream",
     "text": [
      "(5242, 7)\n"
     ]
    }
   ],
   "source": [
    "team = pd.concat([team_2016_2017,team_2017_2018])\n",
    "team = team.rename(index=str, columns={'TEAMS':'TEAM','REST DAYS':'REST_DAYS','OPENING SPREAD':'OPENING_SPREAD','OPENING TOTAL':'OPENING_TOTAL'})\n",
    "team.drop(['DATASET','VENUE','1Q', '2Q', '3Q', '4Q', 'F','OT1','OT2', 'OT3', 'OT4','MIN','POSS', 'FG',\n",
    "       'FGA', '3P', '3PA', 'FT', 'FTA', 'OR', 'DR', 'TOT', 'A', 'PF', 'ST',\n",
    "       'TO', 'TO TO', 'BL','STARTING LINEUPS', 'Unnamed: 36', 'Unnamed: 37',\n",
    "       'Unnamed: 38', 'Unnamed: 39', 'MAIN REF', 'CREW', 'OPENING ODDS',\n",
    "       'MOVEMENTS', 'CLOSING ODDS', 'MONEYLINE', 'HALFTIME', 'BOX SCORE',\n",
    "       'ODDS'], axis=1,inplace=True)\n",
    "team = team.reset_index(drop=True)\n",
    "team = team.set_index(['DATE','TEAM'])\n",
    "print(team.shape)\n",
    "\n"
   ]
  },
  {
   "cell_type": "code",
   "execution_count": 74,
   "metadata": {},
   "outputs": [
    {
     "data": {
      "text/html": [
       "<div>\n",
       "<style>\n",
       "    .dataframe thead tr:only-child th {\n",
       "        text-align: right;\n",
       "    }\n",
       "\n",
       "    .dataframe thead th {\n",
       "        text-align: left;\n",
       "    }\n",
       "\n",
       "    .dataframe tbody tr th {\n",
       "        vertical-align: top;\n",
       "    }\n",
       "</style>\n",
       "<table border=\"1\" class=\"dataframe\">\n",
       "  <thead>\n",
       "    <tr style=\"text-align: right;\">\n",
       "      <th></th>\n",
       "      <th></th>\n",
       "      <th>PTS</th>\n",
       "      <th>PACE</th>\n",
       "      <th>OEFF</th>\n",
       "      <th>DEFF</th>\n",
       "      <th>REST_DAYS</th>\n",
       "      <th>OPENING_SPREAD</th>\n",
       "      <th>OPENING_TOTAL</th>\n",
       "    </tr>\n",
       "    <tr>\n",
       "      <th>DATE</th>\n",
       "      <th>TEAM</th>\n",
       "      <th></th>\n",
       "      <th></th>\n",
       "      <th></th>\n",
       "      <th></th>\n",
       "      <th></th>\n",
       "      <th></th>\n",
       "      <th></th>\n",
       "    </tr>\n",
       "  </thead>\n",
       "  <tbody>\n",
       "    <tr>\n",
       "      <th rowspan=\"5\" valign=\"top\">10/25/2016</th>\n",
       "      <th>New York</th>\n",
       "      <td>88</td>\n",
       "      <td>100.373422</td>\n",
       "      <td>87.672611</td>\n",
       "      <td>116.564721</td>\n",
       "      <td>3+</td>\n",
       "      <td>9.5</td>\n",
       "      <td>205.5</td>\n",
       "    </tr>\n",
       "    <tr>\n",
       "      <th>Cleveland</th>\n",
       "      <td>117</td>\n",
       "      <td>100.373422</td>\n",
       "      <td>116.564721</td>\n",
       "      <td>87.672611</td>\n",
       "      <td>3+</td>\n",
       "      <td>-9.5</td>\n",
       "      <td>205.5</td>\n",
       "    </tr>\n",
       "    <tr>\n",
       "      <th>Utah</th>\n",
       "      <td>104</td>\n",
       "      <td>92.538000</td>\n",
       "      <td>112.386263</td>\n",
       "      <td>122.111997</td>\n",
       "      <td>3+</td>\n",
       "      <td>6.0</td>\n",
       "      <td>194.0</td>\n",
       "    </tr>\n",
       "    <tr>\n",
       "      <th>Portland</th>\n",
       "      <td>113</td>\n",
       "      <td>92.538000</td>\n",
       "      <td>122.111997</td>\n",
       "      <td>112.386263</td>\n",
       "      <td>3+</td>\n",
       "      <td>-6.0</td>\n",
       "      <td>194.0</td>\n",
       "    </tr>\n",
       "    <tr>\n",
       "      <th>San Antonio</th>\n",
       "      <td>129</td>\n",
       "      <td>98.777098</td>\n",
       "      <td>130.597074</td>\n",
       "      <td>101.238042</td>\n",
       "      <td>3+</td>\n",
       "      <td>8.0</td>\n",
       "      <td>210.5</td>\n",
       "    </tr>\n",
       "  </tbody>\n",
       "</table>\n",
       "</div>"
      ],
      "text/plain": [
       "                        PTS        PACE        OEFF        DEFF REST_DAYS  \\\n",
       "DATE       TEAM                                                             \n",
       "10/25/2016 New York      88  100.373422   87.672611  116.564721        3+   \n",
       "           Cleveland    117  100.373422  116.564721   87.672611        3+   \n",
       "           Utah         104   92.538000  112.386263  122.111997        3+   \n",
       "           Portland     113   92.538000  122.111997  112.386263        3+   \n",
       "           San Antonio  129   98.777098  130.597074  101.238042        3+   \n",
       "\n",
       "                        OPENING_SPREAD  OPENING_TOTAL  \n",
       "DATE       TEAM                                        \n",
       "10/25/2016 New York                9.5          205.5  \n",
       "           Cleveland              -9.5          205.5  \n",
       "           Utah                    6.0          194.0  \n",
       "           Portland               -6.0          194.0  \n",
       "           San Antonio             8.0          210.5  "
      ]
     },
     "execution_count": 74,
     "metadata": {},
     "output_type": "execute_result"
    }
   ],
   "source": [
    "team.head()"
   ]
  },
  {
   "cell_type": "code",
   "execution_count": 75,
   "metadata": {
    "collapsed": true
   },
   "outputs": [],
   "source": [
    "DFSps = pd.merge(ps,DFS,how='left')"
   ]
  },
  {
   "cell_type": "code",
   "execution_count": 77,
   "metadata": {},
   "outputs": [
    {
     "data": {
      "text/plain": [
       "(55707, 26)"
      ]
     },
     "execution_count": 77,
     "metadata": {},
     "output_type": "execute_result"
    }
   ],
   "source": [
    "DFSps.shape"
   ]
  },
  {
   "cell_type": "code",
   "execution_count": 78,
   "metadata": {},
   "outputs": [
    {
     "data": {
      "text/plain": [
       "(55707, 33)"
      ]
     },
     "execution_count": 78,
     "metadata": {},
     "output_type": "execute_result"
    }
   ],
   "source": [
    "master = DFSps.join(team, on=['DATE', 'TEAM'],lsuffix='_player',rsuffix='_team')\n",
    "master.shape"
   ]
  },
  {
   "cell_type": "code",
   "execution_count": 79,
   "metadata": {},
   "outputs": [
    {
     "name": "stdout",
     "output_type": "stream",
     "text": [
      "<class 'pandas.core.frame.DataFrame'>\n",
      "Int64Index: 55707 entries, 0 to 55706\n",
      "Data columns (total 33 columns):\n",
      "DATASET           55707 non-null object\n",
      "DATE              55707 non-null object\n",
      "PLAYER            55707 non-null object\n",
      "TEAM              55707 non-null object\n",
      "OPPONENT          55707 non-null object\n",
      "ROAD_HOME         55707 non-null object\n",
      "MINUTES           55707 non-null float64\n",
      "FG                55707 non-null int64\n",
      "FGA               55707 non-null int64\n",
      "3P                55707 non-null int64\n",
      "3PA               55707 non-null int64\n",
      "FT                55707 non-null int64\n",
      "FTA               55707 non-null int64\n",
      "OR                55707 non-null int64\n",
      "DR                55707 non-null int64\n",
      "TOT               55707 non-null int64\n",
      "A                 55707 non-null int64\n",
      "PF                55707 non-null int64\n",
      "ST                55707 non-null int64\n",
      "TO                55707 non-null int64\n",
      "BL                55707 non-null int64\n",
      "PTS_player        55707 non-null int64\n",
      "USAGE             55336 non-null float64\n",
      "DK_POS            54395 non-null object\n",
      "DK_SAL            54395 non-null object\n",
      "DK_PTS            55339 non-null object\n",
      "PTS_team          55707 non-null int64\n",
      "PACE              55707 non-null float64\n",
      "OEFF              55707 non-null float64\n",
      "DEFF              55707 non-null float64\n",
      "REST_DAYS         55707 non-null object\n",
      "OPENING_SPREAD    55707 non-null float64\n",
      "OPENING_TOTAL     55707 non-null float64\n",
      "dtypes: float64(7), int64(16), object(10)\n",
      "memory usage: 14.5+ MB\n"
     ]
    }
   ],
   "source": [
    "master.info()"
   ]
  },
  {
   "cell_type": "code",
   "execution_count": 80,
   "metadata": {},
   "outputs": [
    {
     "data": {
      "text/html": [
       "<div>\n",
       "<style>\n",
       "    .dataframe thead tr:only-child th {\n",
       "        text-align: right;\n",
       "    }\n",
       "\n",
       "    .dataframe thead th {\n",
       "        text-align: left;\n",
       "    }\n",
       "\n",
       "    .dataframe tbody tr th {\n",
       "        vertical-align: top;\n",
       "    }\n",
       "</style>\n",
       "<table border=\"1\" class=\"dataframe\">\n",
       "  <thead>\n",
       "    <tr style=\"text-align: right;\">\n",
       "      <th></th>\n",
       "      <th>DATASET</th>\n",
       "      <th>DATE</th>\n",
       "      <th>PLAYER</th>\n",
       "      <th>TEAM</th>\n",
       "      <th>OPPONENT</th>\n",
       "      <th>ROAD_HOME</th>\n",
       "      <th>MINUTES</th>\n",
       "      <th>FG</th>\n",
       "      <th>FGA</th>\n",
       "      <th>3P</th>\n",
       "      <th>...</th>\n",
       "      <th>DK_POS</th>\n",
       "      <th>DK_SAL</th>\n",
       "      <th>DK_PTS</th>\n",
       "      <th>PTS_team</th>\n",
       "      <th>PACE</th>\n",
       "      <th>OEFF</th>\n",
       "      <th>DEFF</th>\n",
       "      <th>REST_DAYS</th>\n",
       "      <th>OPENING_SPREAD</th>\n",
       "      <th>OPENING_TOTAL</th>\n",
       "    </tr>\n",
       "  </thead>\n",
       "  <tbody>\n",
       "    <tr>\n",
       "      <th>0</th>\n",
       "      <td>2016-2017 Regular Season</td>\n",
       "      <td>10/25/2016</td>\n",
       "      <td>Carmelo Anthony</td>\n",
       "      <td>New York</td>\n",
       "      <td>Cleveland</td>\n",
       "      <td>R</td>\n",
       "      <td>30.08</td>\n",
       "      <td>8</td>\n",
       "      <td>18</td>\n",
       "      <td>1</td>\n",
       "      <td>...</td>\n",
       "      <td>SF</td>\n",
       "      <td>7600</td>\n",
       "      <td>30.25</td>\n",
       "      <td>88</td>\n",
       "      <td>100.373422</td>\n",
       "      <td>87.672611</td>\n",
       "      <td>116.564721</td>\n",
       "      <td>3+</td>\n",
       "      <td>9.5</td>\n",
       "      <td>205.5</td>\n",
       "    </tr>\n",
       "    <tr>\n",
       "      <th>1</th>\n",
       "      <td>2016-2017 Regular Season</td>\n",
       "      <td>10/25/2016</td>\n",
       "      <td>Kristaps Porzingis</td>\n",
       "      <td>New York</td>\n",
       "      <td>Cleveland</td>\n",
       "      <td>R</td>\n",
       "      <td>32.80</td>\n",
       "      <td>5</td>\n",
       "      <td>13</td>\n",
       "      <td>3</td>\n",
       "      <td>...</td>\n",
       "      <td>PF</td>\n",
       "      <td>7400</td>\n",
       "      <td>31.25</td>\n",
       "      <td>88</td>\n",
       "      <td>100.373422</td>\n",
       "      <td>87.672611</td>\n",
       "      <td>116.564721</td>\n",
       "      <td>3+</td>\n",
       "      <td>9.5</td>\n",
       "      <td>205.5</td>\n",
       "    </tr>\n",
       "    <tr>\n",
       "      <th>2</th>\n",
       "      <td>2016-2017 Regular Season</td>\n",
       "      <td>10/25/2016</td>\n",
       "      <td>Joakim Noah</td>\n",
       "      <td>New York</td>\n",
       "      <td>Cleveland</td>\n",
       "      <td>R</td>\n",
       "      <td>19.52</td>\n",
       "      <td>0</td>\n",
       "      <td>1</td>\n",
       "      <td>0</td>\n",
       "      <td>...</td>\n",
       "      <td>C</td>\n",
       "      <td>5500</td>\n",
       "      <td>13.5</td>\n",
       "      <td>88</td>\n",
       "      <td>100.373422</td>\n",
       "      <td>87.672611</td>\n",
       "      <td>116.564721</td>\n",
       "      <td>3+</td>\n",
       "      <td>9.5</td>\n",
       "      <td>205.5</td>\n",
       "    </tr>\n",
       "    <tr>\n",
       "      <th>3</th>\n",
       "      <td>2016-2017 Regular Season</td>\n",
       "      <td>10/25/2016</td>\n",
       "      <td>Courtney Lee</td>\n",
       "      <td>New York</td>\n",
       "      <td>Cleveland</td>\n",
       "      <td>R</td>\n",
       "      <td>19.62</td>\n",
       "      <td>0</td>\n",
       "      <td>5</td>\n",
       "      <td>0</td>\n",
       "      <td>...</td>\n",
       "      <td>SG</td>\n",
       "      <td>3700</td>\n",
       "      <td>4.75</td>\n",
       "      <td>88</td>\n",
       "      <td>100.373422</td>\n",
       "      <td>87.672611</td>\n",
       "      <td>116.564721</td>\n",
       "      <td>3+</td>\n",
       "      <td>9.5</td>\n",
       "      <td>205.5</td>\n",
       "    </tr>\n",
       "    <tr>\n",
       "      <th>4</th>\n",
       "      <td>2016-2017 Regular Season</td>\n",
       "      <td>10/25/2016</td>\n",
       "      <td>Derrick Rose</td>\n",
       "      <td>New York</td>\n",
       "      <td>Cleveland</td>\n",
       "      <td>R</td>\n",
       "      <td>29.58</td>\n",
       "      <td>7</td>\n",
       "      <td>17</td>\n",
       "      <td>1</td>\n",
       "      <td>...</td>\n",
       "      <td>PG</td>\n",
       "      <td>5800</td>\n",
       "      <td>22.75</td>\n",
       "      <td>88</td>\n",
       "      <td>100.373422</td>\n",
       "      <td>87.672611</td>\n",
       "      <td>116.564721</td>\n",
       "      <td>3+</td>\n",
       "      <td>9.5</td>\n",
       "      <td>205.5</td>\n",
       "    </tr>\n",
       "  </tbody>\n",
       "</table>\n",
       "<p>5 rows × 33 columns</p>\n",
       "</div>"
      ],
      "text/plain": [
       "                    DATASET        DATE              PLAYER      TEAM  \\\n",
       "0  2016-2017 Regular Season  10/25/2016     Carmelo Anthony  New York   \n",
       "1  2016-2017 Regular Season  10/25/2016  Kristaps Porzingis  New York   \n",
       "2  2016-2017 Regular Season  10/25/2016         Joakim Noah  New York   \n",
       "3  2016-2017 Regular Season  10/25/2016        Courtney Lee  New York   \n",
       "4  2016-2017 Regular Season  10/25/2016        Derrick Rose  New York   \n",
       "\n",
       "    OPPONENT ROAD_HOME  MINUTES  FG  FGA  3P      ...        DK_POS  DK_SAL  \\\n",
       "0  Cleveland         R    30.08   8   18   1      ...            SF    7600   \n",
       "1  Cleveland         R    32.80   5   13   3      ...            PF    7400   \n",
       "2  Cleveland         R    19.52   0    1   0      ...             C    5500   \n",
       "3  Cleveland         R    19.62   0    5   0      ...            SG    3700   \n",
       "4  Cleveland         R    29.58   7   17   1      ...            PG    5800   \n",
       "\n",
       "   DK_PTS  PTS_team        PACE       OEFF        DEFF  REST_DAYS  \\\n",
       "0   30.25        88  100.373422  87.672611  116.564721         3+   \n",
       "1   31.25        88  100.373422  87.672611  116.564721         3+   \n",
       "2    13.5        88  100.373422  87.672611  116.564721         3+   \n",
       "3    4.75        88  100.373422  87.672611  116.564721         3+   \n",
       "4   22.75        88  100.373422  87.672611  116.564721         3+   \n",
       "\n",
       "   OPENING_SPREAD  OPENING_TOTAL  \n",
       "0             9.5          205.5  \n",
       "1             9.5          205.5  \n",
       "2             9.5          205.5  \n",
       "3             9.5          205.5  \n",
       "4             9.5          205.5  \n",
       "\n",
       "[5 rows x 33 columns]"
      ]
     },
     "execution_count": 80,
     "metadata": {},
     "output_type": "execute_result"
    }
   ],
   "source": [
    "master.head()"
   ]
  },
  {
   "cell_type": "code",
   "execution_count": 81,
   "metadata": {},
   "outputs": [
    {
     "data": {
      "text/plain": [
       "2016-2017 Regular Season    26137\n",
       "2017-2018 Regular Season    26104\n",
       "2017 Playoffs                1737\n",
       "2018 Playoffs                1729\n",
       "Name: DATASET, dtype: int64"
      ]
     },
     "execution_count": 81,
     "metadata": {},
     "output_type": "execute_result"
    }
   ],
   "source": [
    "master.DATASET.value_counts()"
   ]
  },
  {
   "cell_type": "code",
   "execution_count": 50,
   "metadata": {
    "collapsed": true
   },
   "outputs": [],
   "source": [
    "individual = master[(master.DATASET == '2017-2018 Regular Season') & (master.PLAYER == 'LeBron James')]"
   ]
  },
  {
   "cell_type": "code",
   "execution_count": 82,
   "metadata": {},
   "outputs": [
    {
     "data": {
      "text/plain": [
       "(82, 34)"
      ]
     },
     "execution_count": 82,
     "metadata": {},
     "output_type": "execute_result"
    }
   ],
   "source": [
    "individual.shape"
   ]
  },
  {
   "cell_type": "code",
   "execution_count": null,
   "metadata": {
    "collapsed": true
   },
   "outputs": [],
   "source": []
  },
  {
   "cell_type": "code",
   "execution_count": null,
   "metadata": {
    "collapsed": true
   },
   "outputs": [],
   "source": []
  },
  {
   "cell_type": "code",
   "execution_count": null,
   "metadata": {
    "collapsed": true
   },
   "outputs": [],
   "source": []
  },
  {
   "cell_type": "code",
   "execution_count": null,
   "metadata": {
    "collapsed": true
   },
   "outputs": [],
   "source": []
  },
  {
   "cell_type": "code",
   "execution_count": null,
   "metadata": {
    "collapsed": true
   },
   "outputs": [],
   "source": []
  },
  {
   "cell_type": "code",
   "execution_count": null,
   "metadata": {
    "collapsed": true
   },
   "outputs": [],
   "source": []
  },
  {
   "cell_type": "code",
   "execution_count": null,
   "metadata": {
    "collapsed": true
   },
   "outputs": [],
   "source": []
  },
  {
   "cell_type": "code",
   "execution_count": null,
   "metadata": {
    "collapsed": true
   },
   "outputs": [],
   "source": []
  },
  {
   "cell_type": "code",
   "execution_count": null,
   "metadata": {
    "collapsed": true
   },
   "outputs": [],
   "source": []
  },
  {
   "cell_type": "code",
   "execution_count": null,
   "metadata": {
    "collapsed": true
   },
   "outputs": [],
   "source": []
  },
  {
   "cell_type": "code",
   "execution_count": null,
   "metadata": {
    "collapsed": true
   },
   "outputs": [],
   "source": []
  },
  {
   "cell_type": "code",
   "execution_count": null,
   "metadata": {
    "collapsed": true
   },
   "outputs": [],
   "source": []
  },
  {
   "cell_type": "code",
   "execution_count": null,
   "metadata": {
    "collapsed": true
   },
   "outputs": [],
   "source": []
  },
  {
   "cell_type": "code",
   "execution_count": null,
   "metadata": {
    "collapsed": true
   },
   "outputs": [],
   "source": []
  },
  {
   "cell_type": "code",
   "execution_count": null,
   "metadata": {
    "collapsed": true
   },
   "outputs": [],
   "source": []
  },
  {
   "cell_type": "code",
   "execution_count": null,
   "metadata": {
    "collapsed": true
   },
   "outputs": [],
   "source": []
  },
  {
   "cell_type": "code",
   "execution_count": null,
   "metadata": {
    "collapsed": true
   },
   "outputs": [],
   "source": []
  },
  {
   "cell_type": "code",
   "execution_count": null,
   "metadata": {
    "collapsed": true
   },
   "outputs": [],
   "source": []
  },
  {
   "cell_type": "code",
   "execution_count": null,
   "metadata": {
    "collapsed": true
   },
   "outputs": [],
   "source": []
  },
  {
   "cell_type": "code",
   "execution_count": null,
   "metadata": {
    "collapsed": true
   },
   "outputs": [],
   "source": []
  },
  {
   "cell_type": "code",
   "execution_count": null,
   "metadata": {
    "collapsed": true
   },
   "outputs": [],
   "source": []
  },
  {
   "cell_type": "code",
   "execution_count": null,
   "metadata": {
    "collapsed": true
   },
   "outputs": [],
   "source": []
  },
  {
   "cell_type": "code",
   "execution_count": null,
   "metadata": {
    "collapsed": true
   },
   "outputs": [],
   "source": []
  },
  {
   "cell_type": "code",
   "execution_count": null,
   "metadata": {
    "collapsed": true
   },
   "outputs": [],
   "source": []
  },
  {
   "cell_type": "code",
   "execution_count": null,
   "metadata": {
    "collapsed": true,
    "scrolled": true
   },
   "outputs": [],
   "source": []
  },
  {
   "cell_type": "code",
   "execution_count": null,
   "metadata": {
    "collapsed": true
   },
   "outputs": [],
   "source": []
  },
  {
   "cell_type": "code",
   "execution_count": null,
   "metadata": {
    "collapsed": true
   },
   "outputs": [],
   "source": []
  },
  {
   "cell_type": "code",
   "execution_count": null,
   "metadata": {
    "collapsed": true
   },
   "outputs": [],
   "source": []
  },
  {
   "cell_type": "code",
   "execution_count": null,
   "metadata": {
    "collapsed": true
   },
   "outputs": [],
   "source": []
  },
  {
   "cell_type": "code",
   "execution_count": null,
   "metadata": {
    "collapsed": true
   },
   "outputs": [],
   "source": []
  },
  {
   "cell_type": "code",
   "execution_count": null,
   "metadata": {
    "collapsed": true
   },
   "outputs": [],
   "source": []
  },
  {
   "cell_type": "code",
   "execution_count": null,
   "metadata": {
    "collapsed": true
   },
   "outputs": [],
   "source": []
  },
  {
   "cell_type": "code",
   "execution_count": null,
   "metadata": {
    "collapsed": true
   },
   "outputs": [],
   "source": []
  },
  {
   "cell_type": "code",
   "execution_count": null,
   "metadata": {
    "collapsed": true
   },
   "outputs": [],
   "source": []
  },
  {
   "cell_type": "code",
   "execution_count": null,
   "metadata": {
    "collapsed": true
   },
   "outputs": [],
   "source": []
  },
  {
   "cell_type": "code",
   "execution_count": null,
   "metadata": {
    "collapsed": true
   },
   "outputs": [],
   "source": []
  },
  {
   "cell_type": "code",
   "execution_count": null,
   "metadata": {
    "collapsed": true
   },
   "outputs": [],
   "source": []
  },
  {
   "cell_type": "code",
   "execution_count": null,
   "metadata": {
    "collapsed": true
   },
   "outputs": [],
   "source": []
  },
  {
   "cell_type": "code",
   "execution_count": null,
   "metadata": {
    "collapsed": true
   },
   "outputs": [],
   "source": []
  },
  {
   "cell_type": "code",
   "execution_count": null,
   "metadata": {
    "collapsed": true
   },
   "outputs": [],
   "source": []
  },
  {
   "cell_type": "code",
   "execution_count": null,
   "metadata": {
    "collapsed": true
   },
   "outputs": [],
   "source": []
  }
 ],
 "metadata": {
  "kernelspec": {
   "display_name": "Python 3",
   "language": "python",
   "name": "python3"
  },
  "language_info": {
   "codemirror_mode": {
    "name": "ipython",
    "version": 3
   },
   "file_extension": ".py",
   "mimetype": "text/x-python",
   "name": "python",
   "nbconvert_exporter": "python",
   "pygments_lexer": "ipython3",
   "version": "3.6.3"
  }
 },
 "nbformat": 4,
 "nbformat_minor": 2
}
