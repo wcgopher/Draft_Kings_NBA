{
 "cells": [
  {
   "cell_type": "code",
   "execution_count": 1,
   "metadata": {
    "collapsed": true
   },
   "outputs": [],
   "source": [
    "import pandas as pd"
   ]
  },
  {
   "cell_type": "code",
   "execution_count": 2,
   "metadata": {
    "collapsed": true
   },
   "outputs": [],
   "source": [
    "team_2012_2013 = pd.read_excel('/Users/willhall/Desktop/python_projects/DraftKings/2012-2013_NBA_Box_Score_Team_Stats.xlsx')\n",
    "team_2013_2014 = pd.read_excel('/Users/willhall/Desktop/python_projects/DraftKings/2013-2014_NBA_Box_Score_Team-Stats.xlsx')\n",
    "team_2014_2015 = pd.read_excel('/Users/willhall/Desktop/python_projects/DraftKings/2014-2015_NBA_Box_Score_Team-Stats.xlsx')\n",
    "team_2015_2016 = pd.read_excel('/Users/willhall/Desktop/python_projects/DraftKings/2015-2016_NBA_Box_Score_Team-Stats.xlsx')\n",
    "team_2016_2017 = pd.read_excel('/Users/willhall/Desktop/python_projects/DraftKings/2016-2017_NBA_Box_Score_Team-Stats.xlsx')\n",
    "team_2017_2018 = pd.read_excel('/Users/willhall/Desktop/python_projects/DraftKings/2017-2018_NBA_Box_Score_Team-Stats.xlsx')\n",
    "player_2012_2013 = pd.read_excel('/Users/willhall/Desktop/python_projects/DraftKings/NBA-2012-2013-Player-BoxScore-Dataset.xlsx')\n",
    "player_2013_2014 = pd.read_excel('/Users/willhall/Desktop/python_projects/DraftKings/NBA-2013-2014-Player-BoxScore-Dataset.xlsx')\n",
    "player_2014_2015 = pd.read_excel('/Users/willhall/Desktop/python_projects/DraftKings/NBA-2014-2015-Player-BoxScore-Dataset.xlsx')\n",
    "player_2015_2016 = pd.read_excel('/Users/willhall/Desktop/python_projects/DraftKings/NBA-2015-2016-Player-BoxScore-Dataset.xlsx')\n",
    "player_2016_2017 = pd.read_excel('/Users/willhall/Desktop/python_projects/DraftKings/NBA-2016-2017-Player-BoxScore-Dataset.xlsx')\n",
    "player_2017_2018 = pd.read_excel('/Users/willhall/Desktop/python_projects/DraftKings/NBA-2017-2018-Player-BoxScore-Dataset.xlsx')\n",
    "DFS_2016_2017 = pd.read_excel('/Users/willhall/Desktop/python_projects/DraftKings/NBA-2016-2017-DFS-Dataset.xlsx')\n",
    "DFS_2017_2018 = pd.read_excel('/Users/willhall/Desktop/python_projects/DraftKings/NBA-2017-2018-DFS-Dataset.xlsx')"
   ]
  },
  {
   "cell_type": "code",
   "execution_count": 3,
   "metadata": {
    "collapsed": true
   },
   "outputs": [],
   "source": [
    "teams = [team_2012_2013,team_2013_2014,team_2014_2015,team_2015_2016,team_2016_2017,team_2017_2018]\n",
    "team_stats = pd.concat(teams)"
   ]
  },
  {
   "cell_type": "code",
   "execution_count": 4,
   "metadata": {
    "collapsed": true
   },
   "outputs": [],
   "source": [
    "players = [player_2012_2013,player_2013_2014,player_2014_2015,player_2015_2016,player_2016_2017,player_2017_2018]\n",
    "player_stats = pd.concat(players)"
   ]
  },
  {
   "cell_type": "code",
   "execution_count": 5,
   "metadata": {
    "collapsed": true
   },
   "outputs": [],
   "source": [
    "DFS = pd.concat([DFS_2016_2017,DFS_2017_2018])"
   ]
  },
  {
   "cell_type": "code",
   "execution_count": 11,
   "metadata": {},
   "outputs": [
    {
     "name": "stdout",
     "output_type": "stream",
     "text": [
      "(55709, 17) (15762, 57) (166379, 23)\n"
     ]
    }
   ],
   "source": [
    "print(DFS.shape, team_stats.shape, player_stats.shape)"
   ]
  },
  {
   "cell_type": "code",
   "execution_count": 15,
   "metadata": {},
   "outputs": [
    {
     "name": "stdout",
     "output_type": "stream",
     "text": [
      "Index(['DATASET', 'DATE', 'PLAYER', 'TEAM', 'OPPONENT', 'VENUE\\nR/H',\n",
      "       'MINUTES', 'USAGE \\nRATE (%)', 'POSITION', 'Unnamed: 9', 'Unnamed: 10',\n",
      "       'SALARY ($)', 'Unnamed: 12', 'Unnamed: 13', 'FANTASY POINTS SCORED',\n",
      "       'Unnamed: 15', 'Unnamed: 16'],\n",
      "      dtype='object') Index(['1Q', '2Q', '3P', '3PA', '3Q', '4Q', 'A', 'BL', 'BOX SCORE', 'CLOSING',\n",
      "       'CLOSING ODDS', 'CREW', 'CREW REFEREES', 'DATASET', 'DATE', 'DEFF',\n",
      "       'DR', 'F', 'FG', 'FGA', 'FT', 'FTA', 'HALFTIME', 'MAIN REF',\n",
      "       'MAIN REFEREE', 'MIN', 'MONEYLINE', 'MOVEMENTS', 'ODDS', 'OEFF',\n",
      "       'OPENING ODDS', 'OPENING SPREAD', 'OPENING TOTAL', 'OR', 'OT1', 'OT2',\n",
      "       'OT3', 'OT4', 'PACE', 'PF', 'POSS', 'PTS', 'REST DAYS', 'SPREAD', 'ST',\n",
      "       'STARTING LINEUPS', 'TEAMS', 'TO', 'TO TO', 'TOT', 'TOTAL',\n",
      "       'Unnamed: 35', 'Unnamed: 36', 'Unnamed: 37', 'Unnamed: 38',\n",
      "       'Unnamed: 39', 'VENUE'],\n",
      "      dtype='object') Index(['DATA SET', 'DATE', 'PLAYER FULL NAME', 'POSITION', 'OWN TEAM',\n",
      "       'OPP TEAM', 'VENUE (R/H)', 'MIN', 'FG', 'FGA', '3P', '3PA', 'FT', 'FTA',\n",
      "       'OR', 'DR', 'TOT', 'A', 'PF', 'ST', 'TO', 'BL', 'PTS'],\n",
      "      dtype='object')\n"
     ]
    }
   ],
   "source": [
    "print(DFS.columns,team_stats.columns,player_stats.columns)"
   ]
  },
  {
   "cell_type": "code",
   "execution_count": null,
   "metadata": {
    "collapsed": true
   },
   "outputs": [],
   "source": [
    "DFS.rolling()"
   ]
  },
  {
   "cell_type": "code",
   "execution_count": null,
   "metadata": {
    "collapsed": true
   },
   "outputs": [],
   "source": []
  }
 ],
 "metadata": {
  "kernelspec": {
   "display_name": "Python 3",
   "language": "python",
   "name": "python3"
  },
  "language_info": {
   "codemirror_mode": {
    "name": "ipython",
    "version": 3
   },
   "file_extension": ".py",
   "mimetype": "text/x-python",
   "name": "python",
   "nbconvert_exporter": "python",
   "pygments_lexer": "ipython3",
   "version": "3.6.3"
  }
 },
 "nbformat": 4,
 "nbformat_minor": 2
}
